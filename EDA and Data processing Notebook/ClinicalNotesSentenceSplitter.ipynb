{
 "cells": [
  {
   "cell_type": "code",
   "execution_count": 1,
   "metadata": {
    "_cell_guid": "b1076dfc-b9ad-4769-8c92-a6c4dae69d19",
    "_uuid": "8f2839f25d086af736a60e9eeb907d3b93b6e0e5",
    "execution": {
     "iopub.execute_input": "2025-07-17T04:04:17.073396Z",
     "iopub.status.busy": "2025-07-17T04:04:17.073203Z",
     "iopub.status.idle": "2025-07-17T04:04:18.849489Z",
     "shell.execute_reply": "2025-07-17T04:04:18.848771Z",
     "shell.execute_reply.started": "2025-07-17T04:04:17.073379Z"
    },
    "trusted": true
   },
   "outputs": [
    {
     "name": "stdout",
     "output_type": "stream",
     "text": [
      "/kaggle/input/nhl-split-sentences/NHL_cli_notes_split_all_note_types_ka.pkl\n",
      "/kaggle/input/nhl-reccurence-all-notes-types/nhl_data_clinical_notes_only_all_note_types.pkl\n",
      "/kaggle/input/nhl-test-pids/NHL_test_patient_ids.pkl\n"
     ]
    }
   ],
   "source": [
    "# This Python 3 environment comes with many helpful analytics libraries installed\n",
    "# It is defined by the kaggle/python Docker image: https://github.com/kaggle/docker-python\n",
    "# For example, here's several helpful packages to load\n",
    "\n",
    "import numpy as np # linear algebra\n",
    "import pandas as pd # data processing, CSV file I/O (e.g. pd.read_csv)\n",
    "from tqdm import tqdm\n",
    "# Input data files are available in the read-only \"../input/\" directory\n",
    "# For example, running this (by clicking run or pressing Shift+Enter) will list all files under the input directory\n",
    "\n",
    "import os\n",
    "for dirname, _, filenames in os.walk('/kaggle/input'):\n",
    "    for filename in filenames:\n",
    "        print(os.path.join(dirname, filename))\n",
    "\n",
    "# You can write up to 20GB to the current directory (/kaggle/working/) that gets preserved as output when you create a version using \"Save & Run All\" \n",
    "# You can also write temporary files to /kaggle/temp/, but they won't be saved outside of the current session"
   ]
  },
  {
   "cell_type": "code",
   "execution_count": 2,
   "metadata": {
    "execution": {
     "iopub.execute_input": "2025-07-17T04:04:18.851423Z",
     "iopub.status.busy": "2025-07-17T04:04:18.851143Z",
     "iopub.status.idle": "2025-07-17T04:04:59.904929Z",
     "shell.execute_reply": "2025-07-17T04:04:59.904268Z",
     "shell.execute_reply.started": "2025-07-17T04:04:18.851406Z"
    },
    "trusted": true
   },
   "outputs": [
    {
     "name": "stdout",
     "output_type": "stream",
     "text": [
      "\u001b[2K     \u001b[90m━━━━━━━━━━━━━━━━━━━━━━━━━━━━━━━━━━━━━━━━\u001b[0m \u001b[32m310.8/310.8 MB\u001b[0m \u001b[31m5.9 MB/s\u001b[0m eta \u001b[36m0:00:00\u001b[0m0:00:01\u001b[0m00:01\u001b[0m\n",
      "\u001b[?25h  Preparing metadata (setup.py) ... \u001b[?25l\u001b[?25hdone\n",
      "\u001b[2K     \u001b[90m━━━━━━━━━━━━━━━━━━━━━━━━━━━━━━━━━━━━━━━━\u001b[0m \u001b[32m57.1/57.1 kB\u001b[0m \u001b[31m4.3 MB/s\u001b[0m eta \u001b[36m0:00:00\u001b[0m\n",
      "\u001b[2K   \u001b[90m━━━━━━━━━━━━━━━━━━━━━━━━━━━━━━━━━━━━━━━━\u001b[0m \u001b[32m565.0/565.0 kB\u001b[0m \u001b[31m32.3 MB/s\u001b[0m eta \u001b[36m0:00:00\u001b[0m\n",
      "\u001b[?25h  Building wheel for pyspark (setup.py) ... \u001b[?25l\u001b[?25hdone\n",
      "\u001b[31mERROR: pip's dependency resolver does not currently take into account all the packages that are installed. This behaviour is the source of the following dependency conflicts.\n",
      "google-spark-connect 0.5.2 requires google-api-core>=2.19.1, but you have google-api-core 1.34.1 which is incompatible.\n",
      "google-spark-connect 0.5.2 requires pyspark>=3.5, but you have pyspark 3.4.1 which is incompatible.\u001b[0m\u001b[31m\n",
      "\u001b[0m"
     ]
    }
   ],
   "source": [
    "!pip install -q pyspark==3.4.1  spark-nlp==5.3.2 -q"
   ]
  },
  {
   "cell_type": "code",
   "execution_count": 3,
   "metadata": {
    "collapsed": true,
    "execution": {
     "iopub.execute_input": "2025-07-17T04:04:59.906220Z",
     "iopub.status.busy": "2025-07-17T04:04:59.905942Z",
     "iopub.status.idle": "2025-07-17T04:05:34.212677Z",
     "shell.execute_reply": "2025-07-17T04:05:34.210748Z",
     "shell.execute_reply.started": "2025-07-17T04:04:59.906198Z"
    },
    "jupyter": {
     "outputs_hidden": true
    },
    "trusted": true
   },
   "outputs": [
    {
     "name": "stdout",
     "output_type": "stream",
     "text": [
      ":: loading settings :: url = jar:file:/usr/local/lib/python3.11/dist-packages/pyspark/jars/ivy-2.5.1.jar!/org/apache/ivy/core/settings/ivysettings.xml\n"
     ]
    },
    {
     "name": "stderr",
     "output_type": "stream",
     "text": [
      "Ivy Default Cache set to: /root/.ivy2/cache\n",
      "The jars for the packages stored in: /root/.ivy2/jars\n",
      "com.johnsnowlabs.nlp#spark-nlp_2.12 added as a dependency\n",
      ":: resolving dependencies :: org.apache.spark#spark-submit-parent-51ddfd51-9f87-4de3-8768-57cff5c0a8b5;1.0\n",
      "\tconfs: [default]\n",
      "\tfound com.johnsnowlabs.nlp#spark-nlp_2.12;5.3.2 in central\n",
      "\tfound com.typesafe#config;1.4.2 in central\n",
      "\tfound org.rocksdb#rocksdbjni;6.29.5 in central\n",
      "\tfound com.amazonaws#aws-java-sdk-s3;1.12.500 in central\n",
      "\tfound com.amazonaws#aws-java-sdk-kms;1.12.500 in central\n",
      "\tfound com.amazonaws#aws-java-sdk-core;1.12.500 in central\n",
      "\tfound commons-logging#commons-logging;1.1.3 in central\n",
      "\tfound commons-codec#commons-codec;1.15 in central\n",
      "\tfound org.apache.httpcomponents#httpclient;4.5.13 in central\n",
      "\tfound org.apache.httpcomponents#httpcore;4.4.13 in central\n",
      "\tfound software.amazon.ion#ion-java;1.0.2 in central\n",
      "\tfound joda-time#joda-time;2.8.1 in central\n",
      "\tfound com.amazonaws#jmespath-java;1.12.500 in central\n",
      "\tfound com.github.universal-automata#liblevenshtein;3.0.0 in central\n",
      "\tfound com.google.protobuf#protobuf-java-util;3.0.0-beta-3 in central\n",
      "\tfound com.google.protobuf#protobuf-java;3.0.0-beta-3 in central\n",
      "\tfound com.google.code.gson#gson;2.3 in central\n",
      "\tfound it.unimi.dsi#fastutil;7.0.12 in central\n",
      "\tfound org.projectlombok#lombok;1.16.8 in central\n",
      "\tfound com.google.cloud#google-cloud-storage;2.20.1 in central\n",
      "\tfound com.google.guava#guava;31.1-jre in central\n",
      "\tfound com.google.guava#failureaccess;1.0.1 in central\n",
      "\tfound com.google.guava#listenablefuture;9999.0-empty-to-avoid-conflict-with-guava in central\n",
      "\tfound com.google.errorprone#error_prone_annotations;2.18.0 in central\n",
      "\tfound com.google.j2objc#j2objc-annotations;1.3 in central\n",
      "\tfound com.google.http-client#google-http-client;1.43.0 in central\n",
      "\tfound io.opencensus#opencensus-contrib-http-util;0.31.1 in central\n",
      "\tfound com.google.http-client#google-http-client-jackson2;1.43.0 in central\n",
      "\tfound com.google.http-client#google-http-client-gson;1.43.0 in central\n",
      "\tfound com.google.api-client#google-api-client;2.2.0 in central\n",
      "\tfound com.google.oauth-client#google-oauth-client;1.34.1 in central\n",
      "\tfound com.google.http-client#google-http-client-apache-v2;1.43.0 in central\n",
      "\tfound com.google.apis#google-api-services-storage;v1-rev20220705-2.0.0 in central\n",
      "\tfound com.google.code.gson#gson;2.10.1 in central\n",
      "\tfound com.google.cloud#google-cloud-core;2.12.0 in central\n",
      "\tfound io.grpc#grpc-context;1.53.0 in central\n",
      "\tfound com.google.auto.value#auto-value-annotations;1.10.1 in central\n",
      "\tfound com.google.auto.value#auto-value;1.10.1 in central\n",
      "\tfound javax.annotation#javax.annotation-api;1.3.2 in central\n",
      "\tfound com.google.cloud#google-cloud-core-http;2.12.0 in central\n",
      "\tfound com.google.http-client#google-http-client-appengine;1.43.0 in central\n",
      "\tfound com.google.api#gax-httpjson;0.108.2 in central\n",
      "\tfound com.google.cloud#google-cloud-core-grpc;2.12.0 in central\n",
      "\tfound io.grpc#grpc-alts;1.53.0 in central\n",
      "\tfound io.grpc#grpc-grpclb;1.53.0 in central\n",
      "\tfound org.conscrypt#conscrypt-openjdk-uber;2.5.2 in central\n",
      "\tfound io.grpc#grpc-auth;1.53.0 in central\n",
      "\tfound io.grpc#grpc-protobuf;1.53.0 in central\n",
      "\tfound io.grpc#grpc-protobuf-lite;1.53.0 in central\n",
      "\tfound io.grpc#grpc-core;1.53.0 in central\n",
      "\tfound com.google.api#gax;2.23.2 in central\n",
      "\tfound com.google.api#gax-grpc;2.23.2 in central\n",
      "\tfound com.google.auth#google-auth-library-credentials;1.16.0 in central\n",
      "\tfound com.google.auth#google-auth-library-oauth2-http;1.16.0 in central\n",
      "\tfound com.google.api#api-common;2.6.2 in central\n",
      "\tfound io.opencensus#opencensus-api;0.31.1 in central\n",
      "\tfound com.google.api.grpc#proto-google-iam-v1;1.9.2 in central\n",
      "\tfound com.google.protobuf#protobuf-java;3.21.12 in central\n",
      "\tfound com.google.protobuf#protobuf-java-util;3.21.12 in central\n",
      "\tfound com.google.api.grpc#proto-google-common-protos;2.14.2 in central\n",
      "\tfound org.threeten#threetenbp;1.6.5 in central\n",
      "\tfound com.google.api.grpc#proto-google-cloud-storage-v2;2.20.1-alpha in central\n",
      "\tfound com.google.api.grpc#grpc-google-cloud-storage-v2;2.20.1-alpha in central\n",
      "\tfound com.google.api.grpc#gapic-google-cloud-storage-v2;2.20.1-alpha in central\n",
      "\tfound com.google.code.findbugs#jsr305;3.0.2 in central\n",
      "\tfound io.grpc#grpc-api;1.53.0 in central\n",
      "\tfound io.grpc#grpc-stub;1.53.0 in central\n",
      "\tfound org.checkerframework#checker-qual;3.31.0 in central\n",
      "\tfound io.perfmark#perfmark-api;0.26.0 in central\n",
      "\tfound com.google.android#annotations;4.1.1.4 in central\n",
      "\tfound org.codehaus.mojo#animal-sniffer-annotations;1.22 in central\n",
      "\tfound io.opencensus#opencensus-proto;0.2.0 in central\n",
      "\tfound io.grpc#grpc-services;1.53.0 in central\n",
      "\tfound com.google.re2j#re2j;1.6 in central\n",
      "\tfound io.grpc#grpc-netty-shaded;1.53.0 in central\n",
      "\tfound io.grpc#grpc-googleapis;1.53.0 in central\n",
      "\tfound io.grpc#grpc-xds;1.53.0 in central\n",
      "\tfound com.navigamez#greex;1.0 in central\n",
      "\tfound dk.brics.automaton#automaton;1.11-8 in central\n",
      "\tfound com.johnsnowlabs.nlp#tensorflow-cpu_2.12;0.4.4 in central\n",
      "\tfound com.microsoft.onnxruntime#onnxruntime;1.17.0 in central\n",
      "downloading https://repo1.maven.org/maven2/com/johnsnowlabs/nlp/spark-nlp_2.12/5.3.2/spark-nlp_2.12-5.3.2.jar ...\n",
      "\t[SUCCESSFUL ] com.johnsnowlabs.nlp#spark-nlp_2.12;5.3.2!spark-nlp_2.12.jar (757ms)\n",
      "downloading https://repo1.maven.org/maven2/com/typesafe/config/1.4.2/config-1.4.2.jar ...\n",
      "\t[SUCCESSFUL ] com.typesafe#config;1.4.2!config.jar(bundle) (29ms)\n",
      "downloading https://repo1.maven.org/maven2/org/rocksdb/rocksdbjni/6.29.5/rocksdbjni-6.29.5.jar ...\n",
      "\t[SUCCESSFUL ] org.rocksdb#rocksdbjni;6.29.5!rocksdbjni.jar (401ms)\n",
      "downloading https://repo1.maven.org/maven2/com/amazonaws/aws-java-sdk-s3/1.12.500/aws-java-sdk-s3-1.12.500.jar ...\n",
      "\t[SUCCESSFUL ] com.amazonaws#aws-java-sdk-s3;1.12.500!aws-java-sdk-s3.jar (39ms)\n",
      "downloading https://repo1.maven.org/maven2/com/github/universal-automata/liblevenshtein/3.0.0/liblevenshtein-3.0.0.jar ...\n",
      "\t[SUCCESSFUL ] com.github.universal-automata#liblevenshtein;3.0.0!liblevenshtein.jar (30ms)\n",
      "downloading https://repo1.maven.org/maven2/com/google/cloud/google-cloud-storage/2.20.1/google-cloud-storage-2.20.1.jar ...\n",
      "\t[SUCCESSFUL ] com.google.cloud#google-cloud-storage;2.20.1!google-cloud-storage.jar (32ms)\n",
      "downloading https://repo1.maven.org/maven2/com/navigamez/greex/1.0/greex-1.0.jar ...\n",
      "\t[SUCCESSFUL ] com.navigamez#greex;1.0!greex.jar (25ms)\n",
      "downloading https://repo1.maven.org/maven2/com/johnsnowlabs/nlp/tensorflow-cpu_2.12/0.4.4/tensorflow-cpu_2.12-0.4.4.jar ...\n",
      "\t[SUCCESSFUL ] com.johnsnowlabs.nlp#tensorflow-cpu_2.12;0.4.4!tensorflow-cpu_2.12.jar (2104ms)\n",
      "downloading https://repo1.maven.org/maven2/com/microsoft/onnxruntime/onnxruntime/1.17.0/onnxruntime-1.17.0.jar ...\n",
      "\t[SUCCESSFUL ] com.microsoft.onnxruntime#onnxruntime;1.17.0!onnxruntime.jar (1001ms)\n",
      "downloading https://repo1.maven.org/maven2/com/amazonaws/aws-java-sdk-kms/1.12.500/aws-java-sdk-kms-1.12.500.jar ...\n",
      "\t[SUCCESSFUL ] com.amazonaws#aws-java-sdk-kms;1.12.500!aws-java-sdk-kms.jar (36ms)\n",
      "downloading https://repo1.maven.org/maven2/com/amazonaws/aws-java-sdk-core/1.12.500/aws-java-sdk-core-1.12.500.jar ...\n",
      "\t[SUCCESSFUL ] com.amazonaws#aws-java-sdk-core;1.12.500!aws-java-sdk-core.jar (40ms)\n",
      "downloading https://repo1.maven.org/maven2/com/amazonaws/jmespath-java/1.12.500/jmespath-java-1.12.500.jar ...\n",
      "\t[SUCCESSFUL ] com.amazonaws#jmespath-java;1.12.500!jmespath-java.jar (27ms)\n",
      "downloading https://repo1.maven.org/maven2/commons-logging/commons-logging/1.1.3/commons-logging-1.1.3.jar ...\n",
      "\t[SUCCESSFUL ] commons-logging#commons-logging;1.1.3!commons-logging.jar (26ms)\n",
      "downloading https://repo1.maven.org/maven2/commons-codec/commons-codec/1.15/commons-codec-1.15.jar ...\n",
      "\t[SUCCESSFUL ] commons-codec#commons-codec;1.15!commons-codec.jar (28ms)\n",
      "downloading https://repo1.maven.org/maven2/org/apache/httpcomponents/httpclient/4.5.13/httpclient-4.5.13.jar ...\n",
      "\t[SUCCESSFUL ] org.apache.httpcomponents#httpclient;4.5.13!httpclient.jar (30ms)\n",
      "downloading https://repo1.maven.org/maven2/software/amazon/ion/ion-java/1.0.2/ion-java-1.0.2.jar ...\n",
      "\t[SUCCESSFUL ] software.amazon.ion#ion-java;1.0.2!ion-java.jar(bundle) (31ms)\n",
      "downloading https://repo1.maven.org/maven2/joda-time/joda-time/2.8.1/joda-time-2.8.1.jar ...\n",
      "\t[SUCCESSFUL ] joda-time#joda-time;2.8.1!joda-time.jar (34ms)\n",
      "downloading https://repo1.maven.org/maven2/org/apache/httpcomponents/httpcore/4.4.13/httpcore-4.4.13.jar ...\n",
      "\t[SUCCESSFUL ] org.apache.httpcomponents#httpcore;4.4.13!httpcore.jar (29ms)\n",
      "downloading https://repo1.maven.org/maven2/it/unimi/dsi/fastutil/7.0.12/fastutil-7.0.12.jar ...\n",
      "\t[SUCCESSFUL ] it.unimi.dsi#fastutil;7.0.12!fastutil.jar (287ms)\n",
      "downloading https://repo1.maven.org/maven2/org/projectlombok/lombok/1.16.8/lombok-1.16.8.jar ...\n",
      "\t[SUCCESSFUL ] org.projectlombok#lombok;1.16.8!lombok.jar (45ms)\n",
      "downloading https://repo1.maven.org/maven2/com/google/guava/guava/31.1-jre/guava-31.1-jre.jar ...\n",
      "\t[SUCCESSFUL ] com.google.guava#guava;31.1-jre!guava.jar(bundle) (53ms)\n",
      "downloading https://repo1.maven.org/maven2/com/google/guava/failureaccess/1.0.1/failureaccess-1.0.1.jar ...\n",
      "\t[SUCCESSFUL ] com.google.guava#failureaccess;1.0.1!failureaccess.jar(bundle) (23ms)\n",
      "downloading https://repo1.maven.org/maven2/com/google/guava/listenablefuture/9999.0-empty-to-avoid-conflict-with-guava/listenablefuture-9999.0-empty-to-avoid-conflict-with-guava.jar ...\n",
      "\t[SUCCESSFUL ] com.google.guava#listenablefuture;9999.0-empty-to-avoid-conflict-with-guava!listenablefuture.jar (24ms)\n",
      "downloading https://repo1.maven.org/maven2/com/google/errorprone/error_prone_annotations/2.18.0/error_prone_annotations-2.18.0.jar ...\n",
      "\t[SUCCESSFUL ] com.google.errorprone#error_prone_annotations;2.18.0!error_prone_annotations.jar (24ms)\n",
      "downloading https://repo1.maven.org/maven2/com/google/j2objc/j2objc-annotations/1.3/j2objc-annotations-1.3.jar ...\n",
      "\t[SUCCESSFUL ] com.google.j2objc#j2objc-annotations;1.3!j2objc-annotations.jar (24ms)\n",
      "downloading https://repo1.maven.org/maven2/com/google/http-client/google-http-client/1.43.0/google-http-client-1.43.0.jar ...\n",
      "\t[SUCCESSFUL ] com.google.http-client#google-http-client;1.43.0!google-http-client.jar (29ms)\n",
      "downloading https://repo1.maven.org/maven2/io/opencensus/opencensus-contrib-http-util/0.31.1/opencensus-contrib-http-util-0.31.1.jar ...\n",
      "\t[SUCCESSFUL ] io.opencensus#opencensus-contrib-http-util;0.31.1!opencensus-contrib-http-util.jar (24ms)\n",
      "downloading https://repo1.maven.org/maven2/com/google/http-client/google-http-client-jackson2/1.43.0/google-http-client-jackson2-1.43.0.jar ...\n",
      "\t[SUCCESSFUL ] com.google.http-client#google-http-client-jackson2;1.43.0!google-http-client-jackson2.jar (28ms)\n",
      "downloading https://repo1.maven.org/maven2/com/google/http-client/google-http-client-gson/1.43.0/google-http-client-gson-1.43.0.jar ...\n",
      "\t[SUCCESSFUL ] com.google.http-client#google-http-client-gson;1.43.0!google-http-client-gson.jar (26ms)\n",
      "downloading https://repo1.maven.org/maven2/com/google/api-client/google-api-client/2.2.0/google-api-client-2.2.0.jar ...\n",
      "\t[SUCCESSFUL ] com.google.api-client#google-api-client;2.2.0!google-api-client.jar (30ms)\n",
      "downloading https://repo1.maven.org/maven2/com/google/oauth-client/google-oauth-client/1.34.1/google-oauth-client-1.34.1.jar ...\n",
      "\t[SUCCESSFUL ] com.google.oauth-client#google-oauth-client;1.34.1!google-oauth-client.jar (28ms)\n",
      "downloading https://repo1.maven.org/maven2/com/google/http-client/google-http-client-apache-v2/1.43.0/google-http-client-apache-v2-1.43.0.jar ...\n",
      "\t[SUCCESSFUL ] com.google.http-client#google-http-client-apache-v2;1.43.0!google-http-client-apache-v2.jar (28ms)\n",
      "downloading https://repo1.maven.org/maven2/com/google/apis/google-api-services-storage/v1-rev20220705-2.0.0/google-api-services-storage-v1-rev20220705-2.0.0.jar ...\n",
      "\t[SUCCESSFUL ] com.google.apis#google-api-services-storage;v1-rev20220705-2.0.0!google-api-services-storage.jar (28ms)\n",
      "downloading https://repo1.maven.org/maven2/com/google/code/gson/gson/2.10.1/gson-2.10.1.jar ...\n",
      "\t[SUCCESSFUL ] com.google.code.gson#gson;2.10.1!gson.jar (26ms)\n",
      "downloading https://repo1.maven.org/maven2/com/google/cloud/google-cloud-core/2.12.0/google-cloud-core-2.12.0.jar ...\n",
      "\t[SUCCESSFUL ] com.google.cloud#google-cloud-core;2.12.0!google-cloud-core.jar (29ms)\n",
      "downloading https://repo1.maven.org/maven2/io/grpc/grpc-context/1.53.0/grpc-context-1.53.0.jar ...\n",
      "\t[SUCCESSFUL ] io.grpc#grpc-context;1.53.0!grpc-context.jar (28ms)\n",
      "downloading https://repo1.maven.org/maven2/com/google/auto/value/auto-value-annotations/1.10.1/auto-value-annotations-1.10.1.jar ...\n",
      "\t[SUCCESSFUL ] com.google.auto.value#auto-value-annotations;1.10.1!auto-value-annotations.jar (25ms)\n",
      "downloading https://repo1.maven.org/maven2/com/google/auto/value/auto-value/1.10.1/auto-value-1.10.1.jar ...\n",
      "\t[SUCCESSFUL ] com.google.auto.value#auto-value;1.10.1!auto-value.jar (75ms)\n",
      "downloading https://repo1.maven.org/maven2/javax/annotation/javax.annotation-api/1.3.2/javax.annotation-api-1.3.2.jar ...\n",
      "\t[SUCCESSFUL ] javax.annotation#javax.annotation-api;1.3.2!javax.annotation-api.jar (25ms)\n",
      "downloading https://repo1.maven.org/maven2/com/google/cloud/google-cloud-core-http/2.12.0/google-cloud-core-http-2.12.0.jar ...\n",
      "\t[SUCCESSFUL ] com.google.cloud#google-cloud-core-http;2.12.0!google-cloud-core-http.jar (26ms)\n",
      "downloading https://repo1.maven.org/maven2/com/google/http-client/google-http-client-appengine/1.43.0/google-http-client-appengine-1.43.0.jar ...\n",
      "\t[SUCCESSFUL ] com.google.http-client#google-http-client-appengine;1.43.0!google-http-client-appengine.jar (30ms)\n",
      "downloading https://repo1.maven.org/maven2/com/google/api/gax-httpjson/0.108.2/gax-httpjson-0.108.2.jar ...\n",
      "\t[SUCCESSFUL ] com.google.api#gax-httpjson;0.108.2!gax-httpjson.jar (29ms)\n",
      "downloading https://repo1.maven.org/maven2/com/google/cloud/google-cloud-core-grpc/2.12.0/google-cloud-core-grpc-2.12.0.jar ...\n",
      "\t[SUCCESSFUL ] com.google.cloud#google-cloud-core-grpc;2.12.0!google-cloud-core-grpc.jar (35ms)\n",
      "downloading https://repo1.maven.org/maven2/io/grpc/grpc-alts/1.53.0/grpc-alts-1.53.0.jar ...\n",
      "\t[SUCCESSFUL ] io.grpc#grpc-alts;1.53.0!grpc-alts.jar (32ms)\n",
      "downloading https://repo1.maven.org/maven2/io/grpc/grpc-grpclb/1.53.0/grpc-grpclb-1.53.0.jar ...\n",
      "\t[SUCCESSFUL ] io.grpc#grpc-grpclb;1.53.0!grpc-grpclb.jar (30ms)\n",
      "downloading https://repo1.maven.org/maven2/org/conscrypt/conscrypt-openjdk-uber/2.5.2/conscrypt-openjdk-uber-2.5.2.jar ...\n",
      "\t[SUCCESSFUL ] org.conscrypt#conscrypt-openjdk-uber;2.5.2!conscrypt-openjdk-uber.jar (68ms)\n",
      "downloading https://repo1.maven.org/maven2/io/grpc/grpc-auth/1.53.0/grpc-auth-1.53.0.jar ...\n",
      "\t[SUCCESSFUL ] io.grpc#grpc-auth;1.53.0!grpc-auth.jar (28ms)\n",
      "downloading https://repo1.maven.org/maven2/io/grpc/grpc-protobuf/1.53.0/grpc-protobuf-1.53.0.jar ...\n",
      "\t[SUCCESSFUL ] io.grpc#grpc-protobuf;1.53.0!grpc-protobuf.jar (26ms)\n",
      "downloading https://repo1.maven.org/maven2/io/grpc/grpc-protobuf-lite/1.53.0/grpc-protobuf-lite-1.53.0.jar ...\n",
      "\t[SUCCESSFUL ] io.grpc#grpc-protobuf-lite;1.53.0!grpc-protobuf-lite.jar (29ms)\n",
      "downloading https://repo1.maven.org/maven2/io/grpc/grpc-core/1.53.0/grpc-core-1.53.0.jar ...\n",
      "\t[SUCCESSFUL ] io.grpc#grpc-core;1.53.0!grpc-core.jar (34ms)\n",
      "downloading https://repo1.maven.org/maven2/com/google/api/gax/2.23.2/gax-2.23.2.jar ...\n",
      "\t[SUCCESSFUL ] com.google.api#gax;2.23.2!gax.jar (32ms)\n",
      "downloading https://repo1.maven.org/maven2/com/google/api/gax-grpc/2.23.2/gax-grpc-2.23.2.jar ...\n",
      "\t[SUCCESSFUL ] com.google.api#gax-grpc;2.23.2!gax-grpc.jar (27ms)\n",
      "downloading https://repo1.maven.org/maven2/com/google/auth/google-auth-library-credentials/1.16.0/google-auth-library-credentials-1.16.0.jar ...\n",
      "\t[SUCCESSFUL ] com.google.auth#google-auth-library-credentials;1.16.0!google-auth-library-credentials.jar (29ms)\n",
      "downloading https://repo1.maven.org/maven2/com/google/auth/google-auth-library-oauth2-http/1.16.0/google-auth-library-oauth2-http-1.16.0.jar ...\n",
      "\t[SUCCESSFUL ] com.google.auth#google-auth-library-oauth2-http;1.16.0!google-auth-library-oauth2-http.jar (28ms)\n",
      "downloading https://repo1.maven.org/maven2/com/google/api/api-common/2.6.2/api-common-2.6.2.jar ...\n",
      "\t[SUCCESSFUL ] com.google.api#api-common;2.6.2!api-common.jar (27ms)\n",
      "downloading https://repo1.maven.org/maven2/io/opencensus/opencensus-api/0.31.1/opencensus-api-0.31.1.jar ...\n",
      "\t[SUCCESSFUL ] io.opencensus#opencensus-api;0.31.1!opencensus-api.jar (27ms)\n",
      "downloading https://repo1.maven.org/maven2/com/google/api/grpc/proto-google-iam-v1/1.9.2/proto-google-iam-v1-1.9.2.jar ...\n",
      "\t[SUCCESSFUL ] com.google.api.grpc#proto-google-iam-v1;1.9.2!proto-google-iam-v1.jar (26ms)\n",
      "downloading https://repo1.maven.org/maven2/com/google/protobuf/protobuf-java/3.21.12/protobuf-java-3.21.12.jar ...\n",
      "\t[SUCCESSFUL ] com.google.protobuf#protobuf-java;3.21.12!protobuf-java.jar(bundle) (40ms)\n",
      "downloading https://repo1.maven.org/maven2/com/google/protobuf/protobuf-java-util/3.21.12/protobuf-java-util-3.21.12.jar ...\n",
      "\t[SUCCESSFUL ] com.google.protobuf#protobuf-java-util;3.21.12!protobuf-java-util.jar(bundle) (30ms)\n",
      "downloading https://repo1.maven.org/maven2/com/google/api/grpc/proto-google-common-protos/2.14.2/proto-google-common-protos-2.14.2.jar ...\n",
      "\t[SUCCESSFUL ] com.google.api.grpc#proto-google-common-protos;2.14.2!proto-google-common-protos.jar (44ms)\n",
      "downloading https://repo1.maven.org/maven2/org/threeten/threetenbp/1.6.5/threetenbp-1.6.5.jar ...\n",
      "\t[SUCCESSFUL ] org.threeten#threetenbp;1.6.5!threetenbp.jar (32ms)\n",
      "downloading https://repo1.maven.org/maven2/com/google/api/grpc/proto-google-cloud-storage-v2/2.20.1-alpha/proto-google-cloud-storage-v2-2.20.1-alpha.jar ...\n",
      "\t[SUCCESSFUL ] com.google.api.grpc#proto-google-cloud-storage-v2;2.20.1-alpha!proto-google-cloud-storage-v2.jar (37ms)\n",
      "downloading https://repo1.maven.org/maven2/com/google/api/grpc/grpc-google-cloud-storage-v2/2.20.1-alpha/grpc-google-cloud-storage-v2-2.20.1-alpha.jar ...\n",
      "\t[SUCCESSFUL ] com.google.api.grpc#grpc-google-cloud-storage-v2;2.20.1-alpha!grpc-google-cloud-storage-v2.jar (27ms)\n",
      "downloading https://repo1.maven.org/maven2/com/google/api/grpc/gapic-google-cloud-storage-v2/2.20.1-alpha/gapic-google-cloud-storage-v2-2.20.1-alpha.jar ...\n",
      "\t[SUCCESSFUL ] com.google.api.grpc#gapic-google-cloud-storage-v2;2.20.1-alpha!gapic-google-cloud-storage-v2.jar (25ms)\n",
      "downloading https://repo1.maven.org/maven2/com/google/code/findbugs/jsr305/3.0.2/jsr305-3.0.2.jar ...\n",
      "\t[SUCCESSFUL ] com.google.code.findbugs#jsr305;3.0.2!jsr305.jar (24ms)\n",
      "downloading https://repo1.maven.org/maven2/io/grpc/grpc-api/1.53.0/grpc-api-1.53.0.jar ...\n",
      "\t[SUCCESSFUL ] io.grpc#grpc-api;1.53.0!grpc-api.jar (28ms)\n",
      "downloading https://repo1.maven.org/maven2/io/grpc/grpc-stub/1.53.0/grpc-stub-1.53.0.jar ...\n",
      "\t[SUCCESSFUL ] io.grpc#grpc-stub;1.53.0!grpc-stub.jar (26ms)\n",
      "downloading https://repo1.maven.org/maven2/org/checkerframework/checker-qual/3.31.0/checker-qual-3.31.0.jar ...\n",
      "\t[SUCCESSFUL ] org.checkerframework#checker-qual;3.31.0!checker-qual.jar (28ms)\n",
      "downloading https://repo1.maven.org/maven2/io/perfmark/perfmark-api/0.26.0/perfmark-api-0.26.0.jar ...\n",
      "\t[SUCCESSFUL ] io.perfmark#perfmark-api;0.26.0!perfmark-api.jar (24ms)\n",
      "downloading https://repo1.maven.org/maven2/com/google/android/annotations/4.1.1.4/annotations-4.1.1.4.jar ...\n",
      "\t[SUCCESSFUL ] com.google.android#annotations;4.1.1.4!annotations.jar (23ms)\n",
      "downloading https://repo1.maven.org/maven2/org/codehaus/mojo/animal-sniffer-annotations/1.22/animal-sniffer-annotations-1.22.jar ...\n",
      "\t[SUCCESSFUL ] org.codehaus.mojo#animal-sniffer-annotations;1.22!animal-sniffer-annotations.jar (27ms)\n",
      "downloading https://repo1.maven.org/maven2/io/opencensus/opencensus-proto/0.2.0/opencensus-proto-0.2.0.jar ...\n",
      "\t[SUCCESSFUL ] io.opencensus#opencensus-proto;0.2.0!opencensus-proto.jar (33ms)\n",
      "downloading https://repo1.maven.org/maven2/io/grpc/grpc-services/1.53.0/grpc-services-1.53.0.jar ...\n",
      "\t[SUCCESSFUL ] io.grpc#grpc-services;1.53.0!grpc-services.jar (33ms)\n",
      "downloading https://repo1.maven.org/maven2/com/google/re2j/re2j/1.6/re2j-1.6.jar ...\n",
      "\t[SUCCESSFUL ] com.google.re2j#re2j;1.6!re2j.jar (27ms)\n",
      "downloading https://repo1.maven.org/maven2/io/grpc/grpc-netty-shaded/1.53.0/grpc-netty-shaded-1.53.0.jar ...\n",
      "\t[SUCCESSFUL ] io.grpc#grpc-netty-shaded;1.53.0!grpc-netty-shaded.jar (125ms)\n",
      "downloading https://repo1.maven.org/maven2/io/grpc/grpc-googleapis/1.53.0/grpc-googleapis-1.53.0.jar ...\n",
      "\t[SUCCESSFUL ] io.grpc#grpc-googleapis;1.53.0!grpc-googleapis.jar (28ms)\n",
      "downloading https://repo1.maven.org/maven2/io/grpc/grpc-xds/1.53.0/grpc-xds-1.53.0.jar ...\n",
      "\t[SUCCESSFUL ] io.grpc#grpc-xds;1.53.0!grpc-xds.jar (137ms)\n",
      "downloading https://repo1.maven.org/maven2/dk/brics/automaton/automaton/1.11-8/automaton-1.11-8.jar ...\n",
      "\t[SUCCESSFUL ] dk.brics.automaton#automaton;1.11-8!automaton.jar (28ms)\n",
      ":: resolution report :: resolve 15389ms :: artifacts dl 7044ms\n",
      "\t:: modules in use:\n",
      "\tcom.amazonaws#aws-java-sdk-core;1.12.500 from central in [default]\n",
      "\tcom.amazonaws#aws-java-sdk-kms;1.12.500 from central in [default]\n",
      "\tcom.amazonaws#aws-java-sdk-s3;1.12.500 from central in [default]\n",
      "\tcom.amazonaws#jmespath-java;1.12.500 from central in [default]\n",
      "\tcom.github.universal-automata#liblevenshtein;3.0.0 from central in [default]\n",
      "\tcom.google.android#annotations;4.1.1.4 from central in [default]\n",
      "\tcom.google.api#api-common;2.6.2 from central in [default]\n",
      "\tcom.google.api#gax;2.23.2 from central in [default]\n",
      "\tcom.google.api#gax-grpc;2.23.2 from central in [default]\n",
      "\tcom.google.api#gax-httpjson;0.108.2 from central in [default]\n",
      "\tcom.google.api-client#google-api-client;2.2.0 from central in [default]\n",
      "\tcom.google.api.grpc#gapic-google-cloud-storage-v2;2.20.1-alpha from central in [default]\n",
      "\tcom.google.api.grpc#grpc-google-cloud-storage-v2;2.20.1-alpha from central in [default]\n",
      "\tcom.google.api.grpc#proto-google-cloud-storage-v2;2.20.1-alpha from central in [default]\n",
      "\tcom.google.api.grpc#proto-google-common-protos;2.14.2 from central in [default]\n",
      "\tcom.google.api.grpc#proto-google-iam-v1;1.9.2 from central in [default]\n",
      "\tcom.google.apis#google-api-services-storage;v1-rev20220705-2.0.0 from central in [default]\n",
      "\tcom.google.auth#google-auth-library-credentials;1.16.0 from central in [default]\n",
      "\tcom.google.auth#google-auth-library-oauth2-http;1.16.0 from central in [default]\n",
      "\tcom.google.auto.value#auto-value;1.10.1 from central in [default]\n",
      "\tcom.google.auto.value#auto-value-annotations;1.10.1 from central in [default]\n",
      "\tcom.google.cloud#google-cloud-core;2.12.0 from central in [default]\n",
      "\tcom.google.cloud#google-cloud-core-grpc;2.12.0 from central in [default]\n",
      "\tcom.google.cloud#google-cloud-core-http;2.12.0 from central in [default]\n",
      "\tcom.google.cloud#google-cloud-storage;2.20.1 from central in [default]\n",
      "\tcom.google.code.findbugs#jsr305;3.0.2 from central in [default]\n",
      "\tcom.google.code.gson#gson;2.10.1 from central in [default]\n",
      "\tcom.google.errorprone#error_prone_annotations;2.18.0 from central in [default]\n",
      "\tcom.google.guava#failureaccess;1.0.1 from central in [default]\n",
      "\tcom.google.guava#guava;31.1-jre from central in [default]\n",
      "\tcom.google.guava#listenablefuture;9999.0-empty-to-avoid-conflict-with-guava from central in [default]\n",
      "\tcom.google.http-client#google-http-client;1.43.0 from central in [default]\n",
      "\tcom.google.http-client#google-http-client-apache-v2;1.43.0 from central in [default]\n",
      "\tcom.google.http-client#google-http-client-appengine;1.43.0 from central in [default]\n",
      "\tcom.google.http-client#google-http-client-gson;1.43.0 from central in [default]\n",
      "\tcom.google.http-client#google-http-client-jackson2;1.43.0 from central in [default]\n",
      "\tcom.google.j2objc#j2objc-annotations;1.3 from central in [default]\n",
      "\tcom.google.oauth-client#google-oauth-client;1.34.1 from central in [default]\n",
      "\tcom.google.protobuf#protobuf-java;3.21.12 from central in [default]\n",
      "\tcom.google.protobuf#protobuf-java-util;3.21.12 from central in [default]\n",
      "\tcom.google.re2j#re2j;1.6 from central in [default]\n",
      "\tcom.johnsnowlabs.nlp#spark-nlp_2.12;5.3.2 from central in [default]\n",
      "\tcom.johnsnowlabs.nlp#tensorflow-cpu_2.12;0.4.4 from central in [default]\n",
      "\tcom.microsoft.onnxruntime#onnxruntime;1.17.0 from central in [default]\n",
      "\tcom.navigamez#greex;1.0 from central in [default]\n",
      "\tcom.typesafe#config;1.4.2 from central in [default]\n",
      "\tcommons-codec#commons-codec;1.15 from central in [default]\n",
      "\tcommons-logging#commons-logging;1.1.3 from central in [default]\n",
      "\tdk.brics.automaton#automaton;1.11-8 from central in [default]\n",
      "\tio.grpc#grpc-alts;1.53.0 from central in [default]\n",
      "\tio.grpc#grpc-api;1.53.0 from central in [default]\n",
      "\tio.grpc#grpc-auth;1.53.0 from central in [default]\n",
      "\tio.grpc#grpc-context;1.53.0 from central in [default]\n",
      "\tio.grpc#grpc-core;1.53.0 from central in [default]\n",
      "\tio.grpc#grpc-googleapis;1.53.0 from central in [default]\n",
      "\tio.grpc#grpc-grpclb;1.53.0 from central in [default]\n",
      "\tio.grpc#grpc-netty-shaded;1.53.0 from central in [default]\n",
      "\tio.grpc#grpc-protobuf;1.53.0 from central in [default]\n",
      "\tio.grpc#grpc-protobuf-lite;1.53.0 from central in [default]\n",
      "\tio.grpc#grpc-services;1.53.0 from central in [default]\n",
      "\tio.grpc#grpc-stub;1.53.0 from central in [default]\n",
      "\tio.grpc#grpc-xds;1.53.0 from central in [default]\n",
      "\tio.opencensus#opencensus-api;0.31.1 from central in [default]\n",
      "\tio.opencensus#opencensus-contrib-http-util;0.31.1 from central in [default]\n",
      "\tio.opencensus#opencensus-proto;0.2.0 from central in [default]\n",
      "\tio.perfmark#perfmark-api;0.26.0 from central in [default]\n",
      "\tit.unimi.dsi#fastutil;7.0.12 from central in [default]\n",
      "\tjavax.annotation#javax.annotation-api;1.3.2 from central in [default]\n",
      "\tjoda-time#joda-time;2.8.1 from central in [default]\n",
      "\torg.apache.httpcomponents#httpclient;4.5.13 from central in [default]\n",
      "\torg.apache.httpcomponents#httpcore;4.4.13 from central in [default]\n",
      "\torg.checkerframework#checker-qual;3.31.0 from central in [default]\n",
      "\torg.codehaus.mojo#animal-sniffer-annotations;1.22 from central in [default]\n",
      "\torg.conscrypt#conscrypt-openjdk-uber;2.5.2 from central in [default]\n",
      "\torg.projectlombok#lombok;1.16.8 from central in [default]\n",
      "\torg.rocksdb#rocksdbjni;6.29.5 from central in [default]\n",
      "\torg.threeten#threetenbp;1.6.5 from central in [default]\n",
      "\tsoftware.amazon.ion#ion-java;1.0.2 from central in [default]\n",
      "\t:: evicted modules:\n",
      "\tcommons-logging#commons-logging;1.2 by [commons-logging#commons-logging;1.1.3] in [default]\n",
      "\tcommons-codec#commons-codec;1.11 by [commons-codec#commons-codec;1.15] in [default]\n",
      "\tcom.google.protobuf#protobuf-java-util;3.0.0-beta-3 by [com.google.protobuf#protobuf-java-util;3.21.12] in [default]\n",
      "\tcom.google.protobuf#protobuf-java;3.0.0-beta-3 by [com.google.protobuf#protobuf-java;3.21.12] in [default]\n",
      "\tcom.google.code.gson#gson;2.3 by [com.google.code.gson#gson;2.10.1] in [default]\n",
      "\t---------------------------------------------------------------------\n",
      "\t|                  |            modules            ||   artifacts   |\n",
      "\t|       conf       | number| search|dwnlded|evicted|| number|dwnlded|\n",
      "\t---------------------------------------------------------------------\n",
      "\t|      default     |   83  |   81  |   81  |   5   ||   78  |   78  |\n",
      "\t---------------------------------------------------------------------\n",
      ":: retrieving :: org.apache.spark#spark-submit-parent-51ddfd51-9f87-4de3-8768-57cff5c0a8b5\n",
      "\tconfs: [default]\n",
      "\t78 artifacts copied, 0 already retrieved (536406kB/549ms)\n",
      "25/07/17 04:05:26 WARN NativeCodeLoader: Unable to load native-hadoop library for your platform... using builtin-java classes where applicable\n",
      "Setting default log level to \"WARN\".\n",
      "To adjust logging level use sc.setLogLevel(newLevel). For SparkR, use setLogLevel(newLevel).\n"
     ]
    },
    {
     "name": "stdout",
     "output_type": "stream",
     "text": [
      "Spark NLP version 5.3.2\n",
      "Apache Spark version: 3.4.1\n"
     ]
    }
   ],
   "source": [
    "import pickle\n",
    "from datetime import datetime\n",
    "import sparknlp\n",
    "\n",
    "from pyspark.ml import PipelineModel\n",
    "from sparknlp.annotator import *\n",
    "from sparknlp.base import *\n",
    "\n",
    "spark = sparknlp.start()\n",
    "\n",
    "print(\"Spark NLP version\", sparknlp.version())\n",
    "print(\"Apache Spark version:\", spark.version)"
   ]
  },
  {
   "cell_type": "code",
   "execution_count": 4,
   "metadata": {
    "execution": {
     "iopub.execute_input": "2025-07-17T04:05:34.214310Z",
     "iopub.status.busy": "2025-07-17T04:05:34.213600Z",
     "iopub.status.idle": "2025-07-17T04:05:44.332640Z",
     "shell.execute_reply": "2025-07-17T04:05:44.331878Z",
     "shell.execute_reply.started": "2025-07-17T04:05:34.214270Z"
    },
    "trusted": true
   },
   "outputs": [],
   "source": [
    "import transformers\n",
    "import torch\n",
    "from transformers import AutoModelForSequenceClassification"
   ]
  },
  {
   "cell_type": "markdown",
   "metadata": {},
   "source": [
    "# Config class"
   ]
  },
  {
   "cell_type": "code",
   "execution_count": null,
   "metadata": {
    "execution": {
     "iopub.execute_input": "2025-07-17T04:05:44.333833Z",
     "iopub.status.busy": "2025-07-17T04:05:44.333472Z",
     "iopub.status.idle": "2025-07-17T04:05:44.337634Z",
     "shell.execute_reply": "2025-07-17T04:05:44.336977Z",
     "shell.execute_reply.started": "2025-07-17T04:05:44.333814Z"
    },
    "trusted": true
   },
   "outputs": [],
   "source": [
    "class ml_config:\n",
    "    sentence_splitter_model_spark = 'sentence_detector_dl'\n",
    "    patient_cli_notes_data_file_path = './datasources/nhl_data_clinical_notes_only_all_note_types.pkl'\n",
    "    output_path = \"\"\n",
    "\n"
   ]
  },
  {
   "cell_type": "markdown",
   "metadata": {},
   "source": [
    "# Helper Functions"
   ]
  },
  {
   "cell_type": "code",
   "execution_count": 80,
   "metadata": {
    "execution": {
     "iopub.execute_input": "2025-07-17T05:13:30.968904Z",
     "iopub.status.busy": "2025-07-17T05:13:30.968597Z",
     "iopub.status.idle": "2025-07-17T05:13:37.077953Z",
     "shell.execute_reply": "2025-07-17T05:13:37.077048Z",
     "shell.execute_reply.started": "2025-07-17T05:13:30.968871Z"
    },
    "trusted": true
   },
   "outputs": [
    {
     "name": "stdout",
     "output_type": "stream",
     "text": [
      "Warning::Spark Session already created, some configs may not take.\n",
      "sentence_detector_dl download started this may take some time.\n"
     ]
    },
    {
     "name": "stderr",
     "output_type": "stream",
     "text": [
      "25/07/17 05:13:30 WARN SparkSession: Using an existing Spark session; only runtime SQL configurations will take effect.\n"
     ]
    },
    {
     "name": "stdout",
     "output_type": "stream",
     "text": [
      "Approximate size to download 354.6 KB\n",
      "[OK!]\n"
     ]
    }
   ],
   "source": [
    "import os\n",
    "# Just in case: set env variables from Python as well (but from shell is preferred)\n",
    "os.environ[\"CUDA_VISIBLE_DEVICES\"] = \"0\"\n",
    "os.environ[\"TF_FORCE_GPU_ALLOW_GROWTH\"] = \"true\"\n",
    "\n",
    "from pyspark.sql import SparkSession\n",
    "import sparknlp\n",
    "from sparknlp.base import DocumentAssembler, LightPipeline\n",
    "from sparknlp.annotator import SentenceDetectorDLModel\n",
    "from pyspark.ml import Pipeline\n",
    "\n",
    "# Create SparkSession with GPU support\n",
    "spark = sparknlp.start(gpu=True)\n",
    "\n",
    "documenter = DocumentAssembler().setInputCol(\"text\").setOutputCol(\"document\")\n",
    "sentencerDL = SentenceDetectorDLModel.pretrained(\"sentence_detector_dl\", \"en\") \\\n",
    "    .setInputCols([\"document\"]).setOutputCol(\"sentences\")\n",
    "\n",
    "sd_pipeline = Pipeline(stages=[documenter, sentencerDL])\n",
    "model = pipeline.fit(spark.createDataFrame([[\"test\"]]).toDF(\"text\"))\n",
    "sd_model = LightPipeline(model)\n"
   ]
  },
  {
   "cell_type": "code",
   "execution_count": null,
   "metadata": {
    "execution": {
     "iopub.execute_input": "2025-07-17T05:13:39.965244Z",
     "iopub.status.busy": "2025-07-17T05:13:39.964617Z",
     "iopub.status.idle": "2025-07-17T05:13:39.968556Z",
     "shell.execute_reply": "2025-07-17T05:13:39.967844Z",
     "shell.execute_reply.started": "2025-07-17T05:13:39.965219Z"
    },
    "trusted": true
   },
   "outputs": [],
   "source": [
    "documenter = DocumentAssembler()\\\n",
    "    .setInputCol(\"text\")\\\n",
    "    .setOutputCol(\"document\")\n",
    "\n",
    "sentencerDL = SentenceDetectorDLModel\\\n",
    "    .pretrained(ml_config.sentence_splitter_model_spark, \"en\") \\\n",
    "    .setInputCols([\"document\"]) \\\n",
    "    .setOutputCol(\"sentences\")\n",
    "\n",
    "sd_pipeline = PipelineModel(stages=[documenter, sentencerDL])\n",
    "\n",
    "sd_model = LightPipeline(sd_pipeline)"
   ]
  },
  {
   "cell_type": "code",
   "execution_count": 82,
   "metadata": {
    "execution": {
     "iopub.execute_input": "2025-07-17T05:13:40.921070Z",
     "iopub.status.busy": "2025-07-17T05:13:40.920816Z",
     "iopub.status.idle": "2025-07-17T05:13:40.924826Z",
     "shell.execute_reply": "2025-07-17T05:13:40.924090Z",
     "shell.execute_reply.started": "2025-07-17T05:13:40.921033Z"
    },
    "trusted": true
   },
   "outputs": [],
   "source": [
    "def clinical_notes_sentence_splitter(text):\n",
    "    return [anno.result for anno in sd_model.fullAnnotate(text)[0][\"sentences\"]]"
   ]
  },
  {
   "cell_type": "markdown",
   "metadata": {},
   "source": [
    "# Loading data"
   ]
  },
  {
   "cell_type": "code",
   "execution_count": null,
   "metadata": {
    "execution": {
     "iopub.execute_input": "2025-07-17T05:05:19.257680Z",
     "iopub.status.busy": "2025-07-17T05:05:19.257373Z",
     "iopub.status.idle": "2025-07-17T05:05:19.597142Z",
     "shell.execute_reply": "2025-07-17T05:05:19.596520Z",
     "shell.execute_reply.started": "2025-07-17T05:05:19.257658Z"
    },
    "trusted": true
   },
   "outputs": [],
   "source": [
    "with open(ml_config.patient_cli_notes_data_file_path,'rb') as f:\n",
    "    nhl_progress_notes_with_label = pickle.load(f)\n"
   ]
  },
  {
   "cell_type": "code",
   "execution_count": 69,
   "metadata": {
    "execution": {
     "iopub.execute_input": "2025-07-17T05:05:19.631135Z",
     "iopub.status.busy": "2025-07-17T05:05:19.630882Z",
     "iopub.status.idle": "2025-07-17T05:05:19.635720Z",
     "shell.execute_reply": "2025-07-17T05:05:19.635139Z",
     "shell.execute_reply.started": "2025-07-17T05:05:19.631118Z"
    },
    "trusted": true
   },
   "outputs": [
    {
     "data": {
      "text/plain": [
       "614"
      ]
     },
     "execution_count": 69,
     "metadata": {},
     "output_type": "execute_result"
    }
   ],
   "source": [
    "len(nhl_progress_notes_with_label)"
   ]
  },
  {
   "cell_type": "code",
   "execution_count": 70,
   "metadata": {
    "execution": {
     "iopub.execute_input": "2025-07-17T05:05:21.204909Z",
     "iopub.status.busy": "2025-07-17T05:05:21.204639Z",
     "iopub.status.idle": "2025-07-17T05:05:21.209661Z",
     "shell.execute_reply": "2025-07-17T05:05:21.209014Z",
     "shell.execute_reply.started": "2025-07-17T05:05:21.204880Z"
    },
    "trusted": true
   },
   "outputs": [
    {
     "data": {
      "text/plain": [
       "[2,\n",
       " datetime.datetime(2007, 6, 25, 0, 0),\n",
       " datetime.datetime(2013, 7, 6, 0, 0),\n",
       " datetime.datetime(2014, 1, 2, 0, 0),\n",
       " '6/30/2008']"
      ]
     },
     "execution_count": 70,
     "metadata": {},
     "output_type": "execute_result"
    }
   ],
   "source": [
    "nhl_progress_notes_with_label[0][:5] # pat_id, dx_date, start_date, end_date, flt, cli, label"
   ]
  },
  {
   "cell_type": "code",
   "execution_count": 71,
   "metadata": {
    "execution": {
     "iopub.execute_input": "2025-07-17T05:05:21.729518Z",
     "iopub.status.busy": "2025-07-17T05:05:21.729294Z",
     "iopub.status.idle": "2025-07-17T05:05:21.734309Z",
     "shell.execute_reply": "2025-07-17T05:05:21.733544Z",
     "shell.execute_reply.started": "2025-07-17T05:05:21.729500Z"
    },
    "trusted": true
   },
   "outputs": [
    {
     "data": {
      "text/plain": [
       "(16, Timestamp('2017-07-11 00:00:00'), Timestamp('2018-01-07 00:00:00'))"
      ]
     },
     "execution_count": 71,
     "metadata": {},
     "output_type": "execute_result"
    }
   ],
   "source": [
    "# for index,i in enumerate(nhl_progress_notes_with_label):\n",
    "#     try:\n",
    "#         print(index,i[0])\n",
    "#     except:\n",
    "#         print(i)\n",
    "#         break\n",
    "req_data_info[0]"
   ]
  },
  {
   "cell_type": "code",
   "execution_count": 57,
   "metadata": {
    "execution": {
     "iopub.execute_input": "2025-07-17T04:57:27.219257Z",
     "iopub.status.busy": "2025-07-17T04:57:27.218873Z",
     "iopub.status.idle": "2025-07-17T04:57:27.223599Z",
     "shell.execute_reply": "2025-07-17T04:57:27.222886Z",
     "shell.execute_reply.started": "2025-07-17T04:57:27.219235Z"
    },
    "trusted": true
   },
   "outputs": [],
   "source": [
    "dict_recurr = {}\n",
    "for item in nhl_progress_notes_with_label:\n",
    "    # try:\n",
    "        if item:\n",
    "            if item[6] == 'Y':\n",
    "                dict_recurr[item[0]] = item[2]\n"
   ]
  },
  {
   "cell_type": "code",
   "execution_count": 72,
   "metadata": {
    "execution": {
     "iopub.execute_input": "2025-07-17T05:05:29.399589Z",
     "iopub.status.busy": "2025-07-17T05:05:29.398979Z",
     "iopub.status.idle": "2025-07-17T05:05:29.404524Z",
     "shell.execute_reply": "2025-07-17T05:05:29.403804Z",
     "shell.execute_reply.started": "2025-07-17T05:05:29.399563Z"
    },
    "trusted": true
   },
   "outputs": [
    {
     "data": {
      "text/plain": [
       "{5: datetime.datetime(2013, 5, 22, 0, 0),\n",
       " 28: datetime.datetime(2015, 11, 4, 0, 0),\n",
       " 33: datetime.datetime(2018, 4, 28, 0, 0),\n",
       " 44: datetime.datetime(2014, 5, 1, 0, 0),\n",
       " 46: datetime.datetime(2019, 1, 2, 0, 0),\n",
       " 79: datetime.datetime(2016, 2, 4, 0, 0),\n",
       " 89: datetime.datetime(2017, 6, 1, 0, 0),\n",
       " 125: datetime.datetime(2021, 8, 24, 0, 0),\n",
       " 138: datetime.datetime(2018, 3, 30, 0, 0),\n",
       " 202: datetime.datetime(2020, 4, 21, 0, 0),\n",
       " 245: datetime.datetime(2015, 6, 5, 0, 0),\n",
       " 257: datetime.datetime(2020, 5, 6, 0, 0),\n",
       " 282: datetime.datetime(2019, 10, 19, 0, 0),\n",
       " 299: datetime.datetime(2015, 9, 8, 0, 0),\n",
       " 303: datetime.datetime(2015, 8, 15, 0, 0),\n",
       " 319: datetime.datetime(2018, 12, 12, 0, 0),\n",
       " 332: datetime.datetime(2021, 12, 14, 0, 0),\n",
       " 335: datetime.datetime(2018, 3, 20, 0, 0),\n",
       " 337: datetime.datetime(2013, 5, 23, 0, 0),\n",
       " 363: datetime.datetime(2015, 4, 9, 0, 0),\n",
       " 372: datetime.datetime(2020, 5, 20, 0, 0)}"
      ]
     },
     "execution_count": 72,
     "metadata": {},
     "output_type": "execute_result"
    }
   ],
   "source": [
    "dict_recurr"
   ]
  },
  {
   "cell_type": "code",
   "execution_count": 73,
   "metadata": {
    "execution": {
     "iopub.execute_input": "2025-07-17T05:05:32.187446Z",
     "iopub.status.busy": "2025-07-17T05:05:32.187156Z",
     "iopub.status.idle": "2025-07-17T05:05:32.252459Z",
     "shell.execute_reply": "2025-07-17T05:05:32.251681Z",
     "shell.execute_reply.started": "2025-07-17T05:05:32.187425Z"
    },
    "trusted": true
   },
   "outputs": [],
   "source": [
    "nhl_progress_notes_with_label_updated = []\n",
    "count = 0\n",
    "\n",
    "for item in nhl_progress_notes_with_label:\n",
    "    # try:\n",
    "        if item and (item[4] is None or item[2] >  datetime.strptime(item[4], '%m/%d/%Y')): ## startdate should be greater than flt_date\n",
    "            pat = item[0]\n",
    "\n",
    "            if item[4] is None:\n",
    "                if (item[2] - item[1]).days < 365:\n",
    "                    count+=1\n",
    "                    continue\n",
    "                \n",
    "    \n",
    "            if pat in dict_recurr.keys():\n",
    "                if dict_recurr[pat] < item[2]:\n",
    "                    count+=1\n",
    "                    continue\n",
    "                    \n",
    "            flt_end_date =  datetime.strptime(item[4], '%m/%d/%Y') if item[4] is not None else item[4]\n",
    "            start_date = item[2]\n",
    "            end_date = item[3]\n",
    "            dx_date = item[1]\n",
    "    \n",
    "            if item[6] is None:\n",
    "                gt = 'N'\n",
    "            elif item[6] == 'Y':\n",
    "                gt = 'Y'\n",
    "            else:\n",
    "                gt = 'N'\n",
    "            # end_date = item[2].strftime('%Y-%m-%d')\n",
    "            nhl_progress_notes_with_label_updated.append((pat, dx_date, start_date, end_date,flt_end_date,item[5], gt))\n",
    "    # except:\n",
    "    #     print(item[:4])\n",
    "    #     break"
   ]
  },
  {
   "cell_type": "code",
   "execution_count": 60,
   "metadata": {
    "collapsed": true,
    "execution": {
     "iopub.execute_input": "2025-07-17T04:57:40.899636Z",
     "iopub.status.busy": "2025-07-17T04:57:40.899395Z",
     "iopub.status.idle": "2025-07-17T04:57:40.913039Z",
     "shell.execute_reply": "2025-07-17T04:57:40.911970Z",
     "shell.execute_reply.started": "2025-07-17T04:57:40.899621Z"
    },
    "jupyter": {
     "outputs_hidden": true
    },
    "trusted": true
   },
   "outputs": [
    {
     "data": {
      "text/plain": [
       "(2,\n",
       " datetime.datetime(2007, 6, 25, 0, 0),\n",
       " datetime.datetime(2013, 7, 6, 0, 0),\n",
       " datetime.datetime(2014, 1, 2, 0, 0),\n",
       " datetime.datetime(2008, 6, 30, 0, 0),\n",
       " (('CHEST 2 VIEWS (ROUTINE)',\n",
       "   '*****, ******                 ***: ********    DOB: ********  GENDER: FEMALE TEST:  CHEST 2 VIEWS          DATE:  ******** TIME:  1013 -------------------------------------------------------------------------------- Patient Location:  STH Requesting Physician:  ****** ***** ** -------------------------------------------------------------------------------- Date/Time           Exam Description              ICD-9 Code     PACS Acc # **/**/**** 10:13    CHEST 2 VIEWS                 786.2          ********* -------------------------------------------------------------------------------- EXAMINATION: PA and lateral chest 2 views HISTORY: Persistent cough DATE: **/*/**** COMPARISON: PET CT from */**/**** FINDING: Minimal atelectasis is seen in the lung bases. Otherwise, the lungs are clear. No pleural effusion.  The cardiomediastinal silhouette and pulmonary vasculature are within normal limits. No pneumothorax . No lymphadenopathy. IMPRESSION: Minimal atelectasis in the lung bases. Otherwise no acute cardiopulmonary disease. Interpreted by:                                   ****** ****, M.D. Report reviewed and signed:                       ****** ****, M.D. Date signed:                                      **/**/**** 10:19:00 AM Typed by:                                         Powerscribe Interface'),\n",
       "  ('ACUTE ABDOMINAL SERIES',\n",
       "   '*****, ******                 ***: ********    DOB: ********  GENDER: FEMALE TEST:  ACUTE ABDOMINAL SERIES          DATE:  ******** TIME:  2332 -------------------------------------------------------------------------------- Patient Location:  STH Requesting Physician:  ****** **** * -------------------------------------------------------------------------------- Date/Time           Exam Description              ICD-9 Code     PACS Acc # **/**/**** 23:32    ACUTE ABDOMINAL SERIES        789.00         ********* -------------------------------------------------------------------------------- Acute abdominal series ******** **, **** History pain Technique supine upright abdomen single the chest Findings: Has several dilated loops of small bowel mid abdomen left of midline. There is gas throughout the colon . Single view chest no acute disease Impression: Changes suspicious for small bowel obstruction Interpreted by:                                   **** *********, M.D. Report reviewed and signed:                       **** *********, M.D. Date signed:                                      **/**/**** 11:36:00 PM Typed by:                                         Powerscribe Interface'),\n",
       "  ('ACUTE ABDOMINAL SERIES',\n",
       "   '*****, ******                 ***: ********    DOB: ********  GENDER: FEMALE TEST:  ACUTE ABDOMINAL SERIES          DATE:  ******** TIME:  1702 -------------------------------------------------------------------------------- Patient Location:  HFH     Room/Bed: I4I413A Requesting Physician:  ****** *** ** -------------------------------------------------------------------------------- Date/Time           Exam Description              ICD-9 Code     PACS Acc # **/**/**** 17:02    ACUTE ABDOMINAL SERIES        560.9          ********* -------------------------------------------------------------------------------- Acute abdominal series ******** **, **** History possible SBO Technique frontal view chest and supine upright abdomen Right NG tube is in the upper stomach. Contrast is within the ascending colon the midtransverse colon. There is still moderately dilated small bowel loops but have decreased in maximal caliber and number of dilated small bowel loops. No free air. Single view chest and a few strands of infiltrate most likely atelectasis Impression: Improving small bowel caliber with passage of contrast into the large bowel. Interpreted by:                                   **** *********, M.D. Report reviewed and signed:                       **** *********, M.D. Date signed:                                      **/**/**** 05:19:00 PM Typed by:                                         Powerscribe Interface'),\n",
       "  ('CT ABDOMEN PELVIS W CONTRAST',\n",
       "   \"*****, ******                 ***: ********    DOB: ********  GENDER: FEMALE TEST:  CT ABDOMEN AND PELVIS WITH CON          DATE:  ******** TIME:  0145 -------------------------------------------------------------------------------- Patient Location:  STH Requesting Physician:  ****** **** * -------------------------------------------------------------------------------- Date/Time           Exam Description              ICD-9 Code     PACS Acc # **/**/**** 01:45    CT ABDOMEN AND PELVIS WITH CON 789.00        ********* -------------------------------------------------------------------------------- CT Abdomen and Pelvis, with contrast, **/**/**** Clinical History: Abdominal pain. Additional history: Non-Hodgkin's lymphoma. Comparison: */**/**** Technique: Axial CT images of the abdomen and pelvis were acquired following the intravenous administration of 125  ml of Isovue-300. Multiplanar reconstructions were created. Findings: Mild bibasilar subsegmental atelectasis. No pleural or pericardial effusion. The liver, pancreas, adrenal glands, and kidneys appear within normal limits. No extrahepatic bile duct dilatation. The spleen and gallbladder are surgically absent. An inferior vena cava vascular filter is in place. No abdominal aortic ectasia or aneurysmal dilatation. Oral contrast material progresses to small bowel loops. There is dilatation of proximal small bowel loops relative to ileal loops, with a transition point in the right hemiabdomen. There are no pericolonic inflammatory changes. Note is made of numerous descending and sigmoid colonic diverticula. Grossly unremarkable appearance of the urinary bladder. Age appropriate uterine size. An enhancing nodule seen within the endometrial canal, unchanged from the prior examination. A small amount of simple appearing fluid collects within the cul-de-sac. There is no free intraperitoneal air. No enlarged abdominal or pelvic lymph nodes. Compression deformities are again seen within the thoracic lumbar spine, most severe L3. Multilevel degenerative changes are also noted. Combined Impressions: Findings are most suspicious for small bowel obstruction, with presumed transition point in the right hemiabdomen. Consider a short-term followup radiograph to assess contrast progression into the colon. Interpreted by:                                   ******* ***********, M.D. Report reviewed and signed:                       ******* ***********, M.D. Date signed:                                      **/**/**** 02:14:00 AM Typed by:                                         Powerscribe Interface\"),\n",
       "  ('Telephone Encounter',\n",
       "   'Patient is requesting a return call from staff to schedule an appointment for a gallbladder consult sooner than the first available of **/**/**. Patient states she was recently up north and had a severe attack.'),\n",
       "  ('Telephone Encounter',\n",
       "   'Appointment made with Dr. ****** for **/**/**** at *** ********'),\n",
       "  ('Patient Instructions',\n",
       "   \"***** **** Health System Patient Instructions  Cholecystectomy: Before Your Surgery  What is cholecystectomy?  Cholecystectomy (**-***-***-***-***-***) is surgery to remove the gallbladder and gallstones. It is usually done as a laparoscopic surgery. Some people call this Band-aid surgery because it requires only small cuts (incisions). To do this type of surgery, a doctor puts a lighted tube, or scope, and other surgical tools through the small incisions in your belly. The doctor is able to see your organs with the scope. After your gallbladder is removed, you will no longer have gallstones. The incisions leave scars that usually fade with time.  Most people go home the day of surgery. You probably will feel better each day. Most people have only a small amount of pain after 1 week. If you have a desk-type job, you will probably be able to return to work or your normal routine in 1 to 2 weeks. If you lift heavy objects or have a very active job, such as being a carpenter or doing outdoor work, it may take up to 4 weeks.  Either before or during surgery, your doctor may choose to do an open surgery instead. In this type of surgery, your doctor will make a larger cut in your upper belly. You will probably stay in the hospital for 2 to 4 days, and it may take 4 to 6 weeks before you get back to your normal routine.  Follow-up care is a key part of your treatment and safety. Be sure to make and go to all appointments, and call your doctor if you are having problems. It's also a good idea to know your test results and keep a list of the medicines you take.  What happens before surgery?  Having surgery can be stressful. This information will help you understand what you can expect and how to safely prepare for surgery.  Preparing for surgery  · Bring a list of questions to ask your doctors. It is important that you understand exactly what surgery is planned, the risks, benefits, and other options before your surgery.  · Tell your doctors ALL the medicines, vitamins, supplements, and herbal remedies you take. Some of these can increase the risk of bleeding or interact with anesthesia. Your doctor will tell you which medicines to take or stop before your surgery.  · If you take blood thinners, such as warfarin (Coumadin), clopidogrel (Plavix), or aspirin, be sure to talk to your doctor. He or she will tell you if you should stop taking these medicines before your surgery. Make sure that you understand exactly what your doctor wants you to do.  · You may need to stop taking certain medicines a week or more before surgery, so talk to your doctor as soon as you can.  · Before your surgery, you will speak with an anesthesia provider to discuss your anesthetic options, including the risks, benefits, and alternatives to each. This may be on the phone or in person.  · You may need to empty your colon with an enema or laxative. Your doctor will tell you how to do this.  Taking care of yourself before surgery  · Build healthy habits into your life. Changes are best made several weeks before surgery, since your body may react to sudden changes in your habits.  ¨ Stay as active as you can.  ¨ Eat a healthy diet.  ¨ Cut back or quit alcohol and tobacco.  · If you have an advance directive-which may include a living will and a durable power of attorney for health care-let your doctor know. If you do not have one, you may want to prepare one so your doctor and loved ones know your health care wishes. Doctors recommend that everyone prepare these papers before surgery, regardless of the type of surgery or condition.  What happens on the day of surgery?  · Follow the instructions exactly about when to stop eating and drinking, or your surgery may be canceled. If your doctor has instructed you to take your medicines on the day of surgery, please do so using only a sip of water.  · Take a bath or shower before you come in for your surgery. Do not apply lotions, perfumes, deodorants, or nail polish.  · Do NOT shave the surgical site yourself.  · Remove all jewelry, piercings, and contact lenses.  · Leave your valuables at home.  At the hospital or surgery center  · Bring a picture ID.  · Before surgery you will be asked to repeat your full name, what surgery you are having, and what part of your body is being operated on. The area for surgery may be marked.  · A small tube (IV) will be placed in a vein, to give you fluids and medicine to help you relax. Because of the combination of medicines given to keep you comfortable, you may not remember much about the operating room.  · You will be kept comfortable and safe by your anesthesia provider. The anesthesia may range from making you fully asleep, to simply numbing the area being worked on. This will depend on the procedure you are having, as well as a discussion between your doctor, the anesthesia provider, and you.  · The surgery usually takes 1 to 2 hours.  · As you wake up in the recovery room, the nurse will check to be sure you are stable and comfortable. It is important for you to tell your doctor and nurse how you feel and ask questions about any concerns you may have.  Going home  · Be sure you have someone to drive you home.  · For your safety, you should not drive until you are no longer taking pain medicines and you can move and react easily.  · Arrange for extra help at home after surgery, especially if you live alone or provide care for another person.  · You will be given more specific instructions about recovering from your surgery, including activity and when you may return to work.  When should you call your doctor?  · You have questions or concerns.  · You don't understand how to prepare for your surgery.  · You become ill before the surgery (such as fever, flu, or a cold).  · You need to reschedule or have changed your mind about having the surgery.   Where can you learn more?   Log on to your ***** **** ******* account at www.HenryFord.com/MyChart and go to the left hand side box Health Library. Enter **** and click Search to learn more about __Cholecystectomy: Before Your Surgery__.    Please ask any HFHS clinical representative for assistance in obtaining a ***** **** ******* account.   © 2006-2012 Healthwise, Incorporated. Care instructions adapted under license by ***** **** ****** System. This care instruction is for use with your licensed healthcare professional. If you have questions about a medical condition or this instruction, always ask your healthcare professional. Healthwise, Incorporated disclaims any warranty or liability for your use of this information.  Content Version: *.*.*****; Last Revised: ******** **, ****\"),\n",
       "  ('Progress Notes',\n",
       "   \"Subjective:       Patient ID: ****** *. ***** is a 65 y.o. female.    HPI  Gallbladder  Patient presents for evaluation of gallbladder problems. Problems were first noted 2 weeks ago. Current symptoms include RUQ Pain.  Pancreatic symptoms include none. Patient denies none.  Symptoms have progressed to a point and plateaued.    Has h/o lymphoma and radiation enteritis.  Underwent exp lap, SBR and splenectomy by Dr. ****** several years ago.  Also has h/o DVT/PE, now with IVC filter.      The following portions of the patient's history were reviewed and updated as appropriate: allergies, current medications, past family history, past medical history, past social history, past surgical history and problem list.    Review of Systems   Constitutional: Negative.    HENT: Negative.    Eyes: Negative.    Respiratory: Negative.    Cardiovascular: Negative.    Gastrointestinal: Positive for abdominal pain.   Endocrine: Negative.    Genitourinary: Negative.    Allergic/Immunologic: Negative.    Hematological: Negative.    Psychiatric/Behavioral: Negative.            Objective:    Physical Exam   Constitutional: She is oriented to person, place, and time. She appears well-developed and well-nourished.   HENT:   Head: Normocephalic and atraumatic.   Eyes: Conjunctivae and EOM are normal. Pupils are equal, round, and reactive to light.   Neck: Normal range of motion. Neck supple.   Cardiovascular: Normal rate and regular rhythm.    Pulmonary/Chest: Effort normal and breath sounds normal.   Abdominal: Soft. There is tenderness (in ruq.  Negative murphy's.  ).   Long midline incision.  No hernia   Musculoskeletal: Normal range of motion.   Neurological: She is alert and oriented to person, place, and time. She has normal reflexes.   Skin: Skin is warm and dry.   Psychiatric: She has a normal mood and affect. Her behavior is normal. Judgment and thought content normal.     US with gallstones.  No biliary dilation. Assessment:       Biliary *****.          Plan:       1.  With the aid of a patient booklet, a laparoscopic, possible open, cholecystectomy was discussed.  All risks and benefits of the procedure including, but not limited to, bleeding, infection, wound complications, injury to surrounding structures including the common bile duct, cystic duct stump leak, fluid collection and non-resolution of pain was discussed.  The patients understands and wishes to proceed.  2.  Informed consent was obtained.  3.  Patient will be scheduled for LAPAROSCOPIC CHOLECYSTECTOMY at ***** **** **** ********** Hospital.     4.  Given patient's history of radiation and splenectomy and h/o DVT/PE and other comorbidities she should be done at HFWB instead of LKS due to higher risk of conversion to open and inpatient post op hospital stay.  She understands and agrees.\"),\n",
       "  ('Patient Instructions',\n",
       "   '***** **** Health System Patient Instructions  Deep Vein Thrombosis: After Your Visit  Your Care Instructions  A deep vein thrombosis (DVT) is a blood clot in certain veins of the legs, pelvis, or arms. Blood clots in these veins need to be treated because they can get bigger, break loose, and travel through the bloodstream to the lungs. A blood clot in a lung can be life-threatening.  You will need to take blood thinners for 3 to 6 months or longer. Blood thinners help prevent new blood clots from forming. Blood thinners will not get rid of a blood clot you already have, but they will keep the clot from getting bigger. Your body will get rid of most or all of the blood clot you already have over time. It is important for you to go to follow-up visits so your doctor can see if your medicine is working.  Follow-up care is a key part of your treatment and safety. Be sure to make and go to all appointments, and call your doctor if you are having problems. It__s also a good idea to know your test results and keep a list of the medicines you take.  How can you care for yourself at home?  · Take your medicines exactly as prescribed. Call your doctor if you think you are having a problem with your medicine.  · You may have blood tests--sometimes every day at first--and every 2 to 4 weeks later on to see how well the medicine is working.  · Wear compression stockings if your doctor recommends them. These stockings are tighter at the feet than on the legs. They can reduce pain and swelling and may keep blood from pooling in your legs. You can get them with a prescription at a medical supply store or at some drugstores.  · Do not suddenly change your intake of vitamin K-rich foods, such as broccoli, cabbage, asparagus, lettuce, and spinach. This will help blood thinners work evenly from day to day.  · Do not take any over-the-counter medicines, vitamins, or supplements that contain vitamin K unless your doctor says it is okay.  · Limit alcohol to 2 drinks a day for men and 1 drink a day for women. *** much alcohol can cause health problems.  · Raise your leg or arm on a pillow when sitting. Try to keep it above the level of your heart.  · Use a heating pad for 20 to 30 minutes 3 or 4 times a day to reduce pain and swelling. Put a thin cloth between the heating pad and your skin.  · Do gentle exercise, such as walking, to help prevent future clots. Avoid contact sports and other activities that might make you ****. If you are injured, apply pressure to stop bleeding.  · Wear medical alert jewelry that says you take blood thinners. You can buy this at most drugstores.  When should you call for help?  Call 911 anytime you think you may need emergency care. For example, call if:  · You have sudden chest pain and shortness of breath, or you cough up blood.  · You vomit blood or what looks like coffee grounds.  · You pass maroon or very bloody stools.  · You passed out (lost consciousness).  Call your doctor now or seek immediate medical care if:  · You have new or increased shortness of breath.  · You are dizzy or lightheaded, or you feel like you may faint.  · You have signs of another blood clot, such as:  ¨ New pain in your calf, back of the knee, thigh, or groin.  ¨ New redness and swelling in your leg or groin.  · You have new bruises or blood spots under your skin.  · You have a nosebleed.  · Your gums bleed when you brush your teeth.  · You have blood in your urine.  · Your stools are black and tarlike or have streaks of blood.  · You have vaginal bleeding when you are not having your period, or heavy period bleeding.  Watch closely for changes in your health, and be sure to contact your doctor if you have any problems.   Where can you learn more?   Log on to your ***** **** ******* account at www.HenryFord.com/MyChart and go to the left hand side box Health Library. Enter **** and click Search to learn more about __Deep Vein Thrombosis: After Your Visit__.    Please ask any HFHS clinical representative for assistance in obtaining a ***** **** ******* account.   © 2006-2012 Healthwise, Incorporated. Care instructions adapted under license by ***** **** ****** System. This care instruction is for use with your licensed healthcare professional. If you have questions about a medical condition or this instruction, always ask your healthcare professional. Healthwise, Incorporated disclaims any warranty or liability for your use of this information.  Content Version: *.*.*****; Last Revised: ********* **, ****'),\n",
       "  ('Progress Notes',\n",
       "   'Chief Complaint   Patient presents with   __ Leg Swelling     emergency room followup   __ Leg Pain       History of present illness:patient is here, complaining of pain and swelling in the righ  She has been having pain and swelling in the right inner thigh, initially the    close to the knee, medial aspect  Which is extending despite being on antibiotics she was recently seen in the emergency room started on Keflex she stated the pain swelling and discomfort continues to persist  She does not recall having any blood clots in her legs before she underwent recent cholecystectomy with laparoscopic and she was in the hospital for one day there is no prolonged immobilization  She does not recall having any trouble phlebitis in the past she also has a history of lymphoma and breast cancer  She has no history of DVT in the past  She denies any chest pain lightheadedness dizziness fever chills shortness of breath  The swelling and pain has extended to the inner aspect of the left thigh  Not down no other complaints she has a strong family history of DVT and PE and her coagulable condition  She had a filter placed in the past according to her husband from previous bleeding   during her cancer treatment  In 2008        Past Surgical History   Procedure Laterality Date   __ Splenectomy, total     __ Small intestine surgery       bowel resection   __ Ivc filter retrieval     __ Breast surgery Left 2011     lumpectomy   __ Cholecystectomy         Family History   Problem Relation Age of Onset   __ Thrombosis Mother    __ Thrombosis ********      pe, dvt factor v   __ Cancer Brother      skin ca   __ Cancer Maternal Aunt      breast ca       Past Medical History   Diagnosis Date   __ Essential hypertension    __ Chronic rhinitis    __ Osteoporosis    __ Small bowel obstruction 2008     recurrent / s/p partial resection, unclear etiology for small bowel obstruction   __ Pulmonary embolism      ivc filter, family history of PE   __ Arthritis djd back disc disease, arthritis of the knee   __ Hyperlipidemia    __ Fibrocystic breast disease in female      breast cancer on treatment   __ Chronic back pain      degenerative back disease, disc disease stenosis and metastatic back disease   __ Vertigo      stable   __ Family history of deep venous thrombosis      factor * ****** positive and daughter, PE and the neice   __ ** - breast cancer      continuing treatment   __ Lymphoma 2010     stage II follicular lymphoma status post chemotherapy and splenectomy       No Known Allergies     History     Social History   __ Marital Status: Married     Spouse Name: N/A     Number of Children: N/A   __ Years of Education: N/A     Occupational History   __ Not on file.     Social History Main Topics   __ Smoking status: Never Smoker    __ Smokeless tobacco: Never Used   __ Alcohol Use: No      occasionally   __ Drug Use: No   __ Sexually Active: Yes      married     Other Topics Concern   __ Not on file     Social History Narrative   __ No narrative on file       Review of systems:  Constitutional: Denies any fever, chills, no recent change in weight or appetite malaise or fatigue  Eyes: Denies any visual disturbances, discharge or tearing in the eyes  HEENT denies any problems with earaches, snoring, bleeding gums, epistaxis, sore throat hearing loss, teeth pain, sinus problems  Cardiovascular: Denies any chest pain, palpitations, orthopnea, lower extremity edema  Respiratory : Denies any cough, wheezing, shortness of breath, hemoptysis  Gastrointestinal: Denies any nausea, vomiting, abdominal pain, rectal bleeding, dysphagia, melena, heartburn  Genitourinary: Denies any dysuria frequency of urination, incontinence or hematuria  Review of systems is otherwise negative, see pertinent positives and negatives in ***.  All other systems are normal.      Physical exam:  BP 130/70 | Pulse 64 | Temp(Src) 36.9 °C (98.5 °F) (Oral) | Wt 92.08 kg (203 lb) | BMI 31.79 kg/m2  Patient is alert and oriented, appearance is consistent with their age.    Patient is appearing well, not in any distress  HEENT -is normocephalic, atraumatic, pupils equal, round, and reactive to light and accommodation.  There is no scleral icterus.  Oral pharynx clear with normal dentition.  Neck without adenopathy, thyromegaly, tracheal deviation or masses.  There is no supraclavicular adenopathy.    LUNGS -clear bilaterally with normal respiratory effort and no rales or dullness to percussion.    CARDIAC-S1-S2 regular rate and rhythm with no murmur,   ABDOMEN- is soft, non-tender, non-distended with no palpable masses, no hepatosplenomegaly, no guarding or rebound.  Bowel sounds are active without abdominal bruit.   EXTREMITIES- no clubbing or cyanosis noted, peripheral pulses on palpable, no edema.  Right lower ety exam, revealed an elongated cord, in the middle aspect of the right knee, all the way to the medial aspect of the upper thigh,  Tenderness present with palpation  With some surrounding erythema and possible cellulitis  There was no lower extremities edema bilaterally    Assessment and plan:  1.****** was seen today for leg swelling and leg pain.    Diagnoses and associated orders for this visit:    Thrombosis of saphenous vein  - diclofenac sodium 1 % Gel; Apply 4 times daily  - enoxaparin (LOVENOX) 120 mg/0.8 mL Syrg; Inject 0.61 mLs (91.5 mg total) into the skin every 12 (twelve) hours.  - warfarin (COUMADIN) 5 MG tablet; Take 1 tablet (5 mg total) by mouth daily.  Reviewing the report, patient has long thrombosis of the superficial saphenous   vein, extending to the proximal part,Just 1.5 cm distal   to the opening therefore  This will be treated as DVT   She will give be given at least 3 months worth of treatment with Coumadin she will be initially ******* with Lovenox  Platelet count, CBc NORMAL   PATIENT HAS NO ACTIVE BLEEDING  Pros and cons discussed,   patient agrees with the plan  This is an extended visit  Over half an hour to 40 minutes spent with this patient,Of which more than 50% of the time was spent counseling and coordinating care, patient was enrolled in the Coumadin clinic, Coumadin precautions regarding taking Coumadin, diet etc. Was also addressed  Due to her comorbid condition, family history previous PE,  And not sure that this should be a lifelong anticoagulation patient should also discuss this hematology oncologist for now she is being started on 3 months worth I will see her back in one month reevaluate and decide further  management    Thrombophlebitis leg  - VENOUS DUPLEX RIGHT LOWER EXTREMITY  - diclofenac sodium 1 % Gel; Apply 4 times daily  Cold compresses  Tylenol as needed    Cellulitis  Probable, unclear, but patient can complete a course of Keflex that was prescribed      Right leg pain  Secondary to thrombosis and probably phlebitis  Used topical diclofenac gel  Cold compresses    Other Orders  - cephalexin (KEFELX) 500 MG capsule; Take 500 mg by mouth 4 (four) times daily.  - ******: ibuprofen (MOTRIN) 800 MG tablet; Take 1 tablet (800 mg total) by mouth every 6 (six) hours as needed for pain (for 1 week then as needed).  - ******: enoxaparin (LOVENOX) 40 mg/0.4 mL Syrg syringe; Inject 0.4 mLs (40 mg total) into the skin daily.    Follow up in about one month      No Follow-up on file.    Orders Placed This Encounter   Procedures   __ VENOUS DUPLEX RIGHT LOWER EXTREMITY   reviewed stat resultswith the patient      Medication List       These changes are accurate as of: */*/**** 11:48 AM. If you have any questions, ask your nurse or doctor.             Notice        Some of the medications listed here do not show instructions, such as how often to take the medication. Ask your doctor or nurse how to use these medications.              CONTINUE taking these medications         cephalexin 500 MG capsule   Commonly known as:  KEFELX       Cozaar 50 MG tablet   Generic drug:  losartan   1 tablet by mouth once a day       exemestane 25 mg tablet   Commonly known as:  AROMASIN   (Ask your doctor or nurse how to take this medication.)       fluticasone 50 mcg/actuation nasal spray   Commonly known as:  FLONASE   2 sprays by Nasal route daily.       ibuprofen 400 MG tablet   Commonly known as:  ADVIL,MOTRIN       naproxen 500 MG tablet   Commonly known as:  NAPROSYN   1 tablet by mouth twice a day with meals       Osteo-Poretical 600mg (1,000mg) -1,000 unit Tab   Generic drug:  calcium carbonate-vitamin D3   1\\xa0tablet tablet by mouth every morning       Ventolin HFA 90 mcg/actuation inhaler   Generic drug:  albuterol   2\\xa0puff puff using inhaler every four to six hours as needed       Xanax 0.5 MG tablet   Generic drug:  ALPRAZolam   1 tablet by mouth  as directed             STOP taking these medications         HYDROcodone-acetaminophen 5-325 mg per tablet   Commonly known as:  NORCO   Stopped by:  ***** ******, MD'),\n",
       "  ('Progress Notes', 'Report to follow in EPIC.'),\n",
       "  ('Procedures',\n",
       "   'Exam Name                Venous - LE, Unilateral Extended    Ref Exam ID              ******    Technical Limitations:    None    Interpretation:    Incompressible right great saphenous vein  ( 1.1 cm from sapheno-    femoral junction extending to knee level).    Normal compressibility of the deep veins in the right lower extremity.    Impression:    Totally occluding acute thrombosis of the right great saphenous vein.    No evidence of deep vein thrombosis of the right lower extremity.    No evidence of deep vein reflux noted of the right lower extremity.    Comparison:    No previous study performed.    Comment:    Exam performed by ******** *******, RVT    Dr ******  notified of critical value results on */*/**** at 11:45 am.     Repeat back given.'),\n",
       "  ('Progress Notes',\n",
       "   \"Subjective:       ****** *. ***** presents to the clinic 2 weeks following lap chole. Eating a regular diet without difficulty. Bowel movements are Normal.  The patient is not having any pain..  Recently diagnosed with a right leg DVT.  On coumadin and lovenox currently.       Objective:      BP 117/69 | Pulse 72 | Ht 1.676 m (5' 6) | Wt 91.173 kg (201 lb) | BMI 32.46 kg/m2    General:  alert, appears stated age and cooperative   Abdomen: soft, bowel sounds active, non-tender   Incision:   healing well, no drainage, no erythema, no hernia, no seroma, no swelling, no dehiscence, incision well approximated       Assessment:      Doing well postoperatively. except for her DVT.     Plan:      1. Continue any current medications.  2. Wound care discussed.  3. Pt is to increase activities as tolerated.  4.  Follow up as needed.\"),\n",
       "  ('Patient Instructions',\n",
       "   'Flu vaccine in *******    Discontinue Coumadin in ********'),\n",
       "  ('Progress Notes',\n",
       "   \"Subjective:Patient is here to followup on her right leg phlebitis      Patient ID: ****** *. ***** is a 65 y.o. female.    Chief Complaint:As above    HPI  She completed Lovenox, she's on Coumadin 5 mg  She will take a total of 3 months ** ******** *  She was having extensive superficial thrombophlebitis  Postsurgically she is healed      Past Medical History   Diagnosis Date   __ Essential hypertension    __ Chronic rhinitis    __ Osteoporosis    __ Small bowel obstruction 2008     recurrent / s/p partial resection, unclear etiology for small bowel obstruction   __ Pulmonary embolism      ivc filter, family history of PE   __ Arthritis      djd back disc disease, arthritis of the knee   __ Hyperlipidemia    __ Fibrocystic breast disease in female      breast cancer on treatment   __ Chronic back pain      degenerative back disease, disc disease stenosis and metastatic back disease   __ Vertigo      stable   __ Family history of deep venous thrombosis      factor * ****** positive and daughter, PE and the neice   __ ** - breast cancer      continuing treatment   __ Lymphoma 2010     stage II follicular lymphoma status post chemotherapy and splenectomy       Past Surgical History   Procedure Laterality Date   __ Splenectomy, total     __ Small intestine surgery       bowel resection   __ Ivc filter retrieval     __ Breast surgery Left 2011     lumpectomy   __ Cholecystectomy         Family History   Problem Relation Age of Onset   __ Thrombosis Mother    __ Thrombosis ********      pe, dvt factor v   __ Cancer Brother      skin ca   __ Cancer Maternal Aunt      breast ca       History   Substance Use Topics   __ Smoking status: Never Smoker    __ Smokeless tobacco: Never Used   __ Alcohol Use: No      occasionally       Review of Systems  Review of systems is otherwise negative, see pertinent positives and negatives in ***.  All other systems are normal.    Objective:     BP 96/60 | Pulse 72 | Temp(Src) 36.8 °C (98.2 °F) (Oral) | Wt 91.989 kg (202 lb 12.8 oz) | BMI 32.75 kg/m2  Repeat blood pressure 13*/**    Physical Exam  Patient appeared well not in any distress  Lungs are clear to auscultation with no crackles, wheezing or rhonchi.  There is good air movement in all fields.    Heart S1 and S2 normal with a regular rate and rhythm.  There is no murmur or gallop.    Right lower extremity no phlebitis no tenderness no redness    Assessment:See blue     Procedures    The primary encounter diagnosis was Thrombosis. Diagnoses of Unspecified essential hypertension and Well adult health check were also pertinent to this visit.    Plan:See below   ****** was seen today for follow up blood clot.    Diagnoses and associated orders for this visit:    Thrombosis  Complete treatment with Coumadin for 3 month ******** *   completely 3  month's course    Unspecified essential hypertension  Controlled continue treatment  - losartan (COZAAR) 50 MG tablet; Take 1 tablet (50 mg total) by mouth daily.    Well adult health check  - Pneumococcal polysaccharide (Pneumovax)  She will discuss with him on to she can take shingles vaccination but it is an absolute contraindication for lymphoma But she is in remission\"),\n",
       "  ('Patient Instructions',\n",
       "   'Due to recurrent clots and your leg symptoms, recommend discontinuation of exemestane...risks outweigh he benefits.'),\n",
       "  ('Progress Notes',\n",
       "   'Reason for visit: Ms Hojna is seen for follow up of lymphoma.  HPI:  **/****: Presented with back pain, CT revealed the incidental finding of adenopathy and  splenomegaly. A left groin node biopsy showed malignant lymphoma, follicular low grade. She was  followed with observation.  **/****: Increased pain, MRI shows progression of NHL involving spine.  **/****: Began Fludarabine chemotherapy.  *-*/****: EBRT spine, T2/T4 and sacrum.  **/****: Hospitalized with DVT/PE and GI bleed, IVC filter placed.  **/****: Final Fludarabine, cycle #5.  **-**/****: Hospitalized with SBO. Ultimately underwent laparatomy, small bowel resection,  splenectomy, pathology amyloid, no residual NHL. She was observed.  **/****: PET-CT no progression.  **/****: PET-CT progression.  *-**/****: Enrolled in the clinical trial Biogen Idec ***-**-*** Galiximab/Placebo with Rituximab.  **/****: PET-CT near **.  **/****: PET-CT remission.  */****: PET CT remission  */****: L breast DCIS 4 mm, high grade resected.  completed RT, started exemestane  */**** - PET - tonsil uptake , had bronchitis at that time.    PMH :HTN, daughter and mon have VTE and positive f/h of ****** * leiden mutation.  Past Medical History   Diagnosis Date   __ Essential hypertension    __ Chronic rhinitis    __ Osteoporosis    __ Small bowel obstruction 2008     recurrent / s/p partial resection, unclear etiology for small bowel obstruction   __ Pulmonary embolism      ivc filter, family history of PE   __ Arthritis      djd back disc disease, arthritis of the knee   __ Hyperlipidemia    __ Fibrocystic breast disease in female      breast cancer on treatment   __ Chronic back pain      degenerative back disease, disc disease stenosis and metastatic back disease   __ Vertigo      stable   __ Family history of deep venous thrombosis      factor * ****** positive and daughter, PE and the neice   __ ** - breast cancer      continuing treatment   __ Lymphoma 2010     stage II follicular lymphoma status post chemotherapy and splenectomy   __ Saphenous vein clot */****     rt         Interval history:She needed a cholecystectomy since last visit and subsequently developed a saphaneous clot that she is on warfarin for now. She has a PE also a few years ago during her lymphoma and has a ivc filter.Remains fully active.  ROS: 12 system ROS otherwise negative.  Current Outpatient Prescriptions   Medication Sig Dispense Refill   __ albuterol (VENTOLIN HFA) 90 mcg/actuation inhaler 2\\xa0puff puff using inhaler every four to six hours as needed  1  5   __ calcium carbonate-vitamin D3 (OSTEO-PORETICAL) 600mg (1,000mg) -1,000 unit Tab 1\\xa0tablet tablet by mouth every morning     1   __ diclofenac sodium 1 % Gel Apply 4 times daily  100 g  1   __ exemestane (AROMASIN) 25 mg tablet       30 tablet  6   __ fluticasone (FLONASE) 50 mcg/actuation nasal spray 2 sprays by Nasal route daily.  16 g  1   __ losartan (COZAAR) 50 MG tablet Take 1 tablet (50 mg total) by mouth daily.  90 tablet  2   __ warfarin (COUMADIN) 5 MG tablet Take 1 tablet (5 mg total) by mouth daily.  90 tablet  3   __ DISCONTD: cephalexin (KEFELX) 500 MG capsule Take 500 mg by mouth 4 (four) times daily.       __ ALPRAZolam (XANAX) 0.5 MG tablet 1 tablet by mouth  as directed  1 tablet     __ HYDROcodone-acetaminophen (NORCO) 5-325 mg per tablet          No current facility-administered medications for this visit.     No Known Allergies    Exam: Appears stable,  Blood pressure 14*/**, pulse 86, temperature 36.4 °C (97.5 °F), temperature source Oral, weight 91.853 kg (202 lb 8 oz).  negative.Throat exam - mild erythema in tonsillar region No scleral icterus. No cervical, axillary, or epitrochlear adenopathy. Chest is  clear to  auscultation and percussion. Heart has regular rate and rhythm, normal s1 and s2, no gallop or JVD.  Abdomen is soft and non-tender, no hepatomegaly or spleen. Extremities have no edema. No spinal  tenderness. *****, ** intact, CN intact *-**, power is full, gait is steady.    Labs:   Lab Results   Component Value Date    WBC 4.7 **/*/****    HGB 13.2 **/*/****    HCT 41.2 **/*/****    MCV 84.6 **/*/****    PLT 383 **/*/****       Chemistry        Component Value Date/Time    CO2 25 **/*/**** 1224    BUN 13 **/*/**** 1224    CREATININE 0.35 **/*/**** 1224        Component Value Date/Time    CALCIUM 9.7 **/*/**** 1224    ALKPHOS 72 **/*/**** 1224    AST 17 **/*/**** 1224    ALT 31 **/*/**** 1224            Impression:  1. Low grade nonHodgkins lymphoma, stage ***, in remission.Recent scan - no active disease.Further imaging as cliniclly indicated.  2. PE, has IVC filter.  3. Back pain, sciatica, working diagnosis is that this is probably due residual spine destruction  from the lymphoma.  4. KPS 100%.  5. splenectomy specimen - showed amyloid, MPEV neg for m protein  6. DCIS: * braest */****: s/p RT. on exemestane.recent mammogram negative.Request given for Bone  density scan in */****   Due to h/o recent vte and past pe and her c/o LE discomfort since it was started, I believe the risks outweigh the benefits and we mutually agreed to discontinue the exemestane.  7. Saphaneous vein clot- althogh this is recurrent vte, it was provoked and superficial. ***** recommended discontinuation of anticoagulation after 3 months.    F/u in 6 months'),\n",
       "  ('Telephone Encounter', 'Ok to order'),\n",
       "  ('Telephone Encounter',\n",
       "   'Patient would like a return phone call from Dr. ****** in regards to her ******** vaccine stating her Oncologist said it is ok for the patient to receive the vaccine. Patient is requesting a call back as soon as possible.'),\n",
       "  ('Telephone Encounter', 'Sent to Dr'),\n",
       "  ('Telephone Encounter', 'zostavax ordered'),\n",
       "  ('MR AVS Snapshot',\n",
       "   \"****** *. *****   **/*/**** 10:00 AM   Office Visit    Provider:  ***** ******, MD   Department:  HFMC St Hgts Internal Medicine   Dept Phone:  ***-***-****           Reason for Visit    Cough     Nasal Congestion x 6 days      Diagnoses this Visit    Bronchitis    -  Primary     PND (post-nasal drip)           Follow-up and Disposition    Return if symptoms worsen or fail to improve.      Future Appointments    Date & Time ******** ********** ******    */**/**** 10:20 ** ***** ******, MD HFMC St Hgts Internal Medicine ******** ***         Today's Medication Changes          These changes are accurate as of: **/*/**** 10:38 AM. If you have any questions, ask your nurse or doctor.               Notice        Some of the medications listed here do not show instructions, such as how often to take the medication. Ask your doctor or nurse how to use these medications.          START taking these medications    azithromycin 250 MG tablet   Commonly known as:  Zithromax Z-***   Take 1 tablet (250 mg total) by mouth daily. 2 tabs on day 1, then 1 day QD X 4, inform coumadin clinic    Started by: ***** ******, MD      STOP taking these medications    exemestane 25 mg tablet   Commonly known as:  AROMASIN    Stopped by: ***** ******, MD            Where to Get Your Medications    You need to pick up these prescriptions. We sent them to a ******** ********, so go there to get them.    ***/******** #**** - ****** TWP., ** - ***** ****** **. ** ****** ** ** ****   -  azithromycin 250 MG tablet   -  fluticasone 50 mcg/actuation nasal spray    ***** ****** **. *****:  ***-***-****   ****** ***. ** *****                      Your Updated Medication List          This list is accurate as of: **/*/**** 10:38 AM. Always use your most recent med list.               Notice        Some of the medications listed here do not show instructions, such as how often to take the medication. Ask your doctor or nurse how to use these medications.           azithromycin 250 MG tablet   Commonly known as:  Zithromax Z-***   Take 1 tablet (250 mg total) by mouth daily. 2 tabs on day 1, then 1 day QD X 4, inform coumadin clinic        diclofenac sodium 1 % Gel   Apply 4 times daily        fluticasone 50 mcg/actuation nasal spray   Commonly known as:  Flonase   2 sprays by Nasal route daily.        HYDROcodone-acetaminophen 5-325 mg per tablet   Commonly known as:  NORCO        losartan 50 MG tablet   Commonly known as:  Cozaar   Take 1 tablet (50 mg total) by mouth daily.        Osteo-Poretical 600mg (1,000mg) -1,000 unit Tab   Generic drug:  calcium carbonate-vitamin D3   1\\xa0tablet tablet by mouth every morning        Ventolin HFA 90 mcg/actuation inhaler   Generic drug:  albuterol   2\\xa0puff puff using inhaler every four to six hours as needed        warfarin 5 MG tablet   Commonly known as:  Coumadin   Take 1 tablet (5 mg total) by mouth daily.        Xanax 0.5 MG tablet   Generic drug:  ALPRAZolam   1 tablet by mouth  as directed                Patient Instructions     ***** **** ****** System Patient Instructions  Bronchitis: After Your Visit  Your Care Instructions  Bronchitis is inflammation of the bronchial tubes, which carry air to the lungs. The tubes swell and produce mucus, or phlegm. The mucus and inflamed bronchial tubes make you cough. You may have trouble breathing.  Most cases of bronchitis are caused by viruses like those that cause colds. Antibiotics may help cure bronchitis that is caused by bacteria, but not bronchitis that is caused by a virus.  Bronchitis usually develops rapidly and lasts about 2 to 3 weeks in otherwise healthy people.  Follow-up care is a key part of your treatment and safety. Be sure to make and go to all appointments, and call your doctor if you are having problems. It__s also a good idea to know your test results and keep a list of the medicines you take.  How can you care for yourself at home?  · Take all medicines exactly as prescribed.  · If your doctor prescribed antibiotics, take them as directed. Do not stop taking them just because you feel better. You need to take the full course of antibiotics.  · Get some extra rest.  · Take an over-the-counter pain medicine, such as acetaminophen (Tylenol), ibuprofen (Advil, Motrin), or naproxen (Aleve) to reduce fever and relieve body aches. Read and follow all instructions on the label.  · Do not take two or more pain medicines at the same time unless the doctor told you to. Many pain medicines have acetaminophen, which is Tylenol. *** much acetaminophen (Tylenol) can be harmful.  · Take an over-the-counter cough medicine that contains dextromethorphan to help quiet a dry, hacking cough so that you can sleep. Avoid cough medicines that have more than one active ingredient. Read and follow all instructions on the label.  · Breathe moist air from a humidifier, hot shower, or sink filled with hot water. The heat and moisture will thin mucus so you can cough it out.  · Do not smoke. Smoking can make bronchitis worse. If you need help quitting, talk to your doctor about stop-smoking programs and medicines. These can increase your chances of quitting for good.  When should you call for help?  Call 911 anytime you think you may need emergency care. For example, call if:  · You have severe trouble breathing.  Call your doctor now or seek immediate medical care if:  · You have new or worse trouble breathing.  · You cough up dark brown or bloody mucus (sputum).  · You have a new or higher fever.  · You have a new rash.  Watch closely for changes in your health, and be sure to contact your doctor if:  · You cough more deeply or more often, especially if you notice more mucus or a change in the color of your mucus.  · You are not getting better as expected.   Where can you learn more?   Log on to your ***** **** ******* account at www.HenryFord.com/MyChart and go to the left hand side box Health Library. Enter **** and click Search to learn more about __Bronchitis: After Your Visit__.    Please ask any HFHS clinical representative for assistance in obtaining a ***** **** ******* account.   © 2006-2012 Healthwise, Incorporated. Care instructions adapted under license by ***** **** ****** System. This care instruction is for use with your licensed healthcare professional. If you have questions about a medical condition or this instruction, always ask your healthcare professional. Healthwise, Incorporated disclaims any warranty or liability for your use of this information.  Content Version: *.*.*****; Last Revised: ***** *, ****                      Allergies as of **/*/****    No Known Allergies      Ongoing Medical Issues          Noted - Resolved    Saphenous vein clot Unknown - Present    Small bowel obstruction Unknown - Present    Pulmonary embolism Unknown - Present    Fibrocystic breast disease in female Unknown - Present    Family history of deep venous thrombosis Unknown - Present    Essential hypertension Unknown - Present    Chronic rhinitis Unknown - Present    CA - breast cancer Unknown - Present      Immunizations Administered During the Admission Administered on Date of Encounter - **/*/****    None         Result Summary      Health Maintenance Summary    DXA SCAN Overdue */*/****     COLON CANCER SCREENING 10 YEAR COLONOSCOPY Next Due */*/****     TRIGLYCERIDE LEVEL Next Due */**/****     HDL LEVEL Next Due */**/****     TOTAL CHOLESTEROL LEVEL Next Due */**/****     LDL LEVEL Next Due */**/****     GLOMERULAR FILTRATION RATE Next Due **/*/****     INFLUENZA VACCINE Next Due **/*/****     MAMMOGRAM Next Due */*/****     CREATININE LEVEL Next Due */*/****     POTASSIUM LEVEL Next Due */*/****     SODIUM LEVEL Next Due */*/****     BUN Next Due */*/****       Sign Up for MyChart    ***** **** MyChart, our secure online patient portal, allows you to conveniently manage your health care needs from your home or office computer. As a registered user, you can send messages to your doctor, view test results, renew prescriptions, request appointments and more. To activate your account, go to www.HenryFord.com/MyChart.     ***** on Log in to MyChart Account and then click on Activate your Account under the 'New User?' heading to access the new member activation page. Enter your MyChart Activation Code exactly as it appears below, your Medical Record Number (MRN), without leading zeros, and your Date of Birth (mm/dd/yyyy), then click Next. You will then be prompted to create a MyChart ***** ******** & Password, and enter a password reset security question & answer. Finally, you will need to enter your e-mail address to complete the activation process.    If you do not activate your account before the expiration date, you must request a new code.    MyChart Activation Code: *****-*****-*****  Expires: **/*/****  9:07 AM    If you have questions, you can email *********@****.*** or call *-***-********* (***-***-****). Remember, MyChart is not to be used for urgent needs. For medical emergencies, dial 911.\"),\n",
       "  ('Patient Instructions',\n",
       "   '***** **** Health System Patient Instructions  Bronchitis: After Your Visit  Your Care Instructions  Bronchitis is inflammation of the bronchial tubes, which carry air to the lungs. The tubes swell and produce mucus, or phlegm. The mucus and inflamed bronchial tubes make you cough. You may have trouble breathing.  Most cases of bronchitis are caused by viruses like those that cause colds. Antibiotics may help cure bronchitis that is caused by bacteria, but not bronchitis that is caused by a virus.  Bronchitis usually develops rapidly and lasts about 2 to 3 weeks in otherwise healthy people.  Follow-up care is a key part of your treatment and safety. Be sure to make and go to all appointments, and call your doctor if you are having problems. It__s also a good idea to know your test results and keep a list of the medicines you take.  How can you care for yourself at home?  · Take all medicines exactly as prescribed.  · If your doctor prescribed antibiotics, take them as directed. Do not stop taking them just because you feel better. You need to take the full course of antibiotics.  · Get some extra rest.  · Take an over-the-counter pain medicine, such as acetaminophen (Tylenol), ibuprofen (Advil, Motrin), or naproxen (Aleve) to reduce fever and relieve body aches. Read and follow all instructions on the label.  · Do not take two or more pain medicines at the same time unless the doctor told you to. Many pain medicines have acetaminophen, which is Tylenol. *** much acetaminophen (Tylenol) can be harmful.  · Take an over-the-counter cough medicine that contains dextromethorphan to help quiet a dry, hacking cough so that you can sleep. Avoid cough medicines that have more than one active ingredient. Read and follow all instructions on the label.  · Breathe moist air from a humidifier, hot shower, or sink filled with hot water. The heat and moisture will thin mucus so you can cough it out.  · Do not smoke. Smoking can make bronchitis worse. If you need help quitting, talk to your doctor about stop-smoking programs and medicines. These can increase your chances of quitting for good.  When should you call for help?  Call 911 anytime you think you may need emergency care. For example, call if:  · You have severe trouble breathing.  Call your doctor now or seek immediate medical care if:  · You have new or worse trouble breathing.  · You cough up dark brown or bloody mucus (sputum).  · You have a new or higher fever.  · You have a new rash.  Watch closely for changes in your health, and be sure to contact your doctor if:  · You cough more deeply or more often, especially if you notice more mucus or a change in the color of your mucus.  · You are not getting better as expected.   Where can you learn more?   Log on to your ***** **** ******* account at www.HenryFord.com/MyChart and go to the left hand side box Health Library. Enter **** and click Search to learn more about __Bronchitis: After Your Visit__.    Please ask any HFHS clinical representative for assistance in obtaining a ***** **** ******* account.   © 2006-2012 Healthwise, Incorporated. Care instructions adapted under license by ***** **** ****** System. This care instruction is for use with your licensed healthcare professional. If you have questions about a medical condition or this instruction, always ask your healthcare professional. Healthwise, Incorporated disclaims any warranty or liability for your use of this information.  Content Version: *.*.*****; Last Revised: ***** *, ****'),\n",
       "  ('Progress Notes',\n",
       "   'Subjective:      Patient ID: ****** *. ***** is a 65 y.o. female.    Chief Complaint:    Cough  The current episode started in the past 7 days. The problem has been gradually worsening. The problem occurs every few minutes. The cough is non-productive. Associated symptoms include postnasal drip, rhinorrhea, shortness of breath and wheezing. Pertinent negatives include no chest pain, chills, ear pain, fever, hemoptysis, rash or sore throat. The symptoms are aggravated by lying down. Risk factors: flonase. She has tried a beta-agonist inhaler for the symptoms. The treatment provided no relief.   she denies any ear pain or pressure  She has beenBabysitting  sshe has been using Flonase  Constantly coughing, could not sleep at night  Cough is slightly productive mostly dry whitish phlegm  Chest tightness and some wheezing also  She is completing Coumadin in one week    Past Medical History   Diagnosis Date   __ Essential hypertension    __ Chronic rhinitis    __ Osteoporosis    __ Small bowel obstruction 2008     recurrent / s/p partial resection, unclear etiology for small bowel obstruction   __ Pulmonary embolism      ivc filter, family history of PE   __ Arthritis      djd back disc disease, arthritis of the knee   __ Hyperlipidemia    __ Fibrocystic breast disease in female      breast cancer on treatment   __ Chronic back pain      degenerative back disease, disc disease stenosis and metastatic back disease   __ Vertigo      stable   __ Family history of deep venous thrombosis      factor * ****** positive and daughter, PE and the neice   __ ** - breast cancer      continuing treatment   __ Lymphoma 2010     stage II follicular lymphoma status post chemotherapy and splenectomy   __ Saphenous vein clot */****     rt       Past Surgical History   Procedure Laterality Date   __ Splenectomy, total     __ Small intestine surgery       bowel resection   __ Ivc filter retrieval     __ Breast surgery Left 2011     lumpectomy   __ Cholecystectomy         Family History   Problem Relation Age of Onset   __ Thrombosis Mother    __ Thrombosis ********      pe, dvt factor v   __ Cancer Brother      skin ca   __ Cancer Maternal Aunt      breast ca       History   Substance Use Topics   __ Smoking status: Never Smoker    __ Smokeless tobacco: Never Used   __ Alcohol Use: No      Comment: occasionally       Review of Systems   Constitutional: Negative for fever, chills and activity change.   HENT: Positive for rhinorrhea, postnasal drip and sinus pressure. Negative for ear pain, sore throat and ear discharge.    Eyes: Negative.    Respiratory: Positive for cough, chest tightness, shortness of breath and wheezing. Negative for hemoptysis.    Cardiovascular: Negative.  Negative for chest pain.   Skin: Negative for rash.   Review of systems is otherwise negative, see pertinent positives and negatives in ***.  All other systems are normal.    Objective:patient appeared well except for congestion     BP 120/80 | Pulse 72 | Temp(Src) 37.1 °C (98.8 °F) (Oral) | Wt 93.35 kg (205 lb 12.8 oz) | BMI 33.23 kg/m2  She was not tachypneic or in any ddistress  Physical Exam  Patient appeared not in any distres  HEENT exam reveals no pallor   TM congested on the right side  left side normal  Throat erythema  Neck supple no lymph nodes  Lung exam revealed bilateral scattered wheezes  Few scattered crackles in the bases bilaterally  Fair air exchange  Heart S1 and S2 normal with a regular rate and rhythm.  There is no murmur or gallop.      Assessment:see below     Procedures    There were no encounter diagnoses.    Plan:bronchitis respiratory infection     ****** was seen today for cough and nasal congestion.    Diagnoses and associated orders for this visit:    Bronchitis, respiratory infection with postn  drainage  - azithromycin (ZITHROMAX Z-***) 250 MG tablet; Take 1 tablet (250 mg total) by mouth daily. 2 tabs on day 1, then 1 day QD X 4, inform coumadin clinic  - fluticasone (FLONASE) 50 mcg/actuation nasal spray; 2 sprays by Nasal route daily.  Albuterol 2 puffs every 6 hours fo  Wheezing,  P.r.n. Cough syrup  Contact Coumadin clinic  Followup if not better      Saphenous venous clot  Discontinue Coumadin in one to 2 weeks completing 3 mo'),\n",
       "  ('MR AVS Snapshot',\n",
       "   \"****** *. *****   **/*/**** 9:40 AM   Office Visit    Provider:  ***** ******, MD   Department:  HFMC St Hgts Internal Medicine   Dept Phone:  ***-***-****           Reason for Visit    Cough worse      Diagnoses this Visit    Bronchitis    -  Primary       Future Appointments    Date & Time ******** ********** ******    */**/**** 10:20 ** ***** ******, MD HFMC St Hgts Internal Medicine ******** ***         Today's Medication Changes          These changes are accurate as of: **/*/**** 11:22 AM. If you have any questions, ask your nurse or doctor.               START taking these medications    chlorpheniramine-hydrocodone 8-10 mg/5 mL Su12   Commonly known as:  ********* *********** **   1 tsp twice daily    Started by: ***** ******, MD    methylprednisolone 4 mg tablet   Commonly known as:  Medrol (***)   follow package directions    Started by: ***** ******, MD            Where to Get Your Medications    You need to pick up these prescriptions. We sent some of them to a ******** ********. Go to these places to get your medications.    ***/******** #**** - ****** TWP., ** - ***** ****** **. ** ****** ** ** ****   -  methylprednisolone 4 mg tablet    ***** ****** **. *****:  ***-***-****   ****** ***. ** *****           You may get the following medications from *** ********   -  chlorpheniramine-hydrocodone 8-10 mg/5 mL Su12                     Your Updated Medication List          This list is accurate as of: **/*/**** 11:22 AM. Always use your most recent med list.                azithromycin 250 MG tablet   Commonly known as:  Zithromax Z-***   Take 1 tablet (250 mg total) by mouth daily. 2 tabs on day 1, then 1 day QD X 4, inform coumadin clinic        chlorpheniramine-hydrocodone 8-10 mg/5 mL Su12   Commonly known as:  ********* *********** **   1 tsp twice daily        diclofenac sodium 1 % Gel   Apply 4 times daily        fluticasone 50 mcg/actuation nasal spray   Commonly known as:  Flonase   2 sprays by Nasal route daily.        HYDROcodone-acetaminophen 5-325 mg per tablet   Commonly known as:  NORCO        losartan 50 MG tablet   Commonly known as:  Cozaar   Take 1 tablet (50 mg total) by mouth daily.        methylprednisolone 4 mg tablet   Commonly known as:  Medrol (***)   follow package directions        Osteo-Poretical 600mg (1,000mg) -1,000 unit Tab   Generic drug:  calcium carbonate-vitamin D3   1\\xa0tablet tablet by mouth every morning        Ventolin HFA 90 mcg/actuation inhaler   Generic drug:  albuterol   2\\xa0puff puff using inhaler every four to six hours as needed        warfarin 5 MG tablet   Commonly known as:  Coumadin   Take 1 tablet (5 mg total) by mouth daily.        Xanax 0.5 MG tablet   Generic drug:  ALPRAZolam   1 tablet by mouth  as directed                Patient Instructions    None            Allergies as of **/*/****    No Known Allergies      Ongoing Medical Issues          Noted - Resolved    Saphenous vein clot Unknown - Present    Small bowel obstruction Unknown - Present    Pulmonary embolism Unknown - Present    Fibrocystic breast disease in female Unknown - Present    Family history of deep venous thrombosis Unknown - Present    Essential hypertension Unknown - Present    Chronic rhinitis Unknown - Present    CA - breast cancer Unknown - Present      Immunizations Administered During the Admission Administered on Date of Encounter - **/*/****    None         Result Summary      Health Maintenance Summary    DXA SCAN Overdue */*/****     COLON CANCER SCREENING 10 YEAR COLONOSCOPY Next Due */*/****     TRIGLYCERIDE LEVEL Next Due */**/****     HDL LEVEL Next Due */**/****     TOTAL CHOLESTEROL LEVEL Next Due */**/****     LDL LEVEL Next Due */**/****     GLOMERULAR FILTRATION RATE Next Due **/*/****     INFLUENZA VACCINE Next Due **/*/****     MAMMOGRAM Next Due */*/****     CREATININE LEVEL Next Due */*/****     POTASSIUM LEVEL Next Due */*/****     SODIUM LEVEL Next Due */*/**** BUN Next Due */*/****       Sign Up for MyChart    ***** **** MyChart, our secure online patient portal, allows you to conveniently manage your health care needs from your home or office computer. As a registered user, you can send messages to your doctor, view test results, renew prescriptions, request appointments and more. To activate your account, go to www.HenryFord.com/MyChart.     ***** on Log in to MyChart Account and then click on Activate your Account under the 'New User?' heading to access the new member activation page. Enter your MyChart Activation Code exactly as it appears below, your Medical Record Number (MRN), without leading zeros, and your Date of Birth (mm/dd/yyyy), then click Next. You will then be prompted to create a MyChart ***** ******** & Password, and enter a password reset security question & answer. Finally, you will need to enter your e-mail address to complete the activation process.    If you do not activate your account before the expiration date, you must request a new code.    MyChart Activation Code: *****-*****-*****  Expires: **/*/****  9:07 AM    If you have questions, you can email *********@****.*** or call *-***-********* (***-***-****). Remember, MyChart is not to be used for urgent needs. For medical emergencies, dial 911.\"),\n",
       "  ('Patient Instructions',\n",
       "   '***** **** Health System Patient Instructions  Bronchitis: After Your Visit  Your Care Instructions  Bronchitis is inflammation of the bronchial tubes, which carry air to the lungs. The tubes swell and produce mucus, or phlegm. The mucus and inflamed bronchial tubes make you cough. You may have trouble breathing.  Most cases of bronchitis are caused by viruses like those that cause colds. Antibiotics may help cure bronchitis that is caused by bacteria, but not bronchitis that is caused by a virus.  Bronchitis usually develops rapidly and lasts about 2 to 3 weeks in otherwise healthy people.  Follow-up care is a key part of your treatment and safety. Be sure to make and go to all appointments, and call your doctor if you are having problems. It__s also a good idea to know your test results and keep a list of the medicines you take.  How can you care for yourself at home?  · Take all medicines exactly as prescribed.  · If your doctor prescribed antibiotics, take them as directed. Do not stop taking them just because you feel better. You need to take the full course of antibiotics.  · Get some extra rest.  · Take an over-the-counter pain medicine, such as acetaminophen (Tylenol), ibuprofen (Advil, Motrin), or naproxen (Aleve) to reduce fever and relieve body aches. Read and follow all instructions on the label.  · Do not take two or more pain medicines at the same time unless the doctor told you to. Many pain medicines have acetaminophen, which is Tylenol. *** much acetaminophen (Tylenol) can be harmful.  · Take an over-the-counter cough medicine that contains dextromethorphan to help quiet a dry, hacking cough so that you can sleep. Avoid cough medicines that have more than one active ingredient. Read and follow all instructions on the label.  · Breathe moist air from a humidifier, hot shower, or sink filled with hot water. The heat and moisture will thin mucus so you can cough it out.  · Do not smoke. Smoking can make bronchitis worse. If you need help quitting, talk to your doctor about stop-smoking programs and medicines. These can increase your chances of quitting for good.  When should you call for help?  Call 911 anytime you think you may need emergency care. For example, call if:  · You have severe trouble breathing.  Call your doctor now or seek immediate medical care if:  · You have new or worse trouble breathing.  · You cough up dark brown or bloody mucus (sputum).  · You have a new or higher fever.  · You have a new rash.  Watch closely for changes in your health, and be sure to contact your doctor if:  · You cough more deeply or more often, especially if you notice more mucus or a change in the color of your mucus.  · You are not getting better as expected.   Where can you learn more?   Log on to your ***** **** ******* account at www.HenryFord.com/MyChart and go to the left hand side box Health Library. Enter **** and click Search to learn more about __Bronchitis: After Your Visit__.    Please ask any HFHS clinical representative for assistance in obtaining a ***** **** ******* account.   © 2006-2012 Healthwise, Incorporated. Care instructions adapted under license by ***** **** ****** System. This care instruction is for use with your licensed healthcare professional. If you have questions about a medical condition or this instruction, always ask your healthcare professional. Healthwise, Incorporated disclaims any warranty or liability for your use of this information.  Content Version: *.*.*****; Last Revised: ***** *, ****'),\n",
       "  ('Progress Notes',\n",
       "   'Subjective: Persistent cough      Patient ID: ****** *. ***** is a 65 y.o. female.    Chief Complaint:as above    HPI  Patient continues to have persistent cough  Cough is mostly dry  No fever chills she feels some tightness in the lungs and wheezing  She is completing Z-*** that was given to her on Monday  She denies any hemoptysis  her side hurts,   And decided to get checked because symptoms have persistent       Past Medical History   Diagnosis Date   __ Essential hypertension    __ Chronic rhinitis    __ Osteoporosis    __ Small bowel obstruction 2008     recurrent / s/p partial resection, unclear etiology for small bowel obstruction   __ Pulmonary embolism      ivc filter, family history of PE   __ Arthritis      djd back disc disease, arthritis of the knee   __ Hyperlipidemia    __ Fibrocystic breast disease in female      breast cancer on treatment   __ Chronic back pain      degenerative back disease, disc disease stenosis and metastatic back disease   __ Vertigo      stable   __ Family history of deep venous thrombosis      factor * ****** positive and daughter, PE and the neice   __ ** - breast cancer      continuing treatment   __ Lymphoma 2010     stage II follicular lymphoma status post chemotherapy and splenectomy   __ Saphenous vein clot */****     rt   __ Cancer      bbreast cancer, lymphoma d/c aromasin 2 yrs following blood clot        Past Surgical History   Procedure Laterality Date   __ Splenectomy, total     __ Small intestine surgery       bowel resection   __ Ivc filter retrieval     __ Breast surgery Left 2011     lumpectomy   __ Cholecystectomy         Family History   Problem Relation Age of Onset   __ Thrombosis Mother    __ Thrombosis ********      pe, dvt factor v   __ Cancer Brother      skin ca   __ Cancer Maternal Aunt      breast ca       History   Substance Use Topics   __ Smoking status: Never Smoker    __ Smokeless tobacco: Never Used   __ Alcohol Use: No      Comment: occasionally       Review of Systems  Review of systems is otherwise negative, see pertinent positives and negatives in ***.  All other systems are normal.    Objective: patient not in any distress not tachypneic hoarse voice     BP 120/70 | Pulse 64 | Temp(Src) 36.6 °C (97.8 °F) (Oral) | Wt 92.534 kg (204 lb) | BMI 32.94 kg/m2 | SpO2 93%    Physical Exam  HEENT exam  No pallor no sinus tenderness worse voice nasal congestion  Throat slightly erythematous with  Right TM minimally visualized because of wax left TM normal  Neck supple no JVD  Lungs are clear to auscultation with no crackles,slightly prolonged expiratory flow   occasional wheezesOtherwise  There is good air movement in all fields.    Heart S1 and S2 normal with a regular rate and rhythm.  There is no murmur or gallop.      Assessment:see below     Procedures    The encounter diagnosis was Bronchitis.    Plan:see below     Persistent cough and bronchitis  ****** was seen today for cough.    Diagnoses and associated orders for this visit:    Bronchitis   complete Z-***   no change in antibiotics  Chest x-ray stat Reviewed, negative for pneumonia   continue treatmentBreathing treatment given in the  Office today  With ewwith significant relief of symptoms   use albuterol 2 puffs every 6 hou  Symptomatic treatment  Followup if not better  - chlorpheniramine-hydrocodone (********* *********** **) 8-10 mg/5 mL Su12; 1 tsp twice daily  - methylprednisolone (MEDROL, ***,) 4 mg tablet; follow package directions'),\n",
       "  ('Telephone Encounter',\n",
       "   'Spoke with devida ** *** ********, verified that they did receive the prescription **/*/**. No further needs'),\n",
       "  ('Telephone Encounter', '***** encounter'),\n",
       "  ('Telephone Encounter', 'close'),\n",
       "  ('ED Notes', 'Instructed for ccms U/A'),\n",
       "  ('ED Notes', 'Patient identifiers completed/spelled name, and verified BD'),\n",
       "  ('ED Notes', 'Patient transported to X-ray'),\n",
       "  ('ED Notes', 'Pt back from xray.'),\n",
       "  ('ED Notes',\n",
       "   'Similar to gall bladder attack she had in ****, but had surg/chole. Low grade temp'),\n",
       "  ('ED Provider Notes',\n",
       "   \"History     Chief Complaint   Patient presents with   __ Emesis     started during last night, abd cramping,      Patient is a 65 y.o. female presenting with vomiting. The history is provided by the patient.   Emesis  Severity:  Moderate  Timing:  Intermittent  Progression:  Unchanged  Chronicity:  New  Recent urination:  Normal  Relieved by:  Nothing  Worsened by:  Nothing tried  Associated symptoms: abdominal pain    Associated symptoms: no chills, no cough, no diarrhea, no fever, no headaches and no sore throat    Risk factors: prior abdominal surgery    Risk factors: no diabetes, no sick contacts and no suspect food intake        Past Medical History   Diagnosis Date   __ Essential hypertension    __ Chronic rhinitis    __ Osteoporosis    __ Small bowel obstruction 2008     recurrent / s/p partial resection, unclear etiology for small bowel obstruction   __ Pulmonary embolism      ivc filter, family history of PE   __ Arthritis      djd back disc disease, arthritis of the knee   __ Hyperlipidemia    __ Fibrocystic breast disease in female      breast cancer on treatment   __ Chronic back pain      degenerative back disease, disc disease stenosis and metastatic back disease   __ Vertigo      stable   __ Family history of deep venous thrombosis      factor * ****** positive and daughter, PE and the neice   __ ** - breast cancer      continuing treatment   __ Lymphoma 2010     stage II follicular lymphoma status post chemotherapy and splenectomy   __ Saphenous vein clot */****     rt   __ Cancer      bbreast cancer, lymphoma d/c aromasin 2 yrs following blood clot        Past Surgical History   Procedure Laterality Date   __ Splenectomy, total     __ Small intestine surgery       bowel resection   __ Ivc filter retrieval     __ Breast surgery Left 2011     lumpectomy   __ Cholecystectomy         Family History   Problem Relation Age of Onset   __ Thrombosis Mother    __ Thrombosis ********      pe, dvt factor v   __ Cancer Brother skin ca   __ Cancer Maternal Aunt      breast ca       History   Substance Use Topics   __ Smoking status: Never Smoker    __ Smokeless tobacco: Never Used   __ Alcohol Use: No      Comment: occasionally       Review of Systems   Constitutional: Negative for fever and chills.   HENT: Negative for congestion, sore throat and neck stiffness.    Eyes: Negative for visual disturbance.   Respiratory: Negative for cough and shortness of breath.    Cardiovascular: Negative for chest pain.   Gastrointestinal: Positive for vomiting and abdominal pain. Negative for nausea and diarrhea.   Genitourinary: Negative for dysuria and flank pain.   Musculoskeletal: Negative for back pain.   Skin: Negative for rash.   Neurological: Negative for dizziness and headaches.   Psychiatric/Behavioral: Negative for behavioral problems.       Physical Exam   BP 135/76 | Pulse 92 | Temp(Src) 36.6 °C (97.9 °F) (Temporal Artery) | Resp 18 | Ht 1.676 m (5' 6) | Wt 92.534 kg (204 lb) | BMI 32.94 kg/m2 | SpO2 96%    Physical Exam   Nursing note and vitals reviewed.  Constitutional: She is oriented to person, place, and time. She appears well-developed and well-nourished.   HENT:   Head: Normocephalic and atraumatic.   Eyes: Conjunctivae and EOM are normal. Pupils are equal, round, and reactive to light.   Neck: Normal range of motion. Neck supple.   Cardiovascular: Normal rate, regular rhythm and normal heart sounds.    No murmur heard.  Pulmonary/Chest: Effort normal and breath sounds normal.   Abdominal: Soft. Bowel sounds are normal. She exhibits no distension and no mass. There is tenderness. There is no rebound and no guarding.   Generalized tenderness , mild.   Musculoskeletal: Normal range of motion.   Neurological: She is alert and oriented to person, place, and time.   Skin: Skin is warm and dry.   Psychiatric: Her behavior is normal.       ED Course   MDM  Number of Diagnoses or Management Options  Abdominal pain, unspecified site: established and improving     Amount and/or Complexity of Data Reviewed  Clinical lab tests: ordered and reviewed  Independent visualization of images, tracings, or specimens: yes    Risk of Complications, Morbidity, and/or Mortality  Presenting problems: moderate  Diagnostic procedures: moderate  Management options: moderate    Patient Progress  Patient progress: stable      Final Impression     Final diagnoses:   None\"),\n",
       "  ('Assessment & Plan Note',\n",
       "   '1.  NPO  2.  IVF  3.  NGT to LIWS  4.  Pain control PRN'),\n",
       "  ('Consults', 'See H & P'),\n",
       "  ('ED Notes', 'Patient transported to ** per wheelchair'),\n",
       "  ('ED Notes', 'Pt for transfer to *** main campus.'),\n",
       "  ('ED Notes',\n",
       "   'Pt is a transfer from ******** Heights Clinic for SBO. Pt states,  I been vomiting a lot lately, its been yellow or green. Last time I had a bowel movement was last Friday. Bowel sounds are hypoactive on auscultation. ABD appear distended. Pt c/o of subgastric ABD pain.  Pt presents with a pre-existing Peripheral IV to Left AC, and a pre-exisiting ** tube to left nares. MD ****** at bedside evaluting pt. Awaiting Trauma consult.'),\n",
       "  ('ED Notes', 'Pt returned from **.'),\n",
       "  ('ED Notes',\n",
       "   'Pt to dem via ems from sterling heights for trauma consult for sbo. Pt states her abd pain is 4/10 at this time. Denies nausea at this time. Pt with preexisting NGT to left nare and preexisting saline lock to left AC. Trauma paged, awaiting response.'),\n",
       "  ('ED Provider Notes',\n",
       "   \"History     Chief Complaint   Patient presents with   __ Emesis     started during last night, abd cramping,      Patient is a 65 y.o. female presenting with vomiting. The history is provided by the patient.   Emesis  Severity:  Moderate  Timing:  Intermittent  Progression:  Unchanged  Chronicity:  New  Recent urination:  Normal  Relieved by:  Nothing  Worsened by:  Nothing tried  Associated symptoms: abdominal pain    Associated symptoms: no chills, no cough, no diarrhea, no fever, no headaches and no sore throat    Risk factors: prior abdominal surgery    Risk factors: no diabetes, no sick contacts and no suspect food intake        Past Medical History   Diagnosis Date   __ Essential hypertension    __ Chronic rhinitis    __ Osteoporosis    __ Small bowel obstruction 2008     recurrent / s/p partial resection, unclear etiology for small bowel obstruction   __ Pulmonary embolism      ivc filter, family history of PE   __ Arthritis      djd back disc disease, arthritis of the knee   __ Hyperlipidemia    __ Fibrocystic breast disease in female      breast cancer on treatment   __ Chronic back pain      degenerative back disease, disc disease stenosis and metastatic back disease   __ Vertigo      stable   __ Family history of deep venous thrombosis      factor * ****** positive and daughter, PE and the neice   __ ** - breast cancer      continuing treatment   __ Lymphoma 2010     stage II follicular lymphoma status post chemotherapy and splenectomy   __ Saphenous vein clot */****     rt   __ Cancer      bbreast cancer, lymphoma d/c aromasin 2 yrs following blood clot        Past Surgical History   Procedure Laterality Date   __ Splenectomy, total     __ Small intestine surgery       bowel resection   __ Ivc filter retrieval     __ Breast surgery Left 2011     lumpectomy   __ Cholecystectomy         Family History   Problem Relation Age of Onset   __ Thrombosis Mother    __ Thrombosis ********      pe, dvt factor v   __ Cancer Brother skin ca   __ Cancer Maternal Aunt      breast ca       History   Substance Use Topics   __ Smoking status: Never Smoker    __ Smokeless tobacco: Never Used   __ Alcohol Use: No      Comment: occasionally       Review of Systems   Constitutional: Negative for fever and chills.   HENT: Negative for congestion, sore throat and neck stiffness.    Eyes: Negative for visual disturbance.   Respiratory: Negative for cough and shortness of breath.    Cardiovascular: Negative for chest pain.   Gastrointestinal: Positive for vomiting and abdominal pain. Negative for nausea and diarrhea.   Genitourinary: Negative for dysuria and flank pain.   Musculoskeletal: Negative for back pain.   Skin: Negative for rash.   Neurological: Negative for dizziness and headaches.   Psychiatric/Behavioral: Negative for behavioral problems.       Physical Exam   BP 135/76 | Pulse 92 | Temp(Src) 36.6 °C (97.9 °F) (Temporal Artery) | Resp 18 | Ht 1.676 m (5' 6) | Wt 92.534 kg (204 lb) | BMI 32.94 kg/m2 | SpO2 96%    Physical Exam   Nursing note and vitals reviewed.  Constitutional: She is oriented to person, place, and time. She appears well-developed and well-nourished.   HENT:   Head: Normocephalic and atraumatic.   Eyes: Conjunctivae and EOM are normal. Pupils are equal, round, and reactive to light.   Neck: Normal range of motion. Neck supple.   Cardiovascular: Normal rate, regular rhythm and normal heart sounds.    No murmur heard.  Pulmonary/Chest: Effort normal and breath sounds normal.   Abdominal: Soft. Bowel sounds are normal. She exhibits no distension and no mass. There is tenderness. There is no rebound and no guarding.   Generalized tenderness , mild.   Musculoskeletal: Normal range of motion.   Neurological: She is alert and oriented to person, place, and time.   Skin: Skin is warm and dry.   Psychiatric: Her behavior is normal.       ED Course   MDM  Number of Diagnoses or Management Options  Abdominal pain, unspecified site: established and improving     Amount and/or Complexity of Data Reviewed  Clinical lab tests: ordered and reviewed  Independent visualization of images, tracings, or specimens: yes    Risk of Complications, Morbidity, and/or Mortality  Presenting problems: moderate  Diagnostic procedures: moderate  Management options: moderate    Patient Progress  Patient progress: stable      Final Impression     Final diagnoses:   None\"),\n",
       "  ('ED Provider Notes',\n",
       "   \"History     Chief Complaint   Patient presents with   __ Emesis     started during last night, abd cramping,      Patient is a 65 y.o. female presenting with vomiting. The history is provided by the patient.   Emesis  Severity:  Moderate  Timing:  Intermittent  Progression:  Unchanged  Chronicity:  New  Recent urination:  Normal  Relieved by:  Nothing  Worsened by:  Nothing tried  Associated symptoms: abdominal pain    Associated symptoms: no chills, no cough, no diarrhea, no fever, no headaches and no sore throat    Risk factors: prior abdominal surgery    Risk factors: no diabetes, no sick contacts and no suspect food intake        Past Medical History   Diagnosis Date   __ Essential hypertension    __ Chronic rhinitis    __ Osteoporosis    __ Small bowel obstruction 2008     recurrent / s/p partial resection, unclear etiology for small bowel obstruction   __ Pulmonary embolism      ivc filter, family history of PE   __ Arthritis      djd back disc disease, arthritis of the knee   __ Hyperlipidemia    __ Fibrocystic breast disease in female      breast cancer on treatment   __ Chronic back pain      degenerative back disease, disc disease stenosis and metastatic back disease   __ Vertigo      stable   __ Family history of deep venous thrombosis      factor * ****** positive and daughter, PE and the neice   __ ** - breast cancer      continuing treatment   __ Lymphoma 2010     stage II follicular lymphoma status post chemotherapy and splenectomy   __ Saphenous vein clot */****     rt   __ Cancer      bbreast cancer, lymphoma d/c aromasin 2 yrs following blood clot        Past Surgical History   Procedure Laterality Date   __ Splenectomy, total     __ Small intestine surgery       bowel resection   __ Ivc filter retrieval     __ Breast surgery Left 2011     lumpectomy   __ Cholecystectomy         Family History   Problem Relation Age of Onset   __ Thrombosis Mother    __ Thrombosis ********      pe, dvt factor v   __ Cancer Brother skin ca   __ Cancer Maternal Aunt      breast ca       History   Substance Use Topics   __ Smoking status: Never Smoker    __ Smokeless tobacco: Never Used   __ Alcohol Use: No      Comment: occasionally       Review of Systems   Constitutional: Negative for fever and chills.   HENT: Negative for congestion, sore throat and neck stiffness.    Eyes: Negative for visual disturbance.   Respiratory: Negative for cough and shortness of breath.    Cardiovascular: Negative for chest pain.   Gastrointestinal: Positive for vomiting and abdominal pain. Negative for nausea and diarrhea.   Genitourinary: Negative for dysuria and flank pain.   Musculoskeletal: Negative for back pain.   Skin: Negative for rash.   Neurological: Negative for dizziness and headaches.   Psychiatric/Behavioral: Negative for behavioral problems.       Physical Exam   BP 135/76 | Pulse 92 | Temp(Src) 36.6 °C (97.9 °F) (Temporal Artery) | Resp 18 | Ht 1.676 m (5' 6) | Wt 92.534 kg (204 lb) | BMI 32.94 kg/m2 | SpO2 96%    Physical Exam   Nursing note and vitals reviewed.  Constitutional: She is oriented to person, place, and time. She appears well-developed and well-nourished.   HENT:   Head: Normocephalic and atraumatic.   Eyes: Conjunctivae and EOM are normal. Pupils are equal, round, and reactive to light.   Neck: Normal range of motion. Neck supple.   Cardiovascular: Normal rate, regular rhythm and normal heart sounds.    No murmur heard.  Pulmonary/Chest: Effort normal and breath sounds normal.   Abdominal: Soft. Bowel sounds are normal. She exhibits no distension and no mass. There is tenderness. There is no rebound and no guarding.   Generalized tenderness , mild.   Musculoskeletal: Normal range of motion.   Neurological: She is alert and oriented to person, place, and time.   Skin: Skin is warm and dry.   Psychiatric: Her behavior is normal.       ED Course   MDM  Number of Diagnoses or Management Options  Abdominal pain, unspecified site: established and improving     Amount and/or Complexity of Data Reviewed  Clinical lab tests: ordered and reviewed  Tests in the radiology section of CPT®: ordered and reviewed  Independent visualization of images, tracings, or specimens: yes    Risk of Complications, Morbidity, and/or Mortality  Presenting problems: high  Diagnostic procedures: high  Management options: high    Patient Progress  Patient progress: stable      Final Impression     Final diagnoses:   None\"),\n",
       "  ('ED Provider Notes',\n",
       "   \"History   No chief complaint on file.    HPI Comments: Ms. ***** is a 65 y/o female with PMHx of ******** lymphoma, Breast CA both now in remission, SBO, who presents as a transfer with a SBO seen at ***. Patient is too be seen by trauma surgery for treatment of SBO. Currently has NG tube.     Patient is a 65 y.o. female presenting with abdominal pain.   Abdominal Pain  Pain location:  Generalized  Pain quality: bloating and fullness    Pain radiates to:  Does not radiate  Pain severity:  Moderate  Onset quality:  Sudden  Duration:  1 day  Timing:  Constant  Progression:  Worsening  Associated symptoms: no chest pain, no chills, no cough and no fever        Past Medical History   Diagnosis Date   __ Essential hypertension    __ Chronic rhinitis    __ Osteoporosis    __ Small bowel obstruction 2008     recurrent / s/p partial resection, unclear etiology for small bowel obstruction   __ Pulmonary embolism      ivc filter, family history of PE   __ Arthritis      djd back disc disease, arthritis of the knee   __ Hyperlipidemia    __ Fibrocystic breast disease in female      breast cancer on treatment   __ Chronic back pain      degenerative back disease, disc disease stenosis and metastatic back disease   __ Vertigo      stable   __ Family history of deep venous thrombosis      factor * ****** positive and daughter, PE and the neice   __ ** - breast cancer      continuing treatment   __ Lymphoma 2010     stage II follicular lymphoma status post chemotherapy and splenectomy   __ Saphenous vein clot */****     rt   __ Cancer      bbreast cancer, lymphoma d/c aromasin 2 yrs following blood clot        Past Surgical History   Procedure Laterality Date   __ Splenectomy, total     __ Small intestine surgery       bowel resection   __ Ivc filter retrieval     __ Breast surgery Left 2011     lumpectomy   __ Cholecystectomy         Family History   Problem Relation Age of Onset   __ Thrombosis Mother    __ Thrombosis ********      pe, dvt factor v __ Cancer Brother      skin ca   __ Cancer Maternal Aunt      breast ca       History   Substance Use Topics   __ Smoking status: Never Smoker    __ Smokeless tobacco: Never Used   __ Alcohol Use: No      Comment: occasionally       Review of Systems   Constitutional: Positive for appetite change. Negative for fever and chills.   HENT: Negative for ear pain, congestion and neck stiffness.    Eyes: Negative for visual disturbance.   Respiratory: Negative for apnea, cough, choking and chest tightness.    Cardiovascular: Negative for chest pain and leg swelling.   Gastrointestinal: Positive for abdominal pain.       Physical Exam   BP 139/84 | Pulse 88 | Temp(Src) 36.8 °C (98.2 °F) (Oral) | Resp 18 | Ht 1.676 m (5' 5.98) | Wt 92.534 kg (204 lb) | BMI 32.94 kg/m2 | SpO2 95%    Physical Exam   Constitutional: She is oriented to person, place, and time. She appears well-developed and well-nourished.   HENT:   Head: Normocephalic and atraumatic.   Eyes: Conjunctivae are normal. Pupils are equal, round, and reactive to light.   Neck: Normal range of motion. Neck supple. No thyromegaly present.   Cardiovascular: Normal rate, regular rhythm, normal heart sounds and intact distal pulses.    Pulmonary/Chest: Effort normal and breath sounds normal. No respiratory distress. She has no wheezes. She exhibits no tenderness.   Abdominal: Soft. There is tenderness (luq, llq, rlq). There is no rebound and no guarding.   Musculoskeletal: Normal range of motion. She exhibits no edema and no tenderness.   Neurological: She is alert and oriented to person, place, and time. No cranial nerve deficit.   Skin: Skin is warm and dry. No erythema.   Psychiatric: She has a normal mood and affect.       ED Course   MDM  Number of Diagnoses or Management Options  Diagnosis management comments: Ms. ***** presents as a transfer from *** with an acute bowel obstruction. No other complaints at this time. Trauma surgery aware patient is in ED, and will evaluate.    5:32 AM  Patient is to be admitted to H4 for SBO, will continue NG to suction and IV fluids.       Final Impression     Final diagnoses:   None\"),\n",
       "  ('ED Provider Notes',\n",
       "   \"History   No chief complaint on file.    HPI Comments: Ms. ***** is a 65 y/o female with PMHx of ******** lymphoma, Breast CA both now in remission, SBO, who presents as a transfer with a SBO seen at ***. Patient is too be seen by trauma surgery for treatment of SBO. Currently has NG tube.     Patient is a 65 y.o. female presenting with abdominal pain.   Abdominal Pain  Pain location:  Generalized  Pain quality: bloating and fullness    Pain radiates to:  Does not radiate  Pain severity:  Moderate  Onset quality:  Sudden  Duration:  1 day  Timing:  Constant  Progression:  Worsening  Associated symptoms: no chest pain, no chills, no cough and no fever        Past Medical History   Diagnosis Date   __ Essential hypertension    __ Chronic rhinitis    __ Osteoporosis    __ Small bowel obstruction 2008     recurrent / s/p partial resection, unclear etiology for small bowel obstruction   __ Pulmonary embolism      ivc filter, family history of PE   __ Arthritis      djd back disc disease, arthritis of the knee   __ Hyperlipidemia    __ Fibrocystic breast disease in female      breast cancer on treatment   __ Chronic back pain      degenerative back disease, disc disease stenosis and metastatic back disease   __ Vertigo      stable   __ Family history of deep venous thrombosis      factor * ****** positive and daughter, PE and the neice   __ ** - breast cancer      continuing treatment   __ Lymphoma 2010     stage II follicular lymphoma status post chemotherapy and splenectomy   __ Saphenous vein clot */****     rt   __ Cancer      bbreast cancer, lymphoma d/c aromasin 2 yrs following blood clot        Past Surgical History   Procedure Laterality Date   __ Splenectomy, total     __ Small intestine surgery       bowel resection   __ Ivc filter retrieval     __ Breast surgery Left 2011     lumpectomy   __ Cholecystectomy         Family History   Problem Relation Age of Onset   __ Thrombosis Mother    __ Thrombosis ********      pe, dvt factor v __ Cancer Brother      skin ca   __ Cancer Maternal Aunt      breast ca       History   Substance Use Topics   __ Smoking status: Never Smoker    __ Smokeless tobacco: Never Used   __ Alcohol Use: No      Comment: occasionally       Review of Systems   Constitutional: Positive for appetite change. Negative for fever and chills.   HENT: Negative for ear pain, congestion and neck stiffness.    Eyes: Negative for visual disturbance.   Respiratory: Negative for apnea, cough, choking and chest tightness.    Cardiovascular: Negative for chest pain and leg swelling.   Gastrointestinal: Positive for abdominal pain.       Physical Exam   BP 139/84 | Pulse 88 | Temp(Src) 36.8 °C (98.2 °F) (Oral) | Resp 18 | Ht 1.676 m (5' 5.98) | Wt 92.534 kg (204 lb) | BMI 32.94 kg/m2 | SpO2 95%    Physical Exam   Constitutional: She is oriented to person, place, and time. She appears well-developed and well-nourished.   HENT:   Head: Normocephalic and atraumatic.   Eyes: Conjunctivae are normal. Pupils are equal, round, and reactive to light.   Neck: Normal range of motion. Neck supple. No thyromegaly present.   Cardiovascular: Normal rate, regular rhythm, normal heart sounds and intact distal pulses.    Pulmonary/Chest: Effort normal and breath sounds normal. No respiratory distress. She has no wheezes. She exhibits no tenderness.   Abdominal: Soft. There is tenderness (luq, llq, rlq). There is no rebound and no guarding.   Musculoskeletal: Normal range of motion. She exhibits no edema and no tenderness.   Neurological: She is alert and oriented to person, place, and time. No cranial nerve deficit.   Skin: Skin is warm and dry. No erythema.   Psychiatric: She has a normal mood and affect.       ED Course   MDM  Number of Diagnoses or Management Options  Diagnosis management comments: Ms. ***** presents as a transfer from *** with an acute bowel obstruction. No other complaints at this time. Trauma surgery aware patient is in ED, and will evaluate.  NG to suction currently, pain is controlled with dilaludid.     5:32 AM  Patient is to be admitted to H4 for SBO, will continue NG to suction and IV fluids.       Final Impression     Final diagnoses:   None\"),\n",
       "  ('H&P',\n",
       "   \"****** *. ***** is an 65 y.o. female.    The History may not be comprehensive due to: Not applicable    Attempts to obtain History taken by provider: Previous medical records reviewed      Chief Complaint: Abdominal Pain, Nausea, Vomiting    History of Present Illness: (i.e. Modifying factors, severity, timing and context):  65 yo F with complicated PMH including lymphoma s/p chemo/XRT, s/p ex lap for splenectomy and SBR for SBO (2008) presents with emesis x 6 and abdominal pain.  She claims that she had a BM yesterday and passed flatus this evening prior to presentation.  She was transferred from an OSH after CT showed a partial SBO.    HPI    No Known Allergies    Medication(s): admission medication reconciliation reviewed    Past Medical History   Diagnosis Date   __ Essential hypertension    __ Chronic rhinitis    __ Osteoporosis    __ Small bowel obstruction 2008     recurrent / s/p partial resection, unclear etiology for small bowel obstruction   __ Pulmonary embolism      ivc filter, family history of PE   __ Arthritis      djd back disc disease, arthritis of the knee   __ Hyperlipidemia    __ Fibrocystic breast disease in female      breast cancer on treatment   __ Chronic back pain      degenerative back disease, disc disease stenosis and metastatic back disease   __ Vertigo      stable   __ Family history of deep venous thrombosis      factor * ****** positive and daughter, PE and the neice   __ ** - breast cancer      continuing treatment   __ Lymphoma 2010     stage II follicular lymphoma status post chemotherapy and splenectomy   __ Saphenous vein clot */****     rt   __ Cancer      bbreast cancer, lymphoma d/c aromasin 2 yrs following blood clot        Past Surgical History   Procedure Laterality Date   __ Splenectomy, total     __ Small intestine surgery       bowel resection   __ Ivc filter retrieval     __ Breast surgery Left 2011     lumpectomy   __ Cholecystectomy         History     Social History   __ Marital Status: Married     Spouse Name: N/A     Number of Children: N/A   __ Years of Education: N/A     Social History Main Topics   __ Smoking status: Never Smoker    __ Smokeless tobacco: Never Used   __ Alcohol Use: No      Comment: occasionally   __ Drug Use: No   __ Sexually Active: Yes      Comment: married     Other Topics Concern   __ None     Social History Narrative   __ None                 Functional Health Status:  independent    Occupation: N/A         Family History   Problem Relation Age of Onset   __ Thrombosis Mother    __ Thrombosis ********      pe, dvt factor v   __ Cancer Brother      skin ca   __ Cancer Maternal Aunt      breast ca       Active Problems:    Small bowel obstruction      Review of Systems   Constitutional: Negative.    HENT: Negative.    Eyes: Negative.    Respiratory: Negative.    Cardiovascular: Negative.    Gastrointestinal: Positive for nausea, vomiting and abdominal pain. Negative for heartburn, diarrhea, constipation, blood in stool and ******.   Genitourinary: Negative.    Musculoskeletal: Negative.    Skin: Negative.    Neurological: Negative.    Endo/Heme/Allergies: Negative.    Psychiatric/Behavioral: Negative.        Physical Exam   Constitutional: She is oriented to person, place, and time. She appears well-developed and well-nourished. No distress.   Neck: Normal range of motion. No JVD present. No tracheal deviation present.   Cardiovascular: Normal rate and regular rhythm.  Exam reveals no gallop and no friction rub.    No murmur heard.  Pulmonary/Chest: Effort normal. No stridor. No respiratory distress. She has no wheezes. She has no rales. She exhibits no tenderness.   Abdominal: Soft. Bowel sounds are normal. She exhibits no distension and no mass. There is tenderness (Generalized abdominal tenderness). There is no rebound and no guarding.   Musculoskeletal: Normal range of motion. She exhibits no edema and no tenderness.   Neurological: She is alert and oriented to person, place, and time.   Skin: Skin is warm and dry. She is not diaphoretic.       Blood pressure 13*/**, pulse 88, temperature 36.8 °C (98.2 °F), temperature source Oral, resp. rate 18, height 1.676 m (5' 5.98), weight 92.534 kg (204 lb), SpO2 95.00%.    Laboratory Studies and/or Diagnostic Tests:  Pertinent laboratory studies and diagnostic tests have been reviewed    Images/tracings were reviewed  Small bowel obstruction - ***** *****, MD  **/**/****  5:49 AM  Signed  1.  NPO  2.  IVF  3.  NGT to LIWS  4.  Pain control PRN      Disposition:     Deep Vein Thrombosis (DVT) Prophylaxis: ambulatory    Code Status: No Order    Present on Admission Indicators: not applicable    ***** *****  **/**/****\"),\n",
       "  ('Assessment & Plan Note',\n",
       "   '- 1 cup of liquid Q shift  - decreased IVF to maintenance at 75ml/hr  - d/c NG tube  - Pain control PRN'),\n",
       "  ('MD Hospital Course Note',\n",
       "   '65 yo F with complicated PMH including lymphoma s/p chemo/XRT, s/p ex lap for splenectomy and SBR for SBO (2008) presents with emesis x 6 and abdominal pain. She claims that she had a BM the day prior to admission and passed flatus the evening of presentation. She was transferred from an OSH after CT showed a partial SBO. The patient was conservatively managed with NG tube, bowel rest and IVF. Her tenderness improved significantly, she started passing gas again. The NG tube was removed on **/*.'),\n",
       "  ('Progress Notes',\n",
       "   \"Small bowel obstruction    Assessment & Plan - ******* *****, **  **/*/**** 11:47 AM    Addendum:  - 1 cup of liquid Q shift  - decreased IVF to maintenance at 75ml/hr  - d/c NG tube  - Pain control PRN      Disposition:     Subjective/Objective  Subjective    Interval History/Symptoms:  No acute events overnight. Pain adequately controlled with current pain medications.  Current diet is ice chips and sips and well tolerated.  Denies any nausea/vomiting.  Patient is passing flatus and having bowel movements.  Also having adequate urinary output.  Patient is out of bed to chair.    Objective     Today I performed the following: reviewed or ordered lab tests    Vitals:  Temp (24hrs), ***:**.9 °C (98.5 °*), ***:**.7 °C (98.1 °F), Max:37.4 °C (99.3 °F)    Blood pressure 12*/**, pulse 67, temperature 36.7 °C (98.1 °F), temperature source Oral, resp. rate 20, height 1.676 m (5' 5.98), weight 92.534 kg (204 lb), SpO2 95.00%.    Intake/Output totals past 24 hours:    Intake/Output Summary (Last 24 hours) at **/**/** 1145  Last data filed at **/**/** 0922   Gross per 24 hour   Intake   1700 ml   Output   4275 ml   Net  -2575 ml     Intake/Output this shift:  I/O this shift:  In: 100 [I.V.:100]  Out: 600 [Urine:600]    Drains:  NG/OG Tube 16 Fr. Left nostril (Active)   Securement anchored to nostril center with adhesive device **/*/****  9:16 AM   Placement Verification Auscultation **/*/****  9:16 AM   Site Assessment Clean;Dry;Intact **/*/****  9:16 AM   Status Suction-low intermittent **/*/****  9:16 AM   Drainage Appearance ***** **/*/****  9:16 AM   Output (mL) 150 mL **/*/****  5:25 AM       Exam  General:  No apparent distress  Cardiovascular:  regular rate and rhythm  Lungs:  clear to auscultation bilaterally  Abdomen:  Soft, non-tender, non-distended, bowel sounds present, Drain: absent  Extremities:  No clubbing, cyanosis or edema\"),\n",
       "  ('Progress Notes',\n",
       "   \"Unless otherwise indicated below, I saw and evaluated the patient on the date of the note.  I have reviewed the patient's information, participated in the care of the patient, and I concur with the assessment and plan except as noted below.\"),\n",
       "  ('Subjective & Objective',\n",
       "   \"Subjective    Interval History/Symptoms:  No acute events overnight. Pain adequately controlled with current pain medications.  Current diet is ice chips and sips and well tolerated.  Denies any nausea/vomiting.  Patient is passing flatus and having bowel movements.  Also having adequate urinary output.  Patient is out of bed to chair.    Objective     Today I performed the following: reviewed or ordered lab tests    Vitals:  Temp (24hrs), ***:**.9 °C (98.5 °*), ***:**.7 °C (98.1 °F), Max:37.4 °C (99.3 °F)    Blood pressure 12*/**, pulse 67, temperature 36.7 °C (98.1 °F), temperature source Oral, resp. rate 20, height 1.676 m (5' 5.98), weight 92.534 kg (204 lb), SpO2 95.00%.    Intake/Output totals past 24 hours:    Intake/Output Summary (Last 24 hours) at **/**/** 1145  Last data filed at **/**/** 0922   Gross per 24 hour   Intake   1700 ml   Output   4275 ml   Net  -2575 ml     Intake/Output this shift:  I/O this shift:  In: 100 [I.V.:100]  Out: 600 [Urine:600]    Drains:  NG/OG Tube 16 Fr. Left nostril (Active)   Securement anchored to nostril center with adhesive device **/*/****  9:16 AM   Placement Verification Auscultation **/*/****  9:16 AM   Site Assessment Clean;Dry;Intact **/*/****  9:16 AM   Status Suction-low intermittent **/*/****  9:16 AM   Drainage Appearance ***** **/*/****  9:16 AM   Output (mL) 150 mL **/*/****  5:25 AM       Exam  General:  No apparent distress  Cardiovascular:  regular rate and rhythm  Lungs:  clear to auscultation bilaterally  Abdomen:  Soft, non-tender, non-distended, bowel sounds present, Drain: absent  Extremities:  No clubbing, cyanosis or edema\"),\n",
       "  ('Assessment & Plan Note',\n",
       "   '- Advance to a solid diet today  - Pain control PRN'),\n",
       "  ('Assessment & Plan Note',\n",
       "   '- Advance to a solid diet today  - Pain control PRN  -If tolerates solid diet home later on today'),\n",
       "  ('Assessment & Plan Note',\n",
       "   '- Advance to a solid diet today  - Pain control PRN  -If tolerates solid diet home later on today  - stable for discharge home'),\n",
       "  ('Discharge Summary',\n",
       "   'Discharge Summary    Discharge information    Admitted date:  ******** **, **** Discharged from:  HFH I4 SURGERY    Discharge date:  ******** *, ****           Admitting Physician:  *** ******, MD    Attending Physician:  *** *. ********, MD    Discharge Clinician:  ***** ABBISS    Discharge Diagnoses:    Active Hospital Problems    Diagnosis Date Noted   __ Small bowel obstruction       Resolved Hospital Problems    Diagnosis Date Noted Date Resolved   No resolved problems to display.       Problem List - A&P Notes:    Small bowel obstruction    Assessment & Plan - ***** ABBISS, CNP  **/*/****  3:58 PM    Signed:  - Advance to a solid diet today  - Pain control PRN  -If tolerates solid diet home later on today  - stable for discharge home        Hospital Course:     Discharge Condition:    Orders Placed This Encounter   Procedures   __ Discharge patient     Standing Status: Standing      Number of Occurrences: 1      Standing Expiration Date:      Order Specific Question:  Patient Condition     Answer:  Good       Disposition:     Operations/Procedures (if any):       Recent Immunizations:    Most Recent Immunizations   Administered Date(s) Administered   __ Hib Unspecified,historical **/**/****   __ Influenza *** 3 yrs. + **/**/****   __ Meningococcal Polysaccharide **/**/****   __ Pneumococcal Polysaccharide **/**/****   __ Td **/**/****   __ Tdap **/**/****   __ Zoster **/**/****              Medication List      CONTINUE taking these medications         diclofenac sodium 1 % Gel   Apply 4 times daily       fluticasone 50 mcg/actuation nasal spray   Commonly known as:  Flonase   2 sprays by Nasal route daily.       HYDROcodone-acetaminophen 5-325 mg per tablet   Commonly known as:  NORCO       losartan 50 MG tablet   Commonly known as:  Cozaar   Take 1 tablet (50 mg total) by mouth daily.       Osteo-Poretical 600mg (1,000mg) -1,000 unit Tab   Generic drug:  calcium carbonate-vitamin D3   1\\xa0tablet tablet by mouth every morning       Ventolin HFA 90 mcg/actuation inhaler   Generic drug:  albuterol   2\\xa0puff puff using inhaler every four to six hours as needed       Xanax 0.5 MG tablet   Generic drug:  ALPRAZolam   1 tablet by mouth  as directed             Discharge Orders:    Diet Regular     Activity as tolerated     No dressing needed        Follow-up:  No follow-up provider specified.     Signed:  ***** ABBISS  **/*/****'),\n",
       "  ('Discharge Summary',\n",
       "   'Discharge Summary    Discharge information    Admitted date:  ******** **, **** Discharged from:  HFH I4 SURGERY    Discharge date:  ******** *, ****           Admitting Physician:  *** ******, MD    Attending Physician:  *** *. ********, MD    Discharge Clinician:  ***** ABBISS    Discharge Diagnoses:    Active Hospital Problems    Diagnosis Date Noted   __ Small bowel obstruction       Resolved Hospital Problems    Diagnosis Date Noted Date Resolved   No resolved problems to display.       Problem List - A&P Notes:    Small bowel obstruction    Assessment & Plan - ***** ABBISS, CNP  **/*/****  3:58 PM    Signed:  - Advance to a solid diet today  - Pain control PRN  -If tolerates solid diet home later on today  - stable for discharge home      Hospital Course:     Discharge Condition:    Orders Placed This Encounter   Procedures   __ Discharge patient     Standing Status: Standing      Number of Occurrences: 1      Standing Expiration Date:      Order Specific Question:  Patient Condition     Answer:  Good       Disposition:     Operations/Procedures (if any):       Recent Immunizations:    Most Recent Immunizations   Administered Date(s) Administered   __ Hib Unspecified,historical **/**/****   __ Influenza *** 3 yrs. + **/**/****   __ Meningococcal Polysaccharide **/**/****   __ Pneumococcal Polysaccharide **/**/****   __ Td **/**/****   __ Tdap **/**/****   __ Zoster **/**/****       Unresulted labs:      Patient Instructions       Medication List      CONTINUE taking these medications         diclofenac sodium 1 % Gel   Apply 4 times daily       fluticasone 50 mcg/actuation nasal spray   Commonly known as:  Flonase   2 sprays by Nasal route daily.       HYDROcodone-acetaminophen 5-325 mg per tablet   Commonly known as:  NORCO       losartan 50 MG tablet   Commonly known as:  Cozaar   Take 1 tablet (50 mg total) by mouth daily.       Osteo-Poretical 600mg (1,000mg) -1,000 unit Tab   Generic drug:  calcium carbonate-vitamin D3   1\\xa0tablet tablet by mouth every morning       Ventolin HFA 90 mcg/actuation inhaler   Generic drug:  albuterol   2\\xa0puff puff using inhaler every four to six hours as needed       Xanax 0.5 MG tablet   Generic drug:  ALPRAZolam   1 tablet by mouth  as directed             Discharge Orders:    Diet Regular     Activity as tolerated     No dressing needed        Follow-up:  No follow-up provider specified.     Signed:  ***** ABBISS  **/*/****'),\n",
       "  ('General Note',\n",
       "   'Nursing Discharge Note: Pt given discharge instructions and signed. Pt knows to follow-up with PCP. Pt aware of signs and symptoms indicating need to return. PIV discontinued without s/sx infiltration. Pt left with belongings via wheelchair and transport at 1730.'),\n",
       "  ('MD Hospital Course Note',\n",
       "   '65 yo F with complicated PMH including lymphoma s/p chemo/XRT, s/p ex lap for splenectomy and SBR for SBO (2008) presents with emesis x 6 and abdominal pain. She claims that she had a BM the day prior to admission and passed flatus the evening of presentation. She was transferred from an OSH after CT showed a partial SBO. The patient was conservatively managed with NG tube, bowel rest and IVF. Her tenderness improved significantly, she started passing gas again. The NG tube was removed on **/*.  On **/* her diet was advanced and well tolerated.  She was passing flatus and had a BM. She was discharged home in stable condition and encouraged to follow up with her PCP PRN.'),\n",
       "  ('Progress Notes',\n",
       "   \"Small bowel obstruction    Assessment & Plan - ******** *******, CNP  **/*/**** 11:39 AM    Addendum:  - Advance to a solid diet today  - Pain control PRN  -If tolerates solid diet home later on today      Disposition: Home today    Subjective/Objective  Subjective    Interval History/Symptoms:  No acute events overnight. Pain adequately controlled with current pain medications.  Current diet is CL which  well tolerated.  Denies any nausea/vomiting.  Patient is passing flatus and 1 small  bowel movement yesterday.  Also having adequate urinary output.  Patient is out of bed to chair.    Objective     Today I performed the following: reviewed or ordered lab tests    Vitals:  Temp (24hrs), ***:**.1 °C (98.7 °*), ***:**.5 °C (97.7 °F), Max:37.5 °C (99.5 °F)    Blood pressure 12*/**, pulse 76, temperature 37 °C (98.6 °F), temperature source Oral, resp. rate 20, height 1.676 m (5' 5.98), weight 92.534 kg (204 lb), SpO2 95.00%.    Intake/Output totals past 24 hours:    Intake/Output Summary (Last 24 hours) at **/**/** 1136  Last data filed at **/**/** 1017   Gross per 24 hour   Intake 3353.75 ml   Output   4600 ml   Net -1246.25 ml     Intake/Output this shift:  I/O this shift:  In: 360 [P.O.:360]  Out: 900 [Urine:900]    Exam  General:  No apparent distress  Cardiovascular:  regular rate and rhythm  Lungs:  clear to auscultation bilaterally  Abdomen:  Soft, non-tender, non-distended, bowel sounds present, Drain: absent  Extremities:  No clubbing, cyanosis or edema\"),\n",
       "  ('Progress Notes',\n",
       "   \"Unless otherwise indicated below, I saw and evaluated the patient on the date of the note.  I have reviewed the patient's information, participated in the care of the patient, and I concur with the assessment and plan except as noted below.\"),\n",
       "  ('Subjective & Objective',\n",
       "   \"Subjective    Interval History/Symptoms:  No acute events overnight. Pain adequately controlled with current pain medications.  Current diet is CL which  well tolerated.  Denies any nausea/vomiting.  Patient is passing flatus and 1 small  bowel movement yesterday.  Also having adequate urinary output.  Patient is out of bed to chair.    Objective     Today I performed the following: reviewed or ordered lab tests    Vitals:  Temp (24hrs), ***:** °* (98.6 °*), ***:**.5 °C (97.7 °F), Max:37.5 °C (99.5 °F)    Blood pressure 120/66, pulse 78, temperature 36.9 °C (98.4 °F), temperature source Oral, resp. rate 20, height 1.676 m (5' 5.98), weight 92.534 kg (204 lb), SpO2 98.00%.    Intake/Output totals past 24 hours:    Intake/Output Summary (Last 24 hours) at **/**/** 1558  Last data filed at **/**/** 1518   Gross per 24 hour   Intake 3857.5 ml   Output   5200 ml   Net -1342.5 ml     Intake/Output this shift:  I/O this shift:  In: 1897.5 [P.O.:1200; I.V.:597.5; IV Piggyback:100]  Out: 2000 [Urine:2000]    Exam  General:  No apparent distress  Cardiovascular:  regular rate and rhythm  Lungs:  clear to auscultation bilaterally  Abdomen:  Soft, non-tender, non-distended, bowel sounds present, Drain: absent  Extremities:  No clubbing, cyanosis or edema\"),\n",
       "  ('Subjective & Objective',\n",
       "   \"Subjective    Interval History/Symptoms:  No acute events overnight. Pain adequately controlled with current pain medications.  Current diet is CL which  well tolerated.  Denies any nausea/vomiting.  Patient is passing flatus and 1 small  bowel movement yesterday.  Also having adequate urinary output.  Patient is out of bed to chair.    Objective     Today I performed the following: reviewed or ordered lab tests    Vitals:  Temp (24hrs), ***:**.1 °C (98.7 °*), ***:**.5 °C (97.7 °F), Max:37.5 °C (99.5 °F)    Blood pressure 12*/**, pulse 76, temperature 37 °C (98.6 °F), temperature source Oral, resp. rate 20, height 1.676 m (5' 5.98), weight 92.534 kg (204 lb), SpO2 95.00%.    Intake/Output totals past 24 hours:    Intake/Output Summary (Last 24 hours) at **/**/** 1136  Last data filed at **/**/** 1017   Gross per 24 hour   Intake 3353.75 ml   Output   4600 ml   Net -1246.25 ml     Intake/Output this shift:  I/O this shift:  In: 360 [P.O.:360]  Out: 900 [Urine:900]    Exam  General:  No apparent distress  Cardiovascular:  regular rate and rhythm  Lungs:  clear to auscultation bilaterally  Abdomen:  Soft, non-tender, non-distended, bowel sounds present, Drain: absent  Extremities:  No clubbing, cyanosis or edema\"),\n",
       "  ('Discharge Summary',\n",
       "   'I was present for the entire period between opening and closing of the procedure(s).    *** ********'),\n",
       "  ('Discharge Summary',\n",
       "   \"Unless otherwise indicated below, I saw and evaluated the patient on the date of the note.  I have reviewed the patient's information, participated in the care of the patient, and I concur with the assessment and plan except as noted below.\"),\n",
       "  ('H&P',\n",
       "   \"Unless otherwise indicated below, I saw and evaluated the patient on the date of the note.  I have reviewed the patient's information, participated in the care of the patient, and I concur with the assessment and plan except as noted below.     *** ******\"),\n",
       "  ('Telephone Encounter',\n",
       "   \"TRANSITIONAL CARE MANAGEMENT - Initial Patient Contact  To be completed by Medical Assistant or Nurse      Date and time of phone call: **/*/** 0958    Length of discussion with patient or caregiver: 3 min    Name *** ************ (to patient) of person you spoke with? pt    Date and time of upcoming appointment: will call to schedule     Scheduled with Dr. samuel    Details of today's discussion: pt is feeling better. States she did not need surgery. Denies any questions concerns about her DC instructions. **** call to schedule appt with dr ******.\"),\n",
       "  ('Telephone Encounter',\n",
       "   'Patient is requesting a return call from staff to schedule an appointment for a gallbladder consult sooner than the first available of **/**/**. Patient states she was recently up north and had a severe attack.'),\n",
       "  ('Telephone Encounter',\n",
       "   'Appointment made with Dr. ****** for **/**/**** at *** ********'),\n",
       "  ('Patient Instructions',\n",
       "   \"***** **** Health System Patient Instructions  Cholecystectomy: Before Your Surgery  What is cholecystectomy?  Cholecystectomy (**-***-***-***-***-***) is surgery to remove the gallbladder and gallstones. It is usually done as a laparoscopic surgery. Some people call this Band-aid surgery because it requires only small cuts (incisions). To do this type of surgery, a doctor puts a lighted tube, or scope, and other surgical tools through the small incisions in your belly. The doctor is able to see your organs with the scope. After your gallbladder is removed, you will no longer have gallstones. The incisions leave scars that usually fade with time.  Most people go home the day of surgery. You probably will feel better each day. Most people have only a small amount of pain after 1 week. If you have a desk-type job, you will probably be able to return to work or your normal routine in 1 to 2 weeks. If you lift heavy objects or have a very active job, such as being a carpenter or doing outdoor work, it may take up to 4 weeks.  Either before or during surgery, your doctor may choose to do an open surgery instead. In this type of surgery, your doctor will make a larger cut in your upper belly. You will probably stay in the hospital for 2 to 4 days, and it may take 4 to 6 weeks before you get back to your normal routine.  Follow-up care is a key part of your treatment and safety. Be sure to make and go to all appointments, and call your doctor if you are having problems. It's also a good idea to know your test results and keep a list of the medicines you take.  What happens before surgery?  Having surgery can be stressful. This information will help you understand what you can expect and how to safely prepare for surgery.  Preparing for surgery  · Bring a list of questions to ask your doctors. It is important that you understand exactly what surgery is planned, the risks, benefits, and other options before your surgery.  · Tell your doctors ALL the medicines, vitamins, supplements, and herbal remedies you take. Some of these can increase the risk of bleeding or interact with anesthesia. Your doctor will tell you which medicines to take or stop before your surgery.  · If you take blood thinners, such as warfarin (Coumadin), clopidogrel (Plavix), or aspirin, be sure to talk to your doctor. He or she will tell you if you should stop taking these medicines before your surgery. Make sure that you understand exactly what your doctor wants you to do.  · You may need to stop taking certain medicines a week or more before surgery, so talk to your doctor as soon as you can.  · Before your surgery, you will speak with an anesthesia provider to discuss your anesthetic options, including the risks, benefits, and alternatives to each. This may be on the phone or in person.  · You may need to empty your colon with an enema or laxative. Your doctor will tell you how to do this.  Taking care of yourself before surgery  · Build healthy habits into your life. Changes are best made several weeks before surgery, since your body may react to sudden changes in your habits.  ¨ Stay as active as you can.  ¨ Eat a healthy diet.  ¨ Cut back or quit alcohol and tobacco.  · If you have an advance directive-which may include a living will and a durable power of attorney for health care-let your doctor know. If you do not have one, you may want to prepare one so your doctor and loved ones know your health care wishes. Doctors recommend that everyone prepare these papers before surgery, regardless of the type of surgery or condition.  What happens on the day of surgery?  · Follow the instructions exactly about when to stop eating and drinking, or your surgery may be canceled. If your doctor has instructed you to take your medicines on the day of surgery, please do so using only a sip of water.  · Take a bath or shower before you come in for your surgery. Do not apply lotions, perfumes, deodorants, or nail polish.  · Do NOT shave the surgical site yourself.  · Remove all jewelry, piercings, and contact lenses.  · Leave your valuables at home.  At the hospital or surgery center  · Bring a picture ID.  · Before surgery you will be asked to repeat your full name, what surgery you are having, and what part of your body is being operated on. The area for surgery may be marked.  · A small tube (IV) will be placed in a vein, to give you fluids and medicine to help you relax. Because of the combination of medicines given to keep you comfortable, you may not remember much about the operating room.  · You will be kept comfortable and safe by your anesthesia provider. The anesthesia may range from making you fully asleep, to simply numbing the area being worked on. This will depend on the procedure you are having, as well as a discussion between your doctor, the anesthesia provider, and you.  · The surgery usually takes 1 to 2 hours.  · As you wake up in the recovery room, the nurse will check to be sure you are stable and comfortable. It is important for you to tell your doctor and nurse how you feel and ask questions about any concerns you may have.  Going home  · Be sure you have someone to drive you home.  · For your safety, you should not drive until you are no longer taking pain medicines and you can move and react easily.  · Arrange for extra help at home after surgery, especially if you live alone or provide care for another person.  · You will be given more specific instructions about recovering from your surgery, including activity and when you may return to work.  When should you call your doctor?  · You have questions or concerns.  · You don't understand how to prepare for your surgery.  · You become ill before the surgery (such as fever, flu, or a cold).  · You need to reschedule or have changed your mind about having the surgery.   Where can you learn more?   Log on to your ***** **** ******* account at www.HenryFord.com/MyChart and go to the left hand side box Health Library. Enter **** and click Search to learn more about __Cholecystectomy: Before Your Surgery__.    Please ask any HFHS clinical representative for assistance in obtaining a ***** **** ******* account.   © 2006-2012 Healthwise, Incorporated. Care instructions adapted under license by ***** **** ****** System. This care instruction is for use with your licensed healthcare professional. If you have questions about a medical condition or this instruction, always ask your healthcare professional. Healthwise, Incorporated disclaims any warranty or liability for your use of this information.  Content Version: *.*.*****; Last Revised: ******** **, ****\"),\n",
       "  ('Progress Notes',\n",
       "   \"Subjective:       Patient ID: ****** *. ***** is a 65 y.o. female.    HPI  Gallbladder  Patient presents for evaluation of gallbladder problems. Problems were first noted 2 weeks ago. Current symptoms include RUQ Pain.  Pancreatic symptoms include none. Patient denies none.  Symptoms have progressed to a point and plateaued.    Has h/o lymphoma and radiation enteritis.  Underwent exp lap, SBR and splenectomy by Dr. ****** several years ago.  Also has h/o DVT/PE, now with IVC filter.      The following portions of the patient's history were reviewed and updated as appropriate: allergies, current medications, past family history, past medical history, past social history, past surgical history and problem list.    Review of Systems   Constitutional: Negative.    HENT: Negative.    Eyes: Negative.    Respiratory: Negative.    Cardiovascular: Negative.    Gastrointestinal: Positive for abdominal pain.   Endocrine: Negative.    Genitourinary: Negative.    Allergic/Immunologic: Negative.    Hematological: Negative.    Psychiatric/Behavioral: Negative.            Objective:    Physical Exam   Constitutional: She is oriented to person, place, and time. She appears well-developed and well-nourished.   HENT:   Head: Normocephalic and atraumatic.   Eyes: Conjunctivae and EOM are normal. Pupils are equal, round, and reactive to light.   Neck: Normal range of motion. Neck supple.   Cardiovascular: Normal rate and regular rhythm.    Pulmonary/Chest: Effort normal and breath sounds normal.   Abdominal: Soft. There is tenderness (in ruq.  Negative murphy's.  ).   Long midline incision.  No hernia   Musculoskeletal: Normal range of motion.   Neurological: She is alert and oriented to person, place, and time. She has normal reflexes.   Skin: Skin is warm and dry.   Psychiatric: She has a normal mood and affect. Her behavior is normal. Judgment and thought content normal.     US with gallstones.  No biliary dilation. Assessment:       Biliary *****.          Plan:       1.  With the aid of a patient booklet, a laparoscopic, possible open, cholecystectomy was discussed.  All risks and benefits of the procedure including, but not limited to, bleeding, infection, wound complications, injury to surrounding structures including the common bile duct, cystic duct stump leak, fluid collection and non-resolution of pain was discussed.  The patients understands and wishes to proceed.  2.  Informed consent was obtained.  3.  Patient will be scheduled for LAPAROSCOPIC CHOLECYSTECTOMY at ***** **** **** ********** Hospital.     4.  Given patient's history of radiation and splenectomy and h/o DVT/PE and other comorbidities she should be done at HFWB instead of LKS due to higher risk of conversion to open and inpatient post op hospital stay.  She understands and agrees.\"),\n",
       "  ('Patient Instructions',\n",
       "   '***** **** Health System Patient Instructions  Deep Vein Thrombosis: After Your Visit  Your Care Instructions  A deep vein thrombosis (DVT) is a blood clot in certain veins of the legs, pelvis, or arms. Blood clots in these veins need to be treated because they can get bigger, break loose, and travel through the bloodstream to the lungs. A blood clot in a lung can be life-threatening.  You will need to take blood thinners for 3 to 6 months or longer. Blood thinners help prevent new blood clots from forming. Blood thinners will not get rid of a blood clot you already have, but they will keep the clot from getting bigger. Your body will get rid of most or all of the blood clot you already have over time. It is important for you to go to follow-up visits so your doctor can see if your medicine is working.  Follow-up care is a key part of your treatment and safety. Be sure to make and go to all appointments, and call your doctor if you are having problems. It__s also a good idea to know your test results and keep a list of the medicines you take.  How can you care for yourself at home?  · Take your medicines exactly as prescribed. Call your doctor if you think you are having a problem with your medicine.  · You may have blood tests--sometimes every day at first--and every 2 to 4 weeks later on to see how well the medicine is working.  · Wear compression stockings if your doctor recommends them. These stockings are tighter at the feet than on the legs. They can reduce pain and swelling and may keep blood from pooling in your legs. You can get them with a prescription at a medical supply store or at some drugstores.  · Do not suddenly change your intake of vitamin K-rich foods, such as broccoli, cabbage, asparagus, lettuce, and spinach. This will help blood thinners work evenly from day to day.  · Do not take any over-the-counter medicines, vitamins, or supplements that contain vitamin K unless your doctor says it is okay.  · Limit alcohol to 2 drinks a day for men and 1 drink a day for women. *** much alcohol can cause health problems.  · Raise your leg or arm on a pillow when sitting. Try to keep it above the level of your heart.  · Use a heating pad for 20 to 30 minutes 3 or 4 times a day to reduce pain and swelling. Put a thin cloth between the heating pad and your skin.  · Do gentle exercise, such as walking, to help prevent future clots. Avoid contact sports and other activities that might make you ****. If you are injured, apply pressure to stop bleeding.  · Wear medical alert jewelry that says you take blood thinners. You can buy this at most drugstores.  When should you call for help?  Call 911 anytime you think you may need emergency care. For example, call if:  · You have sudden chest pain and shortness of breath, or you cough up blood.  · You vomit blood or what looks like coffee grounds.  · You pass maroon or very bloody stools.  · You passed out (lost consciousness).  Call your doctor now or seek immediate medical care if:  · You have new or increased shortness of breath.  · You are dizzy or lightheaded, or you feel like you may faint.  · You have signs of another blood clot, such as:  ¨ New pain in your calf, back of the knee, thigh, or groin.  ¨ New redness and swelling in your leg or groin.  · You have new bruises or blood spots under your skin.  · You have a nosebleed.  · Your gums bleed when you brush your teeth.  · You have blood in your urine.  · Your stools are black and tarlike or have streaks of blood.  · You have vaginal bleeding when you are not having your period, or heavy period bleeding.  Watch closely for changes in your health, and be sure to contact your doctor if you have any problems.   Where can you learn more?   Log on to your ***** **** ******* account at www.HenryFord.com/MyChart and go to the left hand side box Health Library. Enter **** and click Search to learn more about __Deep Vein Thrombosis: After Your Visit__.    Please ask any HFHS clinical representative for assistance in obtaining a ***** **** ******* account.   © 2006-2012 Healthwise, Incorporated. Care instructions adapted under license by ***** **** ****** System. This care instruction is for use with your licensed healthcare professional. If you have questions about a medical condition or this instruction, always ask your healthcare professional. Healthwise, Incorporated disclaims any warranty or liability for your use of this information.  Content Version: *.*.*****; Last Revised: ********* **, ****'),\n",
       "  ('Progress Notes',\n",
       "   'Chief Complaint   Patient presents with   __ Leg Swelling     emergency room followup   __ Leg Pain       History of present illness:patient is here, complaining of pain and swelling in the righ  She has been having pain and swelling in the right inner thigh, initially the    close to the knee, medial aspect  Which is extending despite being on antibiotics she was recently seen in the emergency room started on Keflex she stated the pain swelling and discomfort continues to persist  She does not recall having any blood clots in her legs before she underwent recent cholecystectomy with laparoscopic and she was in the hospital for one day there is no prolonged immobilization  She does not recall having any trouble phlebitis in the past she also has a history of lymphoma and breast cancer  She has no history of DVT in the past  She denies any chest pain lightheadedness dizziness fever chills shortness of breath  The swelling and pain has extended to the inner aspect of the left thigh  Not down no other complaints she has a strong family history of DVT and PE and her coagulable condition  She had a filter placed in the past according to her husband from previous bleeding   during her cancer treatment  In 2008        Past Surgical History   Procedure Laterality Date   __ Splenectomy, total     __ Small intestine surgery       bowel resection   __ Ivc filter retrieval     __ Breast surgery Left 2011     lumpectomy   __ Cholecystectomy         Family History   Problem Relation Age of Onset   __ Thrombosis Mother    __ Thrombosis ********      pe, dvt factor v   __ Cancer Brother      skin ca   __ Cancer Maternal Aunt      breast ca       Past Medical History   Diagnosis Date   __ Essential hypertension    __ Chronic rhinitis    __ Osteoporosis    __ Small bowel obstruction 2008     recurrent / s/p partial resection, unclear etiology for small bowel obstruction   __ Pulmonary embolism      ivc filter, family history of PE   __ Arthritis djd back disc disease, arthritis of the knee   __ Hyperlipidemia    __ Fibrocystic breast disease in female      breast cancer on treatment   __ Chronic back pain      degenerative back disease, disc disease stenosis and metastatic back disease   __ Vertigo      stable   __ Family history of deep venous thrombosis      factor * ****** positive and daughter, PE and the neice   __ ** - breast cancer      continuing treatment   __ Lymphoma 2010     stage II follicular lymphoma status post chemotherapy and splenectomy       No Known Allergies     History     Social History   __ Marital Status: Married     Spouse Name: N/A     Number of Children: N/A   __ Years of Education: N/A     Occupational History   __ Not on file.     Social History Main Topics   __ Smoking status: Never Smoker    __ Smokeless tobacco: Never Used   __ Alcohol Use: No      occasionally   __ Drug Use: No   __ Sexually Active: Yes      married     Other Topics Concern   __ Not on file     Social History Narrative   __ No narrative on file       Review of systems:  Constitutional: Denies any fever, chills, no recent change in weight or appetite malaise or fatigue  Eyes: Denies any visual disturbances, discharge or tearing in the eyes  HEENT denies any problems with earaches, snoring, bleeding gums, epistaxis, sore throat hearing loss, teeth pain, sinus problems  Cardiovascular: Denies any chest pain, palpitations, orthopnea, lower extremity edema  Respiratory : Denies any cough, wheezing, shortness of breath, hemoptysis  Gastrointestinal: Denies any nausea, vomiting, abdominal pain, rectal bleeding, dysphagia, melena, heartburn  Genitourinary: Denies any dysuria frequency of urination, incontinence or hematuria  Review of systems is otherwise negative, see pertinent positives and negatives in ***.  All other systems are normal.      Physical exam:  BP 130/70 | Pulse 64 | Temp(Src) 36.9 °C (98.5 °F) (Oral) | Wt 92.08 kg (203 lb) | BMI 31.79 kg/m2  Patient is alert and oriented, appearance is consistent with their age.    Patient is appearing well, not in any distress  HEENT -is normocephalic, atraumatic, pupils equal, round, and reactive to light and accommodation.  There is no scleral icterus.  Oral pharynx clear with normal dentition.  Neck without adenopathy, thyromegaly, tracheal deviation or masses.  There is no supraclavicular adenopathy.    LUNGS -clear bilaterally with normal respiratory effort and no rales or dullness to percussion.    CARDIAC-S1-S2 regular rate and rhythm with no murmur,   ABDOMEN- is soft, non-tender, non-distended with no palpable masses, no hepatosplenomegaly, no guarding or rebound.  Bowel sounds are active without abdominal bruit.   EXTREMITIES- no clubbing or cyanosis noted, peripheral pulses on palpable, no edema.  Right lower ety exam, revealed an elongated cord, in the middle aspect of the right knee, all the way to the medial aspect of the upper thigh,  Tenderness present with palpation  With some surrounding erythema and possible cellulitis  There was no lower extremities edema bilaterally    Assessment and plan:  1.****** was seen today for leg swelling and leg pain.    Diagnoses and associated orders for this visit:    Thrombosis of saphenous vein  - diclofenac sodium 1 % Gel; Apply 4 times daily  - enoxaparin (LOVENOX) 120 mg/0.8 mL Syrg; Inject 0.61 mLs (91.5 mg total) into the skin every 12 (twelve) hours.  - warfarin (COUMADIN) 5 MG tablet; Take 1 tablet (5 mg total) by mouth daily.  Reviewing the report, patient has long thrombosis of the superficial saphenous   vein, extending to the proximal part,Just 1.5 cm distal   to the opening therefore  This will be treated as DVT   She will give be given at least 3 months worth of treatment with Coumadin she will be initially ******* with Lovenox  Platelet count, CBc NORMAL   PATIENT HAS NO ACTIVE BLEEDING  Pros and cons discussed,   patient agrees with the plan  This is an extended visit  Over half an hour to 40 minutes spent with this patient,Of which more than 50% of the time was spent counseling and coordinating care, patient was enrolled in the Coumadin clinic, Coumadin precautions regarding taking Coumadin, diet etc. Was also addressed  Due to her comorbid condition, family history previous PE,  And not sure that this should be a lifelong anticoagulation patient should also discuss this hematology oncologist for now she is being started on 3 months worth I will see her back in one month reevaluate and decide further  management    Thrombophlebitis leg  - VENOUS DUPLEX RIGHT LOWER EXTREMITY  - diclofenac sodium 1 % Gel; Apply 4 times daily  Cold compresses  Tylenol as needed    Cellulitis  Probable, unclear, but patient can complete a course of Keflex that was prescribed      Right leg pain  Secondary to thrombosis and probably phlebitis  Used topical diclofenac gel  Cold compresses    Other Orders  - cephalexin (KEFELX) 500 MG capsule; Take 500 mg by mouth 4 (four) times daily.  - ******: ibuprofen (MOTRIN) 800 MG tablet; Take 1 tablet (800 mg total) by mouth every 6 (six) hours as needed for pain (for 1 week then as needed).  - ******: enoxaparin (LOVENOX) 40 mg/0.4 mL Syrg syringe; Inject 0.4 mLs (40 mg total) into the skin daily.    Follow up in about one month      No Follow-up on file.    Orders Placed This Encounter   Procedures   __ VENOUS DUPLEX RIGHT LOWER EXTREMITY   reviewed stat resultswith the patient      Medication List       These changes are accurate as of: */*/**** 11:48 AM. If you have any questions, ask your nurse or doctor.             Notice        Some of the medications listed here do not show instructions, such as how often to take the medication. Ask your doctor or nurse how to use these medications.              CONTINUE taking these medications         cephalexin 500 MG capsule   Commonly known as:  KEFELX       Cozaar 50 MG tablet   Generic drug:  losartan   1 tablet by mouth once a day       exemestane 25 mg tablet   Commonly known as:  AROMASIN   (Ask your doctor or nurse how to take this medication.)       fluticasone 50 mcg/actuation nasal spray   Commonly known as:  FLONASE   2 sprays by Nasal route daily.       ibuprofen 400 MG tablet   Commonly known as:  ADVIL,MOTRIN       naproxen 500 MG tablet   Commonly known as:  NAPROSYN   1 tablet by mouth twice a day with meals       Osteo-Poretical 600mg (1,000mg) -1,000 unit Tab   Generic drug:  calcium carbonate-vitamin D3   1\\xa0tablet tablet by mouth every morning       Ventolin HFA 90 mcg/actuation inhaler   Generic drug:  albuterol   2\\xa0puff puff using inhaler every four to six hours as needed       Xanax 0.5 MG tablet   Generic drug:  ALPRAZolam   1 tablet by mouth  as directed             STOP taking these medications         HYDROcodone-acetaminophen 5-325 mg per tablet   Commonly known as:  NORCO   Stopped by:  ***** ******, MD'),\n",
       "  ('Progress Notes', 'Report to follow in EPIC.'),\n",
       "  ('Procedures',\n",
       "   'Exam Name                Venous - LE, Unilateral Extended    Ref Exam ID              ******    Technical Limitations:    None    Interpretation:    Incompressible right great saphenous vein  ( 1.1 cm from sapheno-    femoral junction extending to knee level).    Normal compressibility of the deep veins in the right lower extremity.    Impression:    Totally occluding acute thrombosis of the right great saphenous vein.    No evidence of deep vein thrombosis of the right lower extremity.    No evidence of deep vein reflux noted of the right lower extremity.    Comparison:    No previous study performed.    Comment:    Exam performed by ******** *******, RVT    Dr ******  notified of critical value results on */*/**** at 11:45 am.     Repeat back given.'),\n",
       "  ('Progress Notes',\n",
       "   \"Subjective:       ****** *. ***** presents to the clinic 2 weeks following lap chole. Eating a regular diet without difficulty. Bowel movements are Normal.  The patient is not having any pain..  Recently diagnosed with a right leg DVT.  On coumadin and lovenox currently.       Objective:      BP 117/69 | Pulse 72 | Ht 1.676 m (5' 6) | Wt 91.173 kg (201 lb) | BMI 32.46 kg/m2    General:  alert, appears stated age and cooperative   Abdomen: soft, bowel sounds active, non-tender   Incision:   healing well, no drainage, no erythema, no hernia, no seroma, no swelling, no dehiscence, incision well approximated       Assessment:      Doing well postoperatively. except for her DVT.     Plan:      1. Continue any current medications.  2. Wound care discussed.  3. Pt is to increase activities as tolerated.  4.  Follow up as needed.\"),\n",
       "  ('Patient Instructions',\n",
       "   'Flu vaccine in *******    Discontinue Coumadin in ********'),\n",
       "  ('Progress Notes',\n",
       "   \"Subjective:Patient is here to followup on her right leg phlebitis      Patient ID: ****** *. ***** is a 65 y.o. female.    Chief Complaint:As above    HPI  She completed Lovenox, she's on Coumadin 5 mg  She will take a total of 3 months ** ******** *  She was having extensive superficial thrombophlebitis  Postsurgically she is healed      Past Medical History   Diagnosis Date   __ Essential hypertension    __ Chronic rhinitis    __ Osteoporosis    __ Small bowel obstruction 2008     recurrent / s/p partial resection, unclear etiology for small bowel obstruction   __ Pulmonary embolism      ivc filter, family history of PE   __ Arthritis      djd back disc disease, arthritis of the knee   __ Hyperlipidemia    __ Fibrocystic breast disease in female      breast cancer on treatment   __ Chronic back pain      degenerative back disease, disc disease stenosis and metastatic back disease   __ Vertigo      stable   __ Family history of deep venous thrombosis      factor * ****** positive and daughter, PE and the neice   __ ** - breast cancer      continuing treatment   __ Lymphoma 2010     stage II follicular lymphoma status post chemotherapy and splenectomy       Past Surgical History   Procedure Laterality Date   __ Splenectomy, total     __ Small intestine surgery       bowel resection   __ Ivc filter retrieval     __ Breast surgery Left 2011     lumpectomy   __ Cholecystectomy         Family History   Problem Relation Age of Onset   __ Thrombosis Mother    __ Thrombosis ********      pe, dvt factor v   __ Cancer Brother      skin ca   __ Cancer Maternal Aunt      breast ca       History   Substance Use Topics   __ Smoking status: Never Smoker    __ Smokeless tobacco: Never Used   __ Alcohol Use: No      occasionally       Review of Systems  Review of systems is otherwise negative, see pertinent positives and negatives in ***.  All other systems are normal.    Objective:     BP 96/60 | Pulse 72 | Temp(Src) 36.8 °C (98.2 °F) (Oral) | Wt 91.989 kg (202 lb 12.8 oz) | BMI 32.75 kg/m2  Repeat blood pressure 13*/**    Physical Exam  Patient appeared well not in any distress  Lungs are clear to auscultation with no crackles, wheezing or rhonchi.  There is good air movement in all fields.    Heart S1 and S2 normal with a regular rate and rhythm.  There is no murmur or gallop.    Right lower extremity no phlebitis no tenderness no redness    Assessment:See blue     Procedures    The primary encounter diagnosis was Thrombosis. Diagnoses of Unspecified essential hypertension and Well adult health check were also pertinent to this visit.    Plan:See below   ****** was seen today for follow up blood clot.    Diagnoses and associated orders for this visit:    Thrombosis  Complete treatment with Coumadin for 3 month ******** *   completely 3  month's course    Unspecified essential hypertension  Controlled continue treatment  - losartan (COZAAR) 50 MG tablet; Take 1 tablet (50 mg total) by mouth daily.    Well adult health check  - Pneumococcal polysaccharide (Pneumovax)  She will discuss with him on to she can take shingles vaccination but it is an absolute contraindication for lymphoma But she is in remission\"),\n",
       "  ('Patient Instructions',\n",
       "   'Due to recurrent clots and your leg symptoms, recommend discontinuation of exemestane...risks outweigh he benefits.'),\n",
       "  ('Progress Notes',\n",
       "   'Reason for visit: Ms ***** is seen for follow up of lymphoma.  HPI:  **/****: Presented with back pain, CT revealed the incidental finding of adenopathy and  splenomegaly. A left groin node biopsy showed malignant lymphoma, follicular low grade. She was  followed with observation.  **/****: Increased pain, MRI shows progression of NHL involving spine.  **/****: Began Fludarabine chemotherapy.  *-*/****: EBRT spine, T2/T4 and sacrum.  **/****: Hospitalized with DVT/PE and GI bleed, IVC filter placed.  **/****: Final Fludarabine, cycle #5.  **-**/****: Hospitalized with SBO. Ultimately underwent laparatomy, small bowel resection,  splenectomy, pathology amyloid, no residual NHL. She was observed.  **/****: PET-CT no progression.  **/****: PET-CT progression.  *-**/****: Enrolled in the clinical trial Biogen Idec ***-**-*** Galiximab/Placebo with Rituximab.  **/****: PET-CT near **.  **/****: PET-CT remission.  */****: PET CT remission  */****: L breast DCIS 4 mm, high grade resected.  completed RT, started exemestane  */**** - PET - tonsil uptake , had bronchitis at that time.    PMH :HTN, daughter and mon have VTE and positive f/h of ****** * leiden mutation.  Past Medical History   Diagnosis Date   __ Essential hypertension    __ Chronic rhinitis    __ Osteoporosis    __ Small bowel obstruction 2008     recurrent / s/p partial resection, unclear etiology for small bowel obstruction   __ Pulmonary embolism      ivc filter, family history of PE   __ Arthritis      djd back disc disease, arthritis of the knee   __ Hyperlipidemia    __ Fibrocystic breast disease in female      breast cancer on treatment   __ Chronic back pain      degenerative back disease, disc disease stenosis and metastatic back disease   __ Vertigo      stable   __ Family history of deep venous thrombosis      factor * ****** positive and daughter, PE and the neice   __ ** - breast cancer      continuing treatment   __ Lymphoma 2010     stage II follicular lymphoma status post chemotherapy and splenectomy   __ Saphenous vein clot */****     rt         Interval history:She needed a cholecystectomy since last visit and subsequently developed a saphaneous clot that she is on warfarin for now. She has a PE also a few years ago during her lymphoma and has a ivc filter.Remains fully active.  ROS: 12 system ROS otherwise negative.  Current Outpatient Prescriptions   Medication Sig Dispense Refill   __ albuterol (VENTOLIN HFA) 90 mcg/actuation inhaler 2\\xa0puff puff using inhaler every four to six hours as needed  1  5   __ calcium carbonate-vitamin D3 (OSTEO-PORETICAL) 600mg (1,000mg) -1,000 unit Tab 1\\xa0tablet tablet by mouth every morning     1   __ diclofenac sodium 1 % Gel Apply 4 times daily  100 g  1   __ exemestane (AROMASIN) 25 mg tablet       30 tablet  6   __ fluticasone (FLONASE) 50 mcg/actuation nasal spray 2 sprays by Nasal route daily.  16 g  1   __ losartan (COZAAR) 50 MG tablet Take 1 tablet (50 mg total) by mouth daily.  90 tablet  2   __ warfarin (COUMADIN) 5 MG tablet Take 1 tablet (5 mg total) by mouth daily.  90 tablet  3   __ DISCONTD: cephalexin (KEFELX) 500 MG capsule Take 500 mg by mouth 4 (four) times daily.       __ ALPRAZolam (XANAX) 0.5 MG tablet 1 tablet by mouth  as directed  1 tablet     __ HYDROcodone-acetaminophen (NORCO) 5-325 mg per tablet          No current facility-administered medications for this visit.     No Known Allergies    Exam: Appears stable,  Blood pressure 14*/**, pulse 86, temperature 36.4 °C (97.5 °F), temperature source Oral, weight 91.853 kg (202 lb 8 oz).  negative.Throat exam - mild erythema in tonsillar region No scleral icterus. No cervical, axillary, or epitrochlear adenopathy. Chest is  clear to  auscultation and percussion. Heart has regular rate and rhythm, normal s1 and s2, no gallop or JVD.  Abdomen is soft and non-tender, no hepatomegaly or spleen. Extremities have no edema. No spinal  tenderness. *****, ** intact, CN intact *-**, power is full, gait is steady.    Labs:   Lab Results   Component Value Date    WBC 4.7 **/*/****    HGB 13.2 **/*/****    HCT 41.2 **/*/****    MCV 84.6 **/*/****    PLT 383 **/*/****       Chemistry        Component Value Date/Time    CO2 25 **/*/**** 1224    BUN 13 **/*/**** 1224    CREATININE 0.35 **/*/**** 1224        Component Value Date/Time    CALCIUM 9.7 **/*/**** 1224    ALKPHOS 72 **/*/**** 1224    AST 17 **/*/**** 1224    ALT 31 **/*/**** 1224            Impression:  1. Low grade nonHodgkins lymphoma, stage ***, in remission.Recent scan - no active disease.Further imaging as cliniclly indicated.  2. PE, has IVC filter.  3. Back pain, sciatica, working diagnosis is that this is probably due residual spine destruction  from the lymphoma.  4. KPS 100%.  5. splenectomy specimen - showed amyloid, MPEV neg for m protein  6. DCIS: * braest */****: s/p RT. on exemestane.recent mammogram negative.Request given for Bone  density scan in */****   Due to h/o recent vte and past pe and her c/o LE discomfort since it was started, I believe the risks outweigh the benefits and we mutually agreed to discontinue the exemestane.  7. Saphaneous vein clot- althogh this is recurrent vte, it was provoked and superficial. ***** recommended discontinuation of anticoagulation after 3 months.    F/u in 6 months'),\n",
       "  ('Telephone Encounter', 'Ok to order'),\n",
       "  ('Telephone Encounter',\n",
       "   'Patient would like a return phone call from Dr. ****** in regards to her ******** vaccine stating her Oncologist said it is ok for the patient to receive the vaccine. Patient is requesting a call back as soon as possible.'),\n",
       "  ('Telephone Encounter', 'Sent to Dr'),\n",
       "  ('Telephone Encounter', 'zostavax ordered'),\n",
       "  ('MR AVS Snapshot',\n",
       "   \"****** *. *****   **/*/**** 10:00 AM   Office Visit    Provider:  ***** ******, MD   Department:  HFMC St Hgts Internal Medicine   Dept Phone:  ***-***-****           Reason for Visit    Cough     Nasal Congestion x 6 days      Diagnoses this Visit    Bronchitis    -  Primary     PND (post-nasal drip)           Follow-up and Disposition    Return if symptoms worsen or fail to improve.      Future Appointments    Date & Time ******** ********** ******    */**/**** 10:20 ** ***** ******, MD HFMC St Hgts Internal Medicine ******** ***         Today's Medication Changes          These changes are accurate as of: **/*/**** 10:38 AM. If you have any questions, ask your nurse or doctor.               Notice        Some of the medications listed here do not show instructions, such as how often to take the medication. Ask your doctor or nurse how to use these medications.          START taking these medications    azithromycin 250 MG tablet   Commonly known as:  Zithromax Z-***   Take 1 tablet (250 mg total) by mouth daily. 2 tabs on day 1, then 1 day QD X 4, inform coumadin clinic    Started by: ***** ******, MD      STOP taking these medications    exemestane 25 mg tablet   Commonly known as:  AROMASIN    Stopped by: ***** ******, MD            Where to Get Your Medications    You need to pick up these prescriptions. We sent them to a ******** ********, so go there to get them.    ***/******** #**** - ****** TWP., ** - ***** ****** **. ** ****** ** ** ****   -  azithromycin 250 MG tablet   -  fluticasone 50 mcg/actuation nasal spray    ***** ****** **. *****:  ***-***-****   ****** ***. ** *****                      Your Updated Medication List          This list is accurate as of: **/*/**** 10:38 AM. Always use your most recent med list.               Notice        Some of the medications listed here do not show instructions, such as how often to take the medication. Ask your doctor or nurse how to use these medications.           azithromycin 250 MG tablet   Commonly known as:  Zithromax Z-***   Take 1 tablet (250 mg total) by mouth daily. 2 tabs on day 1, then 1 day QD X 4, inform coumadin clinic        diclofenac sodium 1 % Gel   Apply 4 times daily        fluticasone 50 mcg/actuation nasal spray   Commonly known as:  Flonase   2 sprays by Nasal route daily.        HYDROcodone-acetaminophen 5-325 mg per tablet   Commonly known as:  NORCO        losartan 50 MG tablet   Commonly known as:  Cozaar   Take 1 tablet (50 mg total) by mouth daily.        Osteo-Poretical 600mg (1,000mg) -1,000 unit Tab   Generic drug:  calcium carbonate-vitamin D3   1\\xa0tablet tablet by mouth every morning        Ventolin HFA 90 mcg/actuation inhaler   Generic drug:  albuterol   2\\xa0puff puff using inhaler every four to six hours as needed        warfarin 5 MG tablet   Commonly known as:  Coumadin   Take 1 tablet (5 mg total) by mouth daily.        Xanax 0.5 MG tablet   Generic drug:  ALPRAZolam   1 tablet by mouth  as directed                Patient Instructions     ***** **** ****** System Patient Instructions  Bronchitis: After Your Visit  Your Care Instructions  Bronchitis is inflammation of the bronchial tubes, which carry air to the lungs. The tubes swell and produce mucus, or phlegm. The mucus and inflamed bronchial tubes make you cough. You may have trouble breathing.  Most cases of bronchitis are caused by viruses like those that cause colds. Antibiotics may help cure bronchitis that is caused by bacteria, but not bronchitis that is caused by a virus.  Bronchitis usually develops rapidly and lasts about 2 to 3 weeks in otherwise healthy people.  Follow-up care is a key part of your treatment and safety. Be sure to make and go to all appointments, and call your doctor if you are having problems. It__s also a good idea to know your test results and keep a list of the medicines you take.  How can you care for yourself at home?  · Take all medicines exactly as prescribed.  · If your doctor prescribed antibiotics, take them as directed. Do not stop taking them just because you feel better. You need to take the full course of antibiotics.  · Get some extra rest.  · Take an over-the-counter pain medicine, such as acetaminophen (Tylenol), ibuprofen (Advil, Motrin), or naproxen (Aleve) to reduce fever and relieve body aches. Read and follow all instructions on the label.  · Do not take two or more pain medicines at the same time unless the doctor told you to. Many pain medicines have acetaminophen, which is Tylenol. *** much acetaminophen (Tylenol) can be harmful.  · Take an over-the-counter cough medicine that contains dextromethorphan to help quiet a dry, hacking cough so that you can sleep. Avoid cough medicines that have more than one active ingredient. Read and follow all instructions on the label.  · Breathe moist air from a humidifier, hot shower, or sink filled with hot water. The heat and moisture will thin mucus so you can cough it out.  · Do not smoke. Smoking can make bronchitis worse. If you need help quitting, talk to your doctor about stop-smoking programs and medicines. These can increase your chances of quitting for good.  When should you call for help?  Call 911 anytime you think you may need emergency care. For example, call if:  · You have severe trouble breathing.  Call your doctor now or seek immediate medical care if:  · You have new or worse trouble breathing.  · You cough up dark brown or bloody mucus (sputum).  · You have a new or higher fever.  · You have a new rash.  Watch closely for changes in your health, and be sure to contact your doctor if:  · You cough more deeply or more often, especially if you notice more mucus or a change in the color of your mucus.  · You are not getting better as expected.   Where can you learn more?   Log on to your ***** **** ******* account at www.HenryFord.com/MyChart and go to the left hand side box Health Library. Enter **** and click Search to learn more about __Bronchitis: After Your Visit__.    Please ask any HFHS clinical representative for assistance in obtaining a ***** **** ******* account.   © 2006-2012 Healthwise, Incorporated. Care instructions adapted under license by ***** **** ****** System. This care instruction is for use with your licensed healthcare professional. If you have questions about a medical condition or this instruction, always ask your healthcare professional. Healthwise, Incorporated disclaims any warranty or liability for your use of this information.  Content Version: *.*.*****; Last Revised: ***** *, ****                      Allergies as of **/*/****    No Known Allergies      Ongoing Medical Issues          Noted - Resolved    Saphenous vein clot Unknown - Present    Small bowel obstruction Unknown - Present    Pulmonary embolism Unknown - Present    Fibrocystic breast disease in female Unknown - Present    Family history of deep venous thrombosis Unknown - Present    Essential hypertension Unknown - Present    Chronic rhinitis Unknown - Present    CA - breast cancer Unknown - Present      Immunizations Administered During the Admission Administered on Date of Encounter - **/*/****    None         Result Summary      Health Maintenance Summary    DXA SCAN Overdue */*/****     COLON CANCER SCREENING 10 YEAR COLONOSCOPY Next Due */*/****     TRIGLYCERIDE LEVEL Next Due */**/****     HDL LEVEL Next Due */**/****     TOTAL CHOLESTEROL LEVEL Next Due */**/****     LDL LEVEL Next Due */**/****     GLOMERULAR FILTRATION RATE Next Due **/*/****     INFLUENZA VACCINE Next Due **/*/****     MAMMOGRAM Next Due */*/****     CREATININE LEVEL Next Due */*/****     POTASSIUM LEVEL Next Due */*/****     SODIUM LEVEL Next Due */*/****     BUN Next Due */*/****       Sign Up for MyChart    ***** **** MyChart, our secure online patient portal, allows you to conveniently manage your health care needs from your home or office computer. As a registered user, you can send messages to your doctor, view test results, renew prescriptions, request appointments and more. To activate your account, go to www.HenryFord.com/MyChart.     ***** on Log in to MyChart Account and then click on Activate your Account under the 'New User?' heading to access the new member activation page. Enter your MyChart Activation Code exactly as it appears below, your Medical Record Number (MRN), without leading zeros, and your Date of Birth (mm/dd/yyyy), then click Next. You will then be prompted to create a MyChart ***** ******** & Password, and enter a password reset security question & answer. Finally, you will need to enter your e-mail address to complete the activation process.    If you do not activate your account before the expiration date, you must request a new code.    MyChart Activation Code: *****-*****-*****  Expires: **/*/****  9:07 AM    If you have questions, you can email *********@****.*** or call *-***-********* (***-***-****). Remember, MyChart is not to be used for urgent needs. For medical emergencies, dial 911.\"),\n",
       "  ('Patient Instructions',\n",
       "   '***** **** Health System Patient Instructions  Bronchitis: After Your Visit  Your Care Instructions  Bronchitis is inflammation of the bronchial tubes, which carry air to the lungs. The tubes swell and produce mucus, or phlegm. The mucus and inflamed bronchial tubes make you cough. You may have trouble breathing.  Most cases of bronchitis are caused by viruses like those that cause colds. Antibiotics may help cure bronchitis that is caused by bacteria, but not bronchitis that is caused by a virus.  Bronchitis usually develops rapidly and lasts about 2 to 3 weeks in otherwise healthy people.  Follow-up care is a key part of your treatment and safety. Be sure to make and go to all appointments, and call your doctor if you are having problems. It__s also a good idea to know your test results and keep a list of the medicines you take.  How can you care for yourself at home?  · Take all medicines exactly as prescribed.  · If your doctor prescribed antibiotics, take them as directed. Do not stop taking them just because you feel better. You need to take the full course of antibiotics.  · Get some extra rest.  · Take an over-the-counter pain medicine, such as acetaminophen (Tylenol), ibuprofen (Advil, Motrin), or naproxen (Aleve) to reduce fever and relieve body aches. Read and follow all instructions on the label.  · Do not take two or more pain medicines at the same time unless the doctor told you to. Many pain medicines have acetaminophen, which is Tylenol. *** much acetaminophen (Tylenol) can be harmful.  · Take an over-the-counter cough medicine that contains dextromethorphan to help quiet a dry, hacking cough so that you can sleep. Avoid cough medicines that have more than one active ingredient. Read and follow all instructions on the label.  · Breathe moist air from a humidifier, hot shower, or sink filled with hot water. The heat and moisture will thin mucus so you can cough it out.  · Do not smoke. Smoking can make bronchitis worse. If you need help quitting, talk to your doctor about stop-smoking programs and medicines. These can increase your chances of quitting for good.  When should you call for help?  Call 911 anytime you think you may need emergency care. For example, call if:  · You have severe trouble breathing.  Call your doctor now or seek immediate medical care if:  · You have new or worse trouble breathing.  · You cough up dark brown or bloody mucus (sputum).  · You have a new or higher fever.  · You have a new rash.  Watch closely for changes in your health, and be sure to contact your doctor if:  · You cough more deeply or more often, especially if you notice more mucus or a change in the color of your mucus.  · You are not getting better as expected.   Where can you learn more?   Log on to your ***** **** ******* account at www.HenryFord.com/MyChart and go to the left hand side box Health Library. Enter **** and click Search to learn more about __Bronchitis: After Your Visit__.    Please ask any HFHS clinical representative for assistance in obtaining a ***** **** ******* account.   © 2006-2012 Healthwise, Incorporated. Care instructions adapted under license by ***** **** ****** System. This care instruction is for use with your licensed healthcare professional. If you have questions about a medical condition or this instruction, always ask your healthcare professional. Healthwise, Incorporated disclaims any warranty or liability for your use of this information.  Content Version: *.*.*****; Last Revised: ***** *, ****'),\n",
       "  ('Progress Notes',\n",
       "   'Subjective:      Patient ID: ****** *. ***** is a 65 y.o. female.    Chief Complaint:    Cough  The current episode started in the past 7 days. The problem has been gradually worsening. The problem occurs every few minutes. The cough is non-productive. Associated symptoms include postnasal drip, rhinorrhea, shortness of breath and wheezing. Pertinent negatives include no chest pain, chills, ear pain, fever, hemoptysis, rash or sore throat. The symptoms are aggravated by lying down. Risk factors: flonase. She has tried a beta-agonist inhaler for the symptoms. The treatment provided no relief.   she denies any ear pain or pressure  She has beenBabysitting  sshe has been using Flonase  Constantly coughing, could not sleep at night  Cough is slightly productive mostly dry whitish phlegm  Chest tightness and some wheezing also  She is completing Coumadin in one week    Past Medical History   Diagnosis Date   __ Essential hypertension    __ Chronic rhinitis    __ Osteoporosis    __ Small bowel obstruction 2008     recurrent / s/p partial resection, unclear etiology for small bowel obstruction   __ Pulmonary embolism      ivc filter, family history of PE   __ Arthritis      djd back disc disease, arthritis of the knee   __ Hyperlipidemia    __ Fibrocystic breast disease in female      breast cancer on treatment   __ Chronic back pain      degenerative back disease, disc disease stenosis and metastatic back disease   __ Vertigo      stable   __ Family history of deep venous thrombosis      factor * ****** positive and daughter, PE and the neice   __ ** - breast cancer      continuing treatment   __ Lymphoma 2010     stage II follicular lymphoma status post chemotherapy and splenectomy   __ Saphenous vein clot */****     rt       Past Surgical History   Procedure Laterality Date   __ Splenectomy, total     __ Small intestine surgery       bowel resection   __ Ivc filter retrieval     __ Breast surgery Left 2011     lumpectomy   __ Cholecystectomy         Family History   Problem Relation Age of Onset   __ Thrombosis Mother    __ Thrombosis ********      pe, dvt factor v   __ Cancer Brother      skin ca   __ Cancer Maternal Aunt      breast ca       History   Substance Use Topics   __ Smoking status: Never Smoker    __ Smokeless tobacco: Never Used   __ Alcohol Use: No      Comment: occasionally       Review of Systems   Constitutional: Negative for fever, chills and activity change.   HENT: Positive for rhinorrhea, postnasal drip and sinus pressure. Negative for ear pain, sore throat and ear discharge.    Eyes: Negative.    Respiratory: Positive for cough, chest tightness, shortness of breath and wheezing. Negative for hemoptysis.    Cardiovascular: Negative.  Negative for chest pain.   Skin: Negative for rash.   Review of systems is otherwise negative, see pertinent positives and negatives in ***.  All other systems are normal.    Objective:patient appeared well except for congestion     BP 120/80 | Pulse 72 | Temp(Src) 37.1 °C (98.8 °F) (Oral) | Wt 93.35 kg (205 lb 12.8 oz) | BMI 33.23 kg/m2  She was not tachypneic or in any ddistress  Physical Exam  Patient appeared not in any distres  HEENT exam reveals no pallor   TM congested on the right side  left side normal  Throat erythema  Neck supple no lymph nodes  Lung exam revealed bilateral scattered wheezes  Few scattered crackles in the bases bilaterally  Fair air exchange  Heart S1 and S2 normal with a regular rate and rhythm.  There is no murmur or gallop.      Assessment:see below     Procedures    There were no encounter diagnoses.    Plan:bronchitis respiratory infection     ****** was seen today for cough and nasal congestion.    Diagnoses and associated orders for this visit:    Bronchitis, respiratory infection with postn  drainage  - azithromycin (ZITHROMAX Z-***) 250 MG tablet; Take 1 tablet (250 mg total) by mouth daily. 2 tabs on day 1, then 1 day QD X 4, inform coumadin clinic  - fluticasone (FLONASE) 50 mcg/actuation nasal spray; 2 sprays by Nasal route daily.  Albuterol 2 puffs every 6 hours fo  Wheezing,  P.r.n. Cough syrup  Contact Coumadin clinic  Followup if not better      Saphenous venous clot  Discontinue Coumadin in one to 2 weeks completing 3 mo'),\n",
       "  ('MR AVS Snapshot',\n",
       "   \"****** *. *****   **/*/**** 9:40 AM   Office Visit    Provider:  ***** ******, MD   Department:  HFMC St Hgts Internal Medicine   Dept Phone:  ***-***-****           Reason for Visit    Cough worse      Diagnoses this Visit    Bronchitis    -  Primary       Future Appointments    Date & Time ******** ********** ******    */**/**** 10:20 ** ***** ******, MD HFMC St Hgts Internal Medicine ******** ***         Today's Medication Changes          These changes are accurate as of: **/*/**** 11:22 AM. If you have any questions, ask your nurse or doctor.               START taking these medications    chlorpheniramine-hydrocodone 8-10 mg/5 mL Su12   Commonly known as:  ********* *********** **   1 tsp twice daily    Started by: ***** ******, MD    methylprednisolone 4 mg tablet   Commonly known as:  Medrol (***)   follow package directions    Started by: ***** ******, MD            Where to Get Your Medications    You need to pick up these prescriptions. We sent some of them to a ******** ********. Go to these places to get your medications.    ***/******** #**** - ****** TWP., ** - ***** ****** **. ** ****** ** ** ****   -  methylprednisolone 4 mg tablet    ***** ****** **. *****:  ***-***-****   ****** ***. ** *****           You may get the following medications from *** ********   -  chlorpheniramine-hydrocodone 8-10 mg/5 mL Su12                     Your Updated Medication List          This list is accurate as of: **/*/**** 11:22 AM. Always use your most recent med list.                azithromycin 250 MG tablet   Commonly known as:  Zithromax Z-***   Take 1 tablet (250 mg total) by mouth daily. 2 tabs on day 1, then 1 day QD X 4, inform coumadin clinic        chlorpheniramine-hydrocodone 8-10 mg/5 mL Su12   Commonly known as:  ********* *********** **   1 tsp twice daily        diclofenac sodium 1 % Gel   Apply 4 times daily        fluticasone 50 mcg/actuation nasal spray   Commonly known as:  Flonase   2 sprays by Nasal route daily.        HYDROcodone-acetaminophen 5-325 mg per tablet   Commonly known as:  NORCO        losartan 50 MG tablet   Commonly known as:  Cozaar   Take 1 tablet (50 mg total) by mouth daily.        methylprednisolone 4 mg tablet   Commonly known as:  Medrol (***)   follow package directions        Osteo-Poretical 600mg (1,000mg) -1,000 unit Tab   Generic drug:  calcium carbonate-vitamin D3   1\\xa0tablet tablet by mouth every morning        Ventolin HFA 90 mcg/actuation inhaler   Generic drug:  albuterol   2\\xa0puff puff using inhaler every four to six hours as needed        warfarin 5 MG tablet   Commonly known as:  Coumadin   Take 1 tablet (5 mg total) by mouth daily.        Xanax 0.5 MG tablet   Generic drug:  ALPRAZolam   1 tablet by mouth  as directed                Patient Instructions    None            Allergies as of **/*/****    No Known Allergies      Ongoing Medical Issues          Noted - Resolved    Saphenous vein clot Unknown - Present    Small bowel obstruction Unknown - Present    Pulmonary embolism Unknown - Present    Fibrocystic breast disease in female Unknown - Present    Family history of deep venous thrombosis Unknown - Present    Essential hypertension Unknown - Present    Chronic rhinitis Unknown - Present    CA - breast cancer Unknown - Present      Immunizations Administered During the Admission Administered on Date of Encounter - **/*/****    None         Result Summary      Health Maintenance Summary    DXA SCAN Overdue */*/****     COLON CANCER SCREENING 10 YEAR COLONOSCOPY Next Due */*/****     TRIGLYCERIDE LEVEL Next Due */**/****     HDL LEVEL Next Due */**/****     TOTAL CHOLESTEROL LEVEL Next Due */**/****     LDL LEVEL Next Due */**/****     GLOMERULAR FILTRATION RATE Next Due **/*/****     INFLUENZA VACCINE Next Due **/*/****     MAMMOGRAM Next Due */*/****     CREATININE LEVEL Next Due */*/****     POTASSIUM LEVEL Next Due */*/****     SODIUM LEVEL Next Due */*/**** BUN Next Due */*/****       Sign Up for MyChart    ***** **** MyChart, our secure online patient portal, allows you to conveniently manage your health care needs from your home or office computer. As a registered user, you can send messages to your doctor, view test results, renew prescriptions, request appointments and more. To activate your account, go to www.HenryFord.com/MyChart.     ***** on Log in to MyChart Account and then click on Activate your Account under the 'New User?' heading to access the new member activation page. Enter your MyChart Activation Code exactly as it appears below, your Medical Record Number (MRN), without leading zeros, and your Date of Birth (mm/dd/yyyy), then click Next. You will then be prompted to create a MyChart ***** ******** & Password, and enter a password reset security question & answer. Finally, you will need to enter your e-mail address to complete the activation process.    If you do not activate your account before the expiration date, you must request a new code.    MyChart Activation Code: *****-*****-*****  Expires: **/*/****  9:07 AM    If you have questions, you can email *********@****.*** or call *-***-********* (***-***-****). Remember, MyChart is not to be used for urgent needs. For medical emergencies, dial 911.\"),\n",
       "  ('Patient Instructions',\n",
       "   '***** **** Health System Patient Instructions  Bronchitis: After Your Visit  Your Care Instructions  Bronchitis is inflammation of the bronchial tubes, which carry air to the lungs. The tubes swell and produce mucus, or phlegm. The mucus and inflamed bronchial tubes make you cough. You may have trouble breathing.  Most cases of bronchitis are caused by viruses like those that cause colds. Antibiotics may help cure bronchitis that is caused by bacteria, but not bronchitis that is caused by a virus.  Bronchitis usually develops rapidly and lasts about 2 to 3 weeks in otherwise healthy people.  Follow-up care is a key part of your treatment and safety. Be sure to make and go to all appointments, and call your doctor if you are having problems. It__s also a good idea to know your test results and keep a list of the medicines you take.  How can you care for yourself at home?  · Take all medicines exactly as prescribed.  · If your doctor prescribed antibiotics, take them as directed. Do not stop taking them just because you feel better. You need to take the full course of antibiotics.  · Get some extra rest.  · Take an over-the-counter pain medicine, such as acetaminophen (Tylenol), ibuprofen (Advil, Motrin), or naproxen (Aleve) to reduce fever and relieve body aches. Read and follow all instructions on the label.  · Do not take two or more pain medicines at the same time unless the doctor told you to. Many pain medicines have acetaminophen, which is Tylenol. *** much acetaminophen (Tylenol) can be harmful.  · Take an over-the-counter cough medicine that contains dextromethorphan to help quiet a dry, hacking cough so that you can sleep. Avoid cough medicines that have more than one active ingredient. Read and follow all instructions on the label.  · Breathe moist air from a humidifier, hot shower, or sink filled with hot water. The heat and moisture will thin mucus so you can cough it out.  · Do not smoke. Smoking can make bronchitis worse. If you need help quitting, talk to your doctor about stop-smoking programs and medicines. These can increase your chances of quitting for good.  When should you call for help?  Call 911 anytime you think you may need emergency care. For example, call if:  · You have severe trouble breathing.  Call your doctor now or seek immediate medical care if:  · You have new or worse trouble breathing.  · You cough up dark brown or bloody mucus (sputum).  · You have a new or higher fever.  · You have a new rash.  Watch closely for changes in your health, and be sure to contact your doctor if:  · You cough more deeply or more often, especially if you notice more mucus or a change in the color of your mucus.  · You are not getting better as expected.   Where can you learn more?   Log on to your ***** **** ******* account at www.HenryFord.com/MyChart and go to the left hand side box Health Library. Enter **** and click Search to learn more about __Bronchitis: After Your Visit__.    Please ask any HFHS clinical representative for assistance in obtaining a ***** **** ******* account.   © 2006-2012 Healthwise, Incorporated. Care instructions adapted under license by ***** **** ****** System. This care instruction is for use with your licensed healthcare professional. If you have questions about a medical condition or this instruction, always ask your healthcare professional. Healthwise, Incorporated disclaims any warranty or liability for your use of this information.  Content Version: *.*.*****; Last Revised: ***** *, ****'),\n",
       "  ('Progress Notes',\n",
       "   'Subjective: Persistent cough      Patient ID: ****** *. ***** is a 65 y.o. female.    Chief Complaint:as above    HPI  Patient continues to have persistent cough  Cough is mostly dry  No fever chills she feels some tightness in the lungs and wheezing  She is completing Z-*** that was given to her on Monday  She denies any hemoptysis  her side hurts,   And decided to get checked because symptoms have persistent       Past Medical History   Diagnosis Date   __ Essential hypertension    __ Chronic rhinitis    __ Osteoporosis    __ Small bowel obstruction 2008     recurrent / s/p partial resection, unclear etiology for small bowel obstruction   __ Pulmonary embolism      ivc filter, family history of PE   __ Arthritis      djd back disc disease, arthritis of the knee   __ Hyperlipidemia    __ Fibrocystic breast disease in female      breast cancer on treatment   __ Chronic back pain      degenerative back disease, disc disease stenosis and metastatic back disease   __ Vertigo      stable   __ Family history of deep venous thrombosis      factor * ****** positive and daughter, PE and the neice   __ ** - breast cancer      continuing treatment   __ Lymphoma 2010     stage II follicular lymphoma status post chemotherapy and splenectomy   __ Saphenous vein clot */****     rt   __ Cancer      bbreast cancer, lymphoma d/c aromasin 2 yrs following blood clot        Past Surgical History   Procedure Laterality Date   __ Splenectomy, total     __ Small intestine surgery       bowel resection   __ Ivc filter retrieval     __ Breast surgery Left 2011     lumpectomy   __ Cholecystectomy         Family History   Problem Relation Age of Onset   __ Thrombosis Mother    __ Thrombosis ********      pe, dvt factor v   __ Cancer Brother      skin ca   __ Cancer Maternal Aunt      breast ca       History   Substance Use Topics   __ Smoking status: Never Smoker    __ Smokeless tobacco: Never Used   __ Alcohol Use: No      Comment: occasionally       Review of Systems  Review of systems is otherwise negative, see pertinent positives and negatives in ***.  All other systems are normal.    Objective: patient not in any distress not tachypneic hoarse voice     BP 120/70 | Pulse 64 | Temp(Src) 36.6 °C (97.8 °F) (Oral) | Wt 92.534 kg (204 lb) | BMI 32.94 kg/m2 | SpO2 93%    Physical Exam  HEENT exam  No pallor no sinus tenderness worse voice nasal congestion  Throat slightly erythematous with  Right TM minimally visualized because of wax left TM normal  Neck supple no JVD  Lungs are clear to auscultation with no crackles,slightly prolonged expiratory flow   occasional wheezesOtherwise  There is good air movement in all fields.    Heart S1 and S2 normal with a regular rate and rhythm.  There is no murmur or gallop.      Assessment:see below     Procedures    The encounter diagnosis was Bronchitis.    Plan:see below     Persistent cough and bronchitis  ****** was seen today for cough.    Diagnoses and associated orders for this visit:    Bronchitis   complete Z-***   no change in antibiotics  Chest x-ray stat Reviewed, negative for pneumonia   continue treatmentBreathing treatment given in the  Office today  With ewwith significant relief of symptoms   use albuterol 2 puffs every 6 hou  Symptomatic treatment  Followup if not better  - chlorpheniramine-hydrocodone (********* *********** **) 8-10 mg/5 mL Su12; 1 tsp twice daily  - methylprednisolone (MEDROL, ***,) 4 mg tablet; follow package directions'),\n",
       "  ('Telephone Encounter',\n",
       "   'Spoke with devida ** *** ********, verified that they did receive the prescription **/*/**. No further needs'),\n",
       "  ('Telephone Encounter', '***** encounter'),\n",
       "  ('Telephone Encounter', 'close'),\n",
       "  ('ED Notes', 'Instructed for ccms U/A'),\n",
       "  ('ED Notes', 'Patient identifiers completed/spelled name, and verified BD'),\n",
       "  ('ED Notes', 'Patient transported to X-ray'),\n",
       "  ('ED Notes', 'Pt back from xray.'),\n",
       "  ('ED Notes',\n",
       "   'Similar to gall bladder attack she had in ****, but had surg/chole. Low grade temp'),\n",
       "  ('ED Provider Notes',\n",
       "   \"History     Chief Complaint   Patient presents with   __ Emesis     started during last night, abd cramping,      Patient is a 65 y.o. female presenting with vomiting. The history is provided by the patient.   Emesis  Severity:  Moderate  Timing:  Intermittent  Progression:  Unchanged  Chronicity:  New  Recent urination:  Normal  Relieved by:  Nothing  Worsened by:  Nothing tried  Associated symptoms: abdominal pain    Associated symptoms: no chills, no cough, no diarrhea, no fever, no headaches and no sore throat    Risk factors: prior abdominal surgery    Risk factors: no diabetes, no sick contacts and no suspect food intake        Past Medical History   Diagnosis Date   __ Essential hypertension    __ Chronic rhinitis    __ Osteoporosis    __ Small bowel obstruction 2008     recurrent / s/p partial resection, unclear etiology for small bowel obstruction   __ Pulmonary embolism      ivc filter, family history of PE   __ Arthritis      djd back disc disease, arthritis of the knee   __ Hyperlipidemia    __ Fibrocystic breast disease in female      breast cancer on treatment   __ Chronic back pain      degenerative back disease, disc disease stenosis and metastatic back disease   __ Vertigo      stable   __ Family history of deep venous thrombosis      factor * ****** positive and daughter, PE and the neice   __ ** - breast cancer      continuing treatment   __ Lymphoma 2010     stage II follicular lymphoma status post chemotherapy and splenectomy   __ Saphenous vein clot */****     rt   __ Cancer      bbreast cancer, lymphoma d/c aromasin 2 yrs following blood clot        Past Surgical History   Procedure Laterality Date   __ Splenectomy, total     __ Small intestine surgery       bowel resection   __ Ivc filter retrieval     __ Breast surgery Left 2011     lumpectomy   __ Cholecystectomy         Family History   Problem Relation Age of Onset   __ Thrombosis Mother    __ Thrombosis ********      pe, dvt factor v   __ Cancer Brother skin ca   __ Cancer Maternal Aunt      breast ca       History   Substance Use Topics   __ Smoking status: Never Smoker    __ Smokeless tobacco: Never Used   __ Alcohol Use: No      Comment: occasionally       Review of Systems   Constitutional: Negative for fever and chills.   HENT: Negative for congestion, sore throat and neck stiffness.    Eyes: Negative for visual disturbance.   Respiratory: Negative for cough and shortness of breath.    Cardiovascular: Negative for chest pain.   Gastrointestinal: Positive for vomiting and abdominal pain. Negative for nausea and diarrhea.   Genitourinary: Negative for dysuria and flank pain.   Musculoskeletal: Negative for back pain.   Skin: Negative for rash.   Neurological: Negative for dizziness and headaches.   Psychiatric/Behavioral: Negative for behavioral problems.       Physical Exam   BP 135/76 | Pulse 92 | Temp(Src) 36.6 °C (97.9 °F) (Temporal Artery) | Resp 18 | Ht 1.676 m (5' 6) | Wt 92.534 kg (204 lb) | BMI 32.94 kg/m2 | SpO2 96%    Physical Exam   Nursing note and vitals reviewed.  Constitutional: She is oriented to person, place, and time. She appears well-developed and well-nourished.   HENT:   Head: Normocephalic and atraumatic.   Eyes: Conjunctivae and EOM are normal. Pupils are equal, round, and reactive to light.   Neck: Normal range of motion. Neck supple.   Cardiovascular: Normal rate, regular rhythm and normal heart sounds.    No murmur heard.  Pulmonary/Chest: Effort normal and breath sounds normal.   Abdominal: Soft. Bowel sounds are normal. She exhibits no distension and no mass. There is tenderness. There is no rebound and no guarding.   Generalized tenderness , mild.   Musculoskeletal: Normal range of motion.   Neurological: She is alert and oriented to person, place, and time.   Skin: Skin is warm and dry.   Psychiatric: Her behavior is normal.       ED Course   MDM  Number of Diagnoses or Management Options  Abdominal pain, unspecified site: established and improving     Amount and/or Complexity of Data Reviewed  Clinical lab tests: ordered and reviewed  Independent visualization of images, tracings, or specimens: yes    Risk of Complications, Morbidity, and/or Mortality  Presenting problems: moderate  Diagnostic procedures: moderate  Management options: moderate    Patient Progress  Patient progress: stable      Final Impression     Final diagnoses:   None\"),\n",
       "  ('Assessment & Plan Note',\n",
       "   '1.  NPO  2.  IVF  3.  NGT to LIWS  4.  Pain control PRN'),\n",
       "  ('Consults', 'See H & P'),\n",
       "  ('ED Notes', 'Patient transported to ** per wheelchair'),\n",
       "  ('ED Notes', 'Pt for transfer to *** main campus.'),\n",
       "  ('ED Notes',\n",
       "   'Pt is a transfer from ******** Heights Clinic for SBO. Pt states,  I been vomiting a lot lately, its been yellow or green. Last time I had a bowel movement was last Friday. Bowel sounds are hypoactive on auscultation. ABD appear distended. Pt c/o of subgastric ABD pain.  Pt presents with a pre-existing Peripheral IV to Left AC, and a pre-exisiting ** tube to left nares. MD ****** at bedside evaluting pt. Awaiting Trauma consult.'),\n",
       "  ('ED Notes', 'Pt returned from **.'),\n",
       "  ('ED Notes',\n",
       "   'Pt to dem via ems from sterling heights for trauma consult for sbo. Pt states her abd pain is 4/10 at this time. Denies nausea at this time. Pt with preexisting NGT to left nare and preexisting saline lock to left AC. Trauma paged, awaiting response.'),\n",
       "  ('ED Provider Notes',\n",
       "   \"History     Chief Complaint   Patient presents with   __ Emesis     started during last night, abd cramping,      Patient is a 65 y.o. female presenting with vomiting. The history is provided by the patient.   Emesis  Severity:  Moderate  Timing:  Intermittent  Progression:  Unchanged  Chronicity:  New  Recent urination:  Normal  Relieved by:  Nothing  Worsened by:  Nothing tried  Associated symptoms: abdominal pain    Associated symptoms: no chills, no cough, no diarrhea, no fever, no headaches and no sore throat    Risk factors: prior abdominal surgery    Risk factors: no diabetes, no sick contacts and no suspect food intake        Past Medical History   Diagnosis Date   __ Essential hypertension    __ Chronic rhinitis    __ Osteoporosis    __ Small bowel obstruction 2008     recurrent / s/p partial resection, unclear etiology for small bowel obstruction   __ Pulmonary embolism      ivc filter, family history of PE   __ Arthritis      djd back disc disease, arthritis of the knee   __ Hyperlipidemia    __ Fibrocystic breast disease in female      breast cancer on treatment   __ Chronic back pain      degenerative back disease, disc disease stenosis and metastatic back disease   __ Vertigo      stable   __ Family history of deep venous thrombosis      factor * ****** positive and daughter, PE and the neice   __ ** - breast cancer      continuing treatment   __ Lymphoma 2010     stage II follicular lymphoma status post chemotherapy and splenectomy   __ Saphenous vein clot */****     rt   __ Cancer      bbreast cancer, lymphoma d/c aromasin 2 yrs following blood clot        Past Surgical History   Procedure Laterality Date   __ Splenectomy, total     __ Small intestine surgery       bowel resection   __ Ivc filter retrieval     __ Breast surgery Left 2011     lumpectomy   __ Cholecystectomy         Family History   Problem Relation Age of Onset   __ Thrombosis Mother    __ Thrombosis ********      pe, dvt factor v   __ Cancer Brother skin ca   __ Cancer Maternal Aunt      breast ca       History   Substance Use Topics   __ Smoking status: Never Smoker    __ Smokeless tobacco: Never Used   __ Alcohol Use: No      Comment: occasionally       Review of Systems   Constitutional: Negative for fever and chills.   HENT: Negative for congestion, sore throat and neck stiffness.    Eyes: Negative for visual disturbance.   Respiratory: Negative for cough and shortness of breath.    Cardiovascular: Negative for chest pain.   Gastrointestinal: Positive for vomiting and abdominal pain. Negative for nausea and diarrhea.   Genitourinary: Negative for dysuria and flank pain.   Musculoskeletal: Negative for back pain.   Skin: Negative for rash.   Neurological: Negative for dizziness and headaches.   Psychiatric/Behavioral: Negative for behavioral problems.       Physical Exam   BP 135/76 | Pulse 92 | Temp(Src) 36.6 °C (97.9 °F) (Temporal Artery) | Resp 18 | Ht 1.676 m (5' 6) | Wt 92.534 kg (204 lb) | BMI 32.94 kg/m2 | SpO2 96%    Physical Exam   Nursing note and vitals reviewed.  Constitutional: She is oriented to person, place, and time. She appears well-developed and well-nourished.   HENT:   Head: Normocephalic and atraumatic.   Eyes: Conjunctivae and EOM are normal. Pupils are equal, round, and reactive to light.   Neck: Normal range of motion. Neck supple.   Cardiovascular: Normal rate, regular rhythm and normal heart sounds.    No murmur heard.  Pulmonary/Chest: Effort normal and breath sounds normal.   Abdominal: Soft. Bowel sounds are normal. She exhibits no distension and no mass. There is tenderness. There is no rebound and no guarding.   Generalized tenderness , mild.   Musculoskeletal: Normal range of motion.   Neurological: She is alert and oriented to person, place, and time.   Skin: Skin is warm and dry.   Psychiatric: Her behavior is normal.       ED Course   MDM  Number of Diagnoses or Management Options  Abdominal pain, unspecified site: established and improving     Amount and/or Complexity of Data Reviewed  Clinical lab tests: ordered and reviewed  Independent visualization of images, tracings, or specimens: yes    Risk of Complications, Morbidity, and/or Mortality  Presenting problems: moderate  Diagnostic procedures: moderate  Management options: moderate    Patient Progress  Patient progress: stable      Final Impression     Final diagnoses:   None\"),\n",
       "  ('ED Provider Notes',\n",
       "   \"History     Chief Complaint   Patient presents with   __ Emesis     started during last night, abd cramping,      Patient is a 65 y.o. female presenting with vomiting. The history is provided by the patient.   Emesis  Severity:  Moderate  Timing:  Intermittent  Progression:  Unchanged  Chronicity:  New  Recent urination:  Normal  Relieved by:  Nothing  Worsened by:  Nothing tried  Associated symptoms: abdominal pain    Associated symptoms: no chills, no cough, no diarrhea, no fever, no headaches and no sore throat    Risk factors: prior abdominal surgery    Risk factors: no diabetes, no sick contacts and no suspect food intake        Past Medical History   Diagnosis Date   __ Essential hypertension    __ Chronic rhinitis    __ Osteoporosis    __ Small bowel obstruction 2008     recurrent / s/p partial resection, unclear etiology for small bowel obstruction   __ Pulmonary embolism      ivc filter, family history of PE   __ Arthritis      djd back disc disease, arthritis of the knee   __ Hyperlipidemia    __ Fibrocystic breast disease in female      breast cancer on treatment   __ Chronic back pain      degenerative back disease, disc disease stenosis and metastatic back disease   __ Vertigo      stable   __ Family history of deep venous thrombosis      factor * ****** positive and daughter, PE and the neice   __ ** - breast cancer      continuing treatment   __ Lymphoma 2010     stage II follicular lymphoma status post chemotherapy and splenectomy   __ Saphenous vein clot */****     rt   __ Cancer      bbreast cancer, lymphoma d/c aromasin 2 yrs following blood clot        Past Surgical History   Procedure Laterality Date   __ Splenectomy, total     __ Small intestine surgery       bowel resection   __ Ivc filter retrieval     __ Breast surgery Left 2011     lumpectomy   __ Cholecystectomy         Family History   Problem Relation Age of Onset   __ Thrombosis Mother    __ Thrombosis ********      pe, dvt factor v   __ Cancer Brother skin ca   __ Cancer Maternal Aunt      breast ca       History   Substance Use Topics   __ Smoking status: Never Smoker    __ Smokeless tobacco: Never Used   __ Alcohol Use: No      Comment: occasionally       Review of Systems   Constitutional: Negative for fever and chills.   HENT: Negative for congestion, sore throat and neck stiffness.    Eyes: Negative for visual disturbance.   Respiratory: Negative for cough and shortness of breath.    Cardiovascular: Negative for chest pain.   Gastrointestinal: Positive for vomiting and abdominal pain. Negative for nausea and diarrhea.   Genitourinary: Negative for dysuria and flank pain.   Musculoskeletal: Negative for back pain.   Skin: Negative for rash.   Neurological: Negative for dizziness and headaches.   Psychiatric/Behavioral: Negative for behavioral problems.       Physical Exam   BP 135/76 | Pulse 92 | Temp(Src) 36.6 °C (97.9 °F) (Temporal Artery) | Resp 18 | Ht 1.676 m (5' 6) | Wt 92.534 kg (204 lb) | BMI 32.94 kg/m2 | SpO2 96%    Physical Exam   Nursing note and vitals reviewed.  Constitutional: She is oriented to person, place, and time. She appears well-developed and well-nourished.   HENT:   Head: Normocephalic and atraumatic.   Eyes: Conjunctivae and EOM are normal. Pupils are equal, round, and reactive to light.   Neck: Normal range of motion. Neck supple.   Cardiovascular: Normal rate, regular rhythm and normal heart sounds.    No murmur heard.  Pulmonary/Chest: Effort normal and breath sounds normal.   Abdominal: Soft. Bowel sounds are normal. She exhibits no distension and no mass. There is tenderness. There is no rebound and no guarding.   Generalized tenderness , mild.   Musculoskeletal: Normal range of motion.   Neurological: She is alert and oriented to person, place, and time.   Skin: Skin is warm and dry.   Psychiatric: Her behavior is normal.       ED Course   MDM  Number of Diagnoses or Management Options  Abdominal pain, unspecified site: established and improving     Amount and/or Complexity of Data Reviewed  Clinical lab tests: ordered and reviewed  Tests in the radiology section of CPT®: ordered and reviewed  Independent visualization of images, tracings, or specimens: yes    Risk of Complications, Morbidity, and/or Mortality  Presenting problems: high  Diagnostic procedures: high  Management options: high    Patient Progress  Patient progress: stable      Final Impression     Final diagnoses:   None\"),\n",
       "  ('ED Provider Notes',\n",
       "   \"History   No chief complaint on file.    HPI Comments: Ms. ***** is a 65 y/o female with PMHx of ******** lymphoma, Breast CA both now in remission, SBO, who presents as a transfer with a SBO seen at ***. Patient is too be seen by trauma surgery for treatment of SBO. Currently has NG tube.     Patient is a 65 y.o. female presenting with abdominal pain.   Abdominal Pain  Pain location:  Generalized  Pain quality: bloating and fullness    Pain radiates to:  Does not radiate  Pain severity:  Moderate  Onset quality:  Sudden  Duration:  1 day  Timing:  Constant  Progression:  Worsening  Associated symptoms: no chest pain, no chills, no cough and no fever        Past Medical History   Diagnosis Date   __ Essential hypertension    __ Chronic rhinitis    __ Osteoporosis    __ Small bowel obstruction 2008     recurrent / s/p partial resection, unclear etiology for small bowel obstruction   __ Pulmonary embolism      ivc filter, family history of PE   __ Arthritis      djd back disc disease, arthritis of the knee   __ Hyperlipidemia    __ Fibrocystic breast disease in female      breast cancer on treatment   __ Chronic back pain      degenerative back disease, disc disease stenosis and metastatic back disease   __ Vertigo      stable   __ Family history of deep venous thrombosis      factor * ****** positive and daughter, PE and the neice   __ ** - breast cancer      continuing treatment   __ Lymphoma 2010     stage II follicular lymphoma status post chemotherapy and splenectomy   __ Saphenous vein clot */****     rt   __ Cancer      bbreast cancer, lymphoma d/c aromasin 2 yrs following blood clot        Past Surgical History   Procedure Laterality Date   __ Splenectomy, total     __ Small intestine surgery       bowel resection   __ Ivc filter retrieval     __ Breast surgery Left 2011     lumpectomy   __ Cholecystectomy         Family History   Problem Relation Age of Onset   __ Thrombosis Mother    __ Thrombosis ********      pe, dvt factor v __ Cancer Brother      skin ca   __ Cancer Maternal Aunt      breast ca       History   Substance Use Topics   __ Smoking status: Never Smoker    __ Smokeless tobacco: Never Used   __ Alcohol Use: No      Comment: occasionally       Review of Systems   Constitutional: Positive for appetite change. Negative for fever and chills.   HENT: Negative for ear pain, congestion and neck stiffness.    Eyes: Negative for visual disturbance.   Respiratory: Negative for apnea, cough, choking and chest tightness.    Cardiovascular: Negative for chest pain and leg swelling.   Gastrointestinal: Positive for abdominal pain.       Physical Exam   BP 139/84 | Pulse 88 | Temp(Src) 36.8 °C (98.2 °F) (Oral) | Resp 18 | Ht 1.676 m (5' 5.98) | Wt 92.534 kg (204 lb) | BMI 32.94 kg/m2 | SpO2 95%    Physical Exam   Constitutional: She is oriented to person, place, and time. She appears well-developed and well-nourished.   HENT:   Head: Normocephalic and atraumatic.   Eyes: Conjunctivae are normal. Pupils are equal, round, and reactive to light.   Neck: Normal range of motion. Neck supple. No thyromegaly present.   Cardiovascular: Normal rate, regular rhythm, normal heart sounds and intact distal pulses.    Pulmonary/Chest: Effort normal and breath sounds normal. No respiratory distress. She has no wheezes. She exhibits no tenderness.   Abdominal: Soft. There is tenderness (luq, llq, rlq). There is no rebound and no guarding.   Musculoskeletal: Normal range of motion. She exhibits no edema and no tenderness.   Neurological: She is alert and oriented to person, place, and time. No cranial nerve deficit.   Skin: Skin is warm and dry. No erythema.   Psychiatric: She has a normal mood and affect.       ED Course   MDM  Number of Diagnoses or Management Options  Diagnosis management comments: Ms. ***** presents as a transfer from *** with an acute bowel obstruction. No other complaints at this time. Trauma surgery aware patient is in ED, and will evaluate.    5:32 AM  Patient is to be admitted to H4 for SBO, will continue NG to suction and IV fluids.       Final Impression     Final diagnoses:   None\"),\n",
       "  ('ED Provider Notes',\n",
       "   \"History   No chief complaint on file.    HPI Comments: Ms. ***** is a 65 y/o female with PMHx of ******** lymphoma, Breast CA both now in remission, SBO, who presents as a transfer with a SBO seen at ***. Patient is too be seen by trauma surgery for treatment of SBO. Currently has NG tube.     Patient is a 65 y.o. female presenting with abdominal pain.   Abdominal Pain  Pain location:  Generalized  Pain quality: bloating and fullness    Pain radiates to:  Does not radiate  Pain severity:  Moderate  Onset quality:  Sudden  Duration:  1 day  Timing:  Constant  Progression:  Worsening  Associated symptoms: no chest pain, no chills, no cough and no fever        Past Medical History   Diagnosis Date   __ Essential hypertension    __ Chronic rhinitis    __ Osteoporosis    __ Small bowel obstruction 2008     recurrent / s/p partial resection, unclear etiology for small bowel obstruction   __ Pulmonary embolism      ivc filter, family history of PE   __ Arthritis      djd back disc disease, arthritis of the knee   __ Hyperlipidemia    __ Fibrocystic breast disease in female      breast cancer on treatment   __ Chronic back pain      degenerative back disease, disc disease stenosis and metastatic back disease   __ Vertigo      stable   __ Family history of deep venous thrombosis      factor * ****** positive and daughter, PE and the neice   __ ** - breast cancer      continuing treatment   __ Lymphoma 2010     stage II follicular lymphoma status post chemotherapy and splenectomy   __ Saphenous vein clot */****     rt   __ Cancer      bbreast cancer, lymphoma d/c aromasin 2 yrs following blood clot        Past Surgical History   Procedure Laterality Date   __ Splenectomy, total     __ Small intestine surgery       bowel resection   __ Ivc filter retrieval     __ Breast surgery Left 2011     lumpectomy   __ Cholecystectomy         Family History   Problem Relation Age of Onset   __ Thrombosis Mother    __ Thrombosis ********      pe, dvt factor v __ Cancer Brother      skin ca   __ Cancer Maternal Aunt      breast ca       History   Substance Use Topics   __ Smoking status: Never Smoker    __ Smokeless tobacco: Never Used   __ Alcohol Use: No      Comment: occasionally       Review of Systems   Constitutional: Positive for appetite change. Negative for fever and chills.   HENT: Negative for ear pain, congestion and neck stiffness.    Eyes: Negative for visual disturbance.   Respiratory: Negative for apnea, cough, choking and chest tightness.    Cardiovascular: Negative for chest pain and leg swelling.   Gastrointestinal: Positive for abdominal pain.       Physical Exam   BP 139/84 | Pulse 88 | Temp(Src) 36.8 °C (98.2 °F) (Oral) | Resp 18 | Ht 1.676 m (5' 5.98) | Wt 92.534 kg (204 lb) | BMI 32.94 kg/m2 | SpO2 95%    Physical Exam   Constitutional: She is oriented to person, place, and time. She appears well-developed and well-nourished.   HENT:   Head: Normocephalic and atraumatic.   Eyes: Conjunctivae are normal. Pupils are equal, round, and reactive to light.   Neck: Normal range of motion. Neck supple. No thyromegaly present.   Cardiovascular: Normal rate, regular rhythm, normal heart sounds and intact distal pulses.    Pulmonary/Chest: Effort normal and breath sounds normal. No respiratory distress. She has no wheezes. She exhibits no tenderness.   Abdominal: Soft. There is tenderness (luq, llq, rlq). There is no rebound and no guarding.   Musculoskeletal: Normal range of motion. She exhibits no edema and no tenderness.   Neurological: She is alert and oriented to person, place, and time. No cranial nerve deficit.   Skin: Skin is warm and dry. No erythema.   Psychiatric: She has a normal mood and affect.       ED Course   MDM  Number of Diagnoses or Management Options  Diagnosis management comments: Ms. ***** presents as a transfer from *** with an acute bowel obstruction. No other complaints at this time. Trauma surgery aware patient is in ED, and will evaluate.  NG to suction currently, pain is controlled with dilaludid.     5:32 AM  Patient is to be admitted to H4 for SBO, will continue NG to suction and IV fluids.       Final Impression     Final diagnoses:   None\"),\n",
       "  ('H&P',\n",
       "   \"****** *. ***** is an 65 y.o. female.    The History may not be comprehensive due to: Not applicable    Attempts to obtain History taken by provider: Previous medical records reviewed      Chief Complaint: Abdominal Pain, Nausea, Vomiting    History of Present Illness: (i.e. Modifying factors, severity, timing and context):  65 yo F with complicated PMH including lymphoma s/p chemo/XRT, s/p ex lap for splenectomy and SBR for SBO (2008) presents with emesis x 6 and abdominal pain.  She claims that she had a BM yesterday and passed flatus this evening prior to presentation.  She was transferred from an OSH after CT showed a partial SBO.    HPI    No Known Allergies    Medication(s): admission medication reconciliation reviewed    Past Medical History   Diagnosis Date   __ Essential hypertension    __ Chronic rhinitis    __ Osteoporosis    __ Small bowel obstruction 2008     recurrent / s/p partial resection, unclear etiology for small bowel obstruction   __ Pulmonary embolism      ivc filter, family history of PE   __ Arthritis      djd back disc disease, arthritis of the knee   __ Hyperlipidemia    __ Fibrocystic breast disease in female      breast cancer on treatment   __ Chronic back pain      degenerative back disease, disc disease stenosis and metastatic back disease   __ Vertigo      stable   __ Family history of deep venous thrombosis      factor * ****** positive and daughter, PE and the neice   __ ** - breast cancer      continuing treatment   __ Lymphoma 2010     stage II follicular lymphoma status post chemotherapy and splenectomy   __ Saphenous vein clot */****     rt   __ Cancer      bbreast cancer, lymphoma d/c aromasin 2 yrs following blood clot        Past Surgical History   Procedure Laterality Date   __ Splenectomy, total     __ Small intestine surgery       bowel resection   __ Ivc filter retrieval     __ Breast surgery Left 2011     lumpectomy   __ Cholecystectomy         History     Social History   __ Marital Status: Married     Spouse Name: N/A     Number of Children: N/A   __ Years of Education: N/A     Social History Main Topics   __ Smoking status: Never Smoker    __ Smokeless tobacco: Never Used   __ Alcohol Use: No      Comment: occasionally   __ Drug Use: No   __ Sexually Active: Yes      Comment: married     Other Topics Concern   __ None     Social History Narrative   __ None                 Functional Health Status:  independent    Occupation: N/A         Family History   Problem Relation Age of Onset   __ Thrombosis Mother    __ Thrombosis ********      pe, dvt factor v   __ Cancer Brother      skin ca   __ Cancer Maternal Aunt      breast ca       Active Problems:    Small bowel obstruction      Review of Systems   Constitutional: Negative.    HENT: Negative.    Eyes: Negative.    Respiratory: Negative.    Cardiovascular: Negative.    Gastrointestinal: Positive for nausea, vomiting and abdominal pain. Negative for heartburn, diarrhea, constipation, blood in stool and ******.   Genitourinary: Negative.    Musculoskeletal: Negative.    Skin: Negative.    Neurological: Negative.    Endo/Heme/Allergies: Negative.    Psychiatric/Behavioral: Negative.        Physical Exam   Constitutional: She is oriented to person, place, and time. She appears well-developed and well-nourished. No distress.   Neck: Normal range of motion. No JVD present. No tracheal deviation present.   Cardiovascular: Normal rate and regular rhythm.  Exam reveals no gallop and no friction rub.    No murmur heard.  Pulmonary/Chest: Effort normal. No stridor. No respiratory distress. She has no wheezes. She has no rales. She exhibits no tenderness.   Abdominal: Soft. Bowel sounds are normal. She exhibits no distension and no mass. There is tenderness (Generalized abdominal tenderness). There is no rebound and no guarding.   Musculoskeletal: Normal range of motion. She exhibits no edema and no tenderness.   Neurological: She is alert and oriented to person, place, and time.   Skin: Skin is warm and dry. She is not diaphoretic.       Blood pressure 13*/**, pulse 88, temperature 36.8 °C (98.2 °F), temperature source Oral, resp. rate 18, height 1.676 m (5' 5.98), weight 92.534 kg (204 lb), SpO2 95.00%.    Laboratory Studies and/or Diagnostic Tests:  Pertinent laboratory studies and diagnostic tests have been reviewed    Images/tracings were reviewed  Small bowel obstruction - ***** *****, MD  **/**/****  5:49 AM  Signed  1.  NPO  2.  IVF  3.  NGT to LIWS  4.  Pain control PRN      Disposition:     Deep Vein Thrombosis (DVT) Prophylaxis: ambulatory    Code Status: No Order    Present on Admission Indicators: not applicable    ***** *****  **/**/****\"),\n",
       "  ('Assessment & Plan Note',\n",
       "   '- 1 cup of liquid Q shift  - decreased IVF to maintenance at 75ml/hr  - d/c NG tube  - Pain control PRN'),\n",
       "  ('MD Hospital Course Note',\n",
       "   '65 yo F with complicated PMH including lymphoma s/p chemo/XRT, s/p ex lap for splenectomy and SBR for SBO (2008) presents with emesis x 6 and abdominal pain. She claims that she had a BM the day prior to admission and passed flatus the evening of presentation. She was transferred from an OSH after CT showed a partial SBO. The patient was conservatively managed with NG tube, bowel rest and IVF. Her tenderness improved significantly, she started passing gas again. The NG tube was removed on **/*.'),\n",
       "  ('Progress Notes',\n",
       "   \"Small bowel obstruction    Assessment & Plan - ******* *****, **  **/*/**** 11:47 AM    Addendum:  - 1 cup of liquid Q shift  - decreased IVF to maintenance at 75ml/hr  - d/c NG tube  - Pain control PRN      Disposition:     Subjective/Objective  Subjective    Interval History/Symptoms:  No acute events overnight. Pain adequately controlled with current pain medications.  Current diet is ice chips and sips and well tolerated.  Denies any nausea/vomiting.  Patient is passing flatus and having bowel movements.  Also having adequate urinary output.  Patient is out of bed to chair.    Objective     Today I performed the following: reviewed or ordered lab tests    Vitals:  Temp (24hrs), ***:**.9 °C (98.5 °*), ***:**.7 °C (98.1 °F), Max:37.4 °C (99.3 °F)    Blood pressure 12*/**, pulse 67, temperature 36.7 °C (98.1 °F), temperature source Oral, resp. rate 20, height 1.676 m (5' 5.98), weight 92.534 kg (204 lb), SpO2 95.00%.    Intake/Output totals past 24 hours:    Intake/Output Summary (Last 24 hours) at **/**/** 1145  Last data filed at **/**/** 0922   Gross per 24 hour   Intake   1700 ml   Output   4275 ml   Net  -2575 ml     Intake/Output this shift:  I/O this shift:  In: 100 [I.V.:100]  Out: 600 [Urine:600]    Drains:  NG/OG Tube 16 Fr. Left nostril (Active)   Securement anchored to nostril center with adhesive device **/*/****  9:16 AM   Placement Verification Auscultation **/*/****  9:16 AM   Site Assessment Clean;Dry;Intact **/*/****  9:16 AM   Status Suction-low intermittent **/*/****  9:16 AM   Drainage Appearance ***** **/*/****  9:16 AM   Output (mL) 150 mL **/*/****  5:25 AM       Exam  General:  No apparent distress  Cardiovascular:  regular rate and rhythm  Lungs:  clear to auscultation bilaterally  Abdomen:  Soft, non-tender, non-distended, bowel sounds present, Drain: absent  Extremities:  No clubbing, cyanosis or edema\"),\n",
       "  ('Progress Notes',\n",
       "   \"Unless otherwise indicated below, I saw and evaluated the patient on the date of the note.  I have reviewed the patient's information, participated in the care of the patient, and I concur with the assessment and plan except as noted below.\"),\n",
       "  ('Subjective & Objective',\n",
       "   \"Subjective    Interval History/Symptoms:  No acute events overnight. Pain adequately controlled with current pain medications.  Current diet is ice chips and sips and well tolerated.  Denies any nausea/vomiting.  Patient is passing flatus and having bowel movements.  Also having adequate urinary output.  Patient is out of bed to chair.    Objective     Today I performed the following: reviewed or ordered lab tests    Vitals:  Temp (24hrs), ***:**.9 °C (98.5 °*), ***:**.7 °C (98.1 °F), Max:37.4 °C (99.3 °F)    Blood pressure 12*/**, pulse 67, temperature 36.7 °C (98.1 °F), temperature source Oral, resp. rate 20, height 1.676 m (5' 5.98), weight 92.534 kg (204 lb), SpO2 95.00%.    Intake/Output totals past 24 hours:    Intake/Output Summary (Last 24 hours) at **/**/** 1145  Last data filed at **/**/** 0922   Gross per 24 hour   Intake   1700 ml   Output   4275 ml   Net  -2575 ml     Intake/Output this shift:  I/O this shift:  In: 100 [I.V.:100]  Out: 600 [Urine:600]    Drains:  NG/OG Tube 16 Fr. Left nostril (Active)   Securement anchored to nostril center with adhesive device **/*/****  9:16 AM   Placement Verification Auscultation **/*/****  9:16 AM   Site Assessment Clean;Dry;Intact **/*/****  9:16 AM   Status Suction-low intermittent **/*/****  9:16 AM   Drainage Appearance ***** **/*/****  9:16 AM   Output (mL) 150 mL **/*/****  5:25 AM       Exam  General:  No apparent distress  Cardiovascular:  regular rate and rhythm  Lungs:  clear to auscultation bilaterally  Abdomen:  Soft, non-tender, non-distended, bowel sounds present, Drain: absent  Extremities:  No clubbing, cyanosis or edema\"),\n",
       "  ('Assessment & Plan Note',\n",
       "   '- Advance to a solid diet today  - Pain control PRN'),\n",
       "  ('Assessment & Plan Note',\n",
       "   '- Advance to a solid diet today  - Pain control PRN  -If tolerates solid diet home later on today'),\n",
       "  ('Assessment & Plan Note',\n",
       "   '- Advance to a solid diet today  - Pain control PRN  -If tolerates solid diet home later on today  - stable for discharge home'),\n",
       "  ('Discharge Summary',\n",
       "   'Discharge Summary    Discharge information    Admitted date:  ******** **, **** Discharged from:  HFH I4 SURGERY    Discharge date:  ******** *, ****           Admitting Physician:  *** ******, MD    Attending Physician:  *** *. ********, MD    Discharge Clinician:  ***** ABBISS    Discharge Diagnoses:    Active Hospital Problems    Diagnosis Date Noted   __ Small bowel obstruction       Resolved Hospital Problems    Diagnosis Date Noted Date Resolved   No resolved problems to display.       Problem List - A&P Notes:    Small bowel obstruction    Assessment & Plan - ***** ABBISS, CNP  **/*/****  3:58 PM    Signed:  - Advance to a solid diet today  - Pain control PRN  -If tolerates solid diet home later on today  - stable for discharge home        Hospital Course:     Discharge Condition:    Orders Placed This Encounter   Procedures   __ Discharge patient     Standing Status: Standing      Number of Occurrences: 1      Standing Expiration Date:      Order Specific Question:  Patient Condition     Answer:  Good       Disposition:     Operations/Procedures (if any):       Recent Immunizations:    Most Recent Immunizations   Administered Date(s) Administered   __ Hib Unspecified,historical **/**/****   __ Influenza *** 3 yrs. + **/**/****   __ Meningococcal Polysaccharide **/**/****   __ Pneumococcal Polysaccharide **/**/****   __ Td **/**/****   __ Tdap **/**/****   __ Zoster **/**/****              Medication List      CONTINUE taking these medications         diclofenac sodium 1 % Gel   Apply 4 times daily       fluticasone 50 mcg/actuation nasal spray   Commonly known as:  Flonase   2 sprays by Nasal route daily.       HYDROcodone-acetaminophen 5-325 mg per tablet   Commonly known as:  NORCO       losartan 50 MG tablet   Commonly known as:  Cozaar   Take 1 tablet (50 mg total) by mouth daily.       Osteo-Poretical 600mg (1,000mg) -1,000 unit Tab   Generic drug:  calcium carbonate-vitamin D3   1\\xa0tablet tablet by mouth every morning       Ventolin HFA 90 mcg/actuation inhaler   Generic drug:  albuterol   2\\xa0puff puff using inhaler every four to six hours as needed       Xanax 0.5 MG tablet   Generic drug:  ALPRAZolam   1 tablet by mouth  as directed             Discharge Orders:    Diet Regular     Activity as tolerated     No dressing needed        Follow-up:  No follow-up provider specified.     Signed:  ***** ABBISS  **/*/****'),\n",
       "  ('Discharge Summary',\n",
       "   'Discharge Summary    Discharge information    Admitted date:  ******** **, **** Discharged from:  HFH I4 SURGERY    Discharge date:  ******** *, ****           Admitting Physician:  *** ******, MD    Attending Physician:  *** *. ********, MD    Discharge Clinician:  ***** ABBISS    Discharge Diagnoses:    Active Hospital Problems    Diagnosis Date Noted   __ Small bowel obstruction       Resolved Hospital Problems    Diagnosis Date Noted Date Resolved   No resolved problems to display.       Problem List - A&P Notes:    Small bowel obstruction    Assessment & Plan - ***** ABBISS, CNP  **/*/****  3:58 PM    Signed:  - Advance to a solid diet today  - Pain control PRN  -If tolerates solid diet home later on today  - stable for discharge home      Hospital Course:     Discharge Condition:    Orders Placed This Encounter   Procedures   __ Discharge patient     Standing Status: Standing      Number of Occurrences: 1      Standing Expiration Date:      Order Specific Question:  Patient Condition     Answer:  Good       Disposition:     Operations/Procedures (if any):       Recent Immunizations:    Most Recent Immunizations   Administered Date(s) Administered   __ Hib Unspecified,historical **/**/****   __ Influenza *** 3 yrs. + **/**/****   __ Meningococcal Polysaccharide **/**/****   __ Pneumococcal Polysaccharide **/**/****   __ Td **/**/****   __ Tdap **/**/****   __ Zoster **/**/****       Unresulted labs:      Patient Instructions       Medication List      CONTINUE taking these medications         diclofenac sodium 1 % Gel   Apply 4 times daily       fluticasone 50 mcg/actuation nasal spray   Commonly known as:  Flonase   2 sprays by Nasal route daily.       HYDROcodone-acetaminophen 5-325 mg per tablet   Commonly known as:  NORCO       losartan 50 MG tablet   Commonly known as:  Cozaar   Take 1 tablet (50 mg total) by mouth daily.       Osteo-Poretical 600mg (1,000mg) -1,000 unit Tab   Generic drug:  calcium carbonate-vitamin D3   1\\xa0tablet tablet by mouth every morning       Ventolin HFA 90 mcg/actuation inhaler   Generic drug:  albuterol   2\\xa0puff puff using inhaler every four to six hours as needed       Xanax 0.5 MG tablet   Generic drug:  ALPRAZolam   1 tablet by mouth  as directed             Discharge Orders:    Diet Regular     Activity as tolerated     No dressing needed        Follow-up:  No follow-up provider specified.     Signed:  ***** ABBISS  **/*/****'),\n",
       "  ('General Note',\n",
       "   'Nursing Discharge Note: Pt given discharge instructions and signed. Pt knows to follow-up with PCP. Pt aware of signs and symptoms indicating need to return. PIV discontinued without s/sx infiltration. Pt left with belongings via wheelchair and transport at 1730.'),\n",
       "  ('MD Hospital Course Note',\n",
       "   '65 yo F with complicated PMH including lymphoma s/p chemo/XRT, s/p ex lap for splenectomy and SBR for SBO (2008) presents with emesis x 6 and abdominal pain. She claims that she had a BM the day prior to admission and passed flatus the evening of presentation. She was transferred from an OSH after CT showed a partial SBO. The patient was conservatively managed with NG tube, bowel rest and IVF. Her tenderness improved significantly, she started passing gas again. The NG tube was removed on **/*.  On **/* her diet was advanced and well tolerated.  She was passing flatus and had a BM. She was discharged home in stable condition and encouraged to follow up with her PCP PRN.'),\n",
       "  ('Progress Notes',\n",
       "   \"Small bowel obstruction    Assessment & Plan - ******** *******, CNP  **/*/**** 11:39 AM    Addendum:  - Advance to a solid diet today  - Pain control PRN  -If tolerates solid diet home later on today      Disposition: Home today    Subjective/Objective  Subjective    Interval History/Symptoms:  No acute events overnight. Pain adequately controlled with current pain medications.  Current diet is CL which  well tolerated.  Denies any nausea/vomiting.  Patient is passing flatus and 1 small  bowel movement yesterday.  Also having adequate urinary output.  Patient is out of bed to chair.    Objective     Today I performed the following: reviewed or ordered lab tests    Vitals:  Temp (24hrs), ***:**.1 °C (98.7 °*), ***:**.5 °C (97.7 °F), Max:37.5 °C (99.5 °F)    Blood pressure 12*/**, pulse 76, temperature 37 °C (98.6 °F), temperature source Oral, resp. rate 20, height 1.676 m (5' 5.98), weight 92.534 kg (204 lb), SpO2 95.00%.    Intake/Output totals past 24 hours:    Intake/Output Summary (Last 24 hours) at **/**/** 1136  Last data filed at **/**/** 1017   Gross per 24 hour   Intake 3353.75 ml   Output   4600 ml   Net -1246.25 ml     Intake/Output this shift:  I/O this shift:  In: 360 [P.O.:360]  Out: 900 [Urine:900]    Exam  General:  No apparent distress  Cardiovascular:  regular rate and rhythm  Lungs:  clear to auscultation bilaterally  Abdomen:  Soft, non-tender, non-distended, bowel sounds present, Drain: absent  Extremities:  No clubbing, cyanosis or edema\"),\n",
       "  ('Progress Notes',\n",
       "   \"Unless otherwise indicated below, I saw and evaluated the patient on the date of the note.  I have reviewed the patient's information, participated in the care of the patient, and I concur with the assessment and plan except as noted below.\"),\n",
       "  ('Subjective & Objective',\n",
       "   \"Subjective    Interval History/Symptoms:  No acute events overnight. Pain adequately controlled with current pain medications.  Current diet is CL which  well tolerated.  Denies any nausea/vomiting.  Patient is passing flatus and 1 small  bowel movement yesterday.  Also having adequate urinary output.  Patient is out of bed to chair.    Objective     Today I performed the following: reviewed or ordered lab tests    Vitals:  Temp (24hrs), ***:** °* (98.6 °*), ***:**.5 °C (97.7 °F), Max:37.5 °C (99.5 °F)    Blood pressure 120/66, pulse 78, temperature 36.9 °C (98.4 °F), temperature source Oral, resp. rate 20, height 1.676 m (5' 5.98), weight 92.534 kg (204 lb), SpO2 98.00%.    Intake/Output totals past 24 hours:    Intake/Output Summary (Last 24 hours) at **/**/** 1558  Last data filed at **/**/** 1518   Gross per 24 hour   Intake 3857.5 ml   Output   5200 ml   Net -1342.5 ml     Intake/Output this shift:  I/O this shift:  In: 1897.5 [P.O.:1200; I.V.:597.5; IV Piggyback:100]  Out: 2000 [Urine:2000]    Exam  General:  No apparent distress  Cardiovascular:  regular rate and rhythm  Lungs:  clear to auscultation bilaterally  Abdomen:  Soft, non-tender, non-distended, bowel sounds present, Drain: absent  Extremities:  No clubbing, cyanosis or edema\"),\n",
       "  ('Subjective & Objective',\n",
       "   \"Subjective    Interval History/Symptoms:  No acute events overnight. Pain adequately controlled with current pain medications.  Current diet is CL which  well tolerated.  Denies any nausea/vomiting.  Patient is passing flatus and 1 small  bowel movement yesterday.  Also having adequate urinary output.  Patient is out of bed to chair.    Objective     Today I performed the following: reviewed or ordered lab tests    Vitals:  Temp (24hrs), ***:**.1 °C (98.7 °*), ***:**.5 °C (97.7 °F), Max:37.5 °C (99.5 °F)    Blood pressure 12*/**, pulse 76, temperature 37 °C (98.6 °F), temperature source Oral, resp. rate 20, height 1.676 m (5' 5.98), weight 92.534 kg (204 lb), SpO2 95.00%.    Intake/Output totals past 24 hours:    Intake/Output Summary (Last 24 hours) at **/**/** 1136  Last data filed at **/**/** 1017   Gross per 24 hour   Intake 3353.75 ml   Output   4600 ml   Net -1246.25 ml     Intake/Output this shift:  I/O this shift:  In: 360 [P.O.:360]  Out: 900 [Urine:900]    Exam  General:  No apparent distress  Cardiovascular:  regular rate and rhythm  Lungs:  clear to auscultation bilaterally  Abdomen:  Soft, non-tender, non-distended, bowel sounds present, Drain: absent  Extremities:  No clubbing, cyanosis or edema\"),\n",
       "  ('Discharge Summary',\n",
       "   'I was present for the entire period between opening and closing of the procedure(s).    *** ********'),\n",
       "  ('Discharge Summary',\n",
       "   \"Unless otherwise indicated below, I saw and evaluated the patient on the date of the note.  I have reviewed the patient's information, participated in the care of the patient, and I concur with the assessment and plan except as noted below.\"),\n",
       "  ('H&P',\n",
       "   \"Unless otherwise indicated below, I saw and evaluated the patient on the date of the note.  I have reviewed the patient's information, participated in the care of the patient, and I concur with the assessment and plan except as noted below.     *** ******\"),\n",
       "  ('Telephone Encounter',\n",
       "   \"TRANSITIONAL CARE MANAGEMENT - Initial Patient Contact  To be completed by Medical Assistant or Nurse      Date and time of phone call: **/*/** 0958    Length of discussion with patient or caregiver: 3 min    Name *** ************ (to patient) of person you spoke with? pt    Date and time of upcoming appointment: will call to schedule     Scheduled with Dr. samuel    Details of today's discussion: pt is feeling better. States she did not need surgery. Denies any questions concerns about her DC instructions. **** call to schedule appt with dr ******.\")),\n",
       " 'N')"
      ]
     },
     "execution_count": 60,
     "metadata": {},
     "output_type": "execute_result"
    }
   ],
   "source": [
    "nhl_progress_notes_with_label_updated[0]"
   ]
  },
  {
   "cell_type": "code",
   "execution_count": 74,
   "metadata": {
    "execution": {
     "iopub.execute_input": "2025-07-17T05:05:38.112441Z",
     "iopub.status.busy": "2025-07-17T05:05:38.111697Z",
     "iopub.status.idle": "2025-07-17T05:05:38.118127Z",
     "shell.execute_reply": "2025-07-17T05:05:38.117299Z",
     "shell.execute_reply.started": "2025-07-17T05:05:38.112407Z"
    },
    "trusted": true
   },
   "outputs": [
    {
     "data": {
      "text/plain": [
       "542"
      ]
     },
     "execution_count": 74,
     "metadata": {},
     "output_type": "execute_result"
    }
   ],
   "source": [
    "len(nhl_progress_notes_with_label_updated)"
   ]
  },
  {
   "cell_type": "code",
   "execution_count": 62,
   "metadata": {
    "execution": {
     "iopub.execute_input": "2025-07-17T04:57:51.345307Z",
     "iopub.status.busy": "2025-07-17T04:57:51.344697Z",
     "iopub.status.idle": "2025-07-17T04:57:51.348852Z",
     "shell.execute_reply": "2025-07-17T04:57:51.348106Z",
     "shell.execute_reply.started": "2025-07-17T04:57:51.345284Z"
    },
    "trusted": true
   },
   "outputs": [],
   "source": [
    "req_data_info = [\n",
    "    (item[0], item[1], item[2]#.strftime('%Y-%m-%d')\n",
    "    )\n",
    "    for item in req_data_info\n",
    "]"
   ]
  },
  {
   "cell_type": "code",
   "execution_count": 63,
   "metadata": {
    "execution": {
     "iopub.execute_input": "2025-07-17T04:57:52.101911Z",
     "iopub.status.busy": "2025-07-17T04:57:52.101423Z",
     "iopub.status.idle": "2025-07-17T04:57:52.106327Z",
     "shell.execute_reply": "2025-07-17T04:57:52.105708Z",
     "shell.execute_reply.started": "2025-07-17T04:57:52.101885Z"
    },
    "trusted": true
   },
   "outputs": [
    {
     "data": {
      "text/plain": [
       "271"
      ]
     },
     "execution_count": 63,
     "metadata": {},
     "output_type": "execute_result"
    }
   ],
   "source": [
    "len(req_data_info)"
   ]
  },
  {
   "cell_type": "code",
   "execution_count": 64,
   "metadata": {
    "execution": {
     "iopub.execute_input": "2025-07-17T04:57:53.610515Z",
     "iopub.status.busy": "2025-07-17T04:57:53.609842Z",
     "iopub.status.idle": "2025-07-17T04:57:53.615038Z",
     "shell.execute_reply": "2025-07-17T04:57:53.614303Z",
     "shell.execute_reply.started": "2025-07-17T04:57:53.610488Z"
    },
    "trusted": true
   },
   "outputs": [
    {
     "data": {
      "text/plain": [
       "[(16, Timestamp('2017-07-11 00:00:00'), Timestamp('2018-01-07 00:00:00')),\n",
       " (44, Timestamp('2020-02-07 00:00:00'), Timestamp('2020-08-05 00:00:00'))]"
      ]
     },
     "execution_count": 64,
     "metadata": {},
     "output_type": "execute_result"
    }
   ],
   "source": [
    "req_data_info[:2]"
   ]
  },
  {
   "cell_type": "code",
   "execution_count": 76,
   "metadata": {
    "execution": {
     "iopub.execute_input": "2025-07-17T05:06:03.736668Z",
     "iopub.status.busy": "2025-07-17T05:06:03.736393Z",
     "iopub.status.idle": "2025-07-17T05:06:03.743881Z",
     "shell.execute_reply": "2025-07-17T05:06:03.743038Z",
     "shell.execute_reply.started": "2025-07-17T05:06:03.736647Z"
    },
    "trusted": true
   },
   "outputs": [
    {
     "data": {
      "text/plain": [
       "(array(['N', 'Y'], dtype='<U1'), array([522,  20]))"
      ]
     },
     "execution_count": 76,
     "metadata": {},
     "output_type": "execute_result"
    }
   ],
   "source": [
    "labels = []\n",
    "for sample in nhl_progress_notes_with_label_updated:\n",
    "    labels.append(sample[6])\n",
    "\n",
    "np.unique(labels, return_counts =True)"
   ]
  },
  {
   "cell_type": "code",
   "execution_count": 24,
   "metadata": {
    "collapsed": true,
    "execution": {
     "iopub.execute_input": "2025-07-17T04:18:28.400941Z",
     "iopub.status.busy": "2025-07-17T04:18:28.400731Z",
     "iopub.status.idle": "2025-07-17T04:18:32.161128Z",
     "shell.execute_reply": "2025-07-17T04:18:32.159815Z",
     "shell.execute_reply.started": "2025-07-17T04:18:28.400925Z"
    },
    "jupyter": {
     "outputs_hidden": true
    },
    "trusted": true
   },
   "outputs": [
    {
     "name": "stderr",
     "output_type": "stream",
     "text": [
      " 28%|██▊       | 66/234 [00:03<00:09, 18.08it/s]\n"
     ]
    },
    {
     "ename": "KeyboardInterrupt",
     "evalue": "",
     "output_type": "error",
     "traceback": [
      "\u001b[0;31m---------------------------------------------------------------------------\u001b[0m",
      "\u001b[0;31mKeyboardInterrupt\u001b[0m                         Traceback (most recent call last)",
      "\u001b[0;32m/tmp/ipykernel_31/669146766.py\u001b[0m in \u001b[0;36m<cell line: 0>\u001b[0;34m()\u001b[0m\n\u001b[1;32m      4\u001b[0m     \u001b[0;32mif\u001b[0m \u001b[0mdata\u001b[0m\u001b[0;34m[\u001b[0m\u001b[0;36m0\u001b[0m\u001b[0;34m]\u001b[0m\u001b[0;34m==\u001b[0m\u001b[0;36m138\u001b[0m \u001b[0;32mand\u001b[0m \u001b[0mdata\u001b[0m\u001b[0;34m[\u001b[0m\u001b[0;36m6\u001b[0m\u001b[0;34m]\u001b[0m\u001b[0;34m==\u001b[0m\u001b[0;34m'Y'\u001b[0m\u001b[0;34m:\u001b[0m\u001b[0;34m\u001b[0m\u001b[0;34m\u001b[0m\u001b[0m\n\u001b[1;32m      5\u001b[0m         \u001b[0;32mfor\u001b[0m \u001b[0mnotes\u001b[0m \u001b[0;32min\u001b[0m \u001b[0mdata\u001b[0m\u001b[0;34m[\u001b[0m\u001b[0;36m5\u001b[0m\u001b[0;34m]\u001b[0m\u001b[0;34m:\u001b[0m\u001b[0;34m\u001b[0m\u001b[0;34m\u001b[0m\u001b[0m\n\u001b[0;32m----> 6\u001b[0;31m             \u001b[0mtest_split\u001b[0m\u001b[0;34m.\u001b[0m\u001b[0mextend\u001b[0m\u001b[0;34m(\u001b[0m\u001b[0mclinical_notes_sentence_splitter\u001b[0m\u001b[0;34m(\u001b[0m\u001b[0mnotes\u001b[0m\u001b[0;34m[\u001b[0m\u001b[0;36m1\u001b[0m\u001b[0;34m]\u001b[0m\u001b[0;34m)\u001b[0m\u001b[0;34m)\u001b[0m\u001b[0;34m\u001b[0m\u001b[0;34m\u001b[0m\u001b[0m\n\u001b[0m\u001b[1;32m      7\u001b[0m         \u001b[0mtest\u001b[0m\u001b[0;34m.\u001b[0m\u001b[0mappend\u001b[0m\u001b[0;34m(\u001b[0m\u001b[0;34m[\u001b[0m\u001b[0mdata\u001b[0m\u001b[0;34m[\u001b[0m\u001b[0;36m0\u001b[0m\u001b[0;34m]\u001b[0m\u001b[0;34m,\u001b[0m\u001b[0mdata\u001b[0m\u001b[0;34m[\u001b[0m\u001b[0;36m1\u001b[0m\u001b[0;34m]\u001b[0m\u001b[0;34m,\u001b[0m\u001b[0mdata\u001b[0m\u001b[0;34m[\u001b[0m\u001b[0;36m2\u001b[0m\u001b[0;34m]\u001b[0m\u001b[0;34m,\u001b[0m \u001b[0mdata\u001b[0m\u001b[0;34m[\u001b[0m\u001b[0;36m3\u001b[0m\u001b[0;34m]\u001b[0m\u001b[0;34m,\u001b[0m\u001b[0mtest_split\u001b[0m\u001b[0;34m]\u001b[0m\u001b[0;34m)\u001b[0m\u001b[0;34m\u001b[0m\u001b[0;34m\u001b[0m\u001b[0m\n",
      "\u001b[0;32m/tmp/ipykernel_31/3468784010.py\u001b[0m in \u001b[0;36mclinical_notes_sentence_splitter\u001b[0;34m(text)\u001b[0m\n\u001b[1;32m      1\u001b[0m \u001b[0;32mdef\u001b[0m \u001b[0mclinical_notes_sentence_splitter\u001b[0m\u001b[0;34m(\u001b[0m\u001b[0mtext\u001b[0m\u001b[0;34m)\u001b[0m\u001b[0;34m:\u001b[0m\u001b[0;34m\u001b[0m\u001b[0;34m\u001b[0m\u001b[0m\n\u001b[0;32m----> 2\u001b[0;31m     \u001b[0;32mreturn\u001b[0m \u001b[0;34m[\u001b[0m\u001b[0manno\u001b[0m\u001b[0;34m.\u001b[0m\u001b[0mresult\u001b[0m \u001b[0;32mfor\u001b[0m \u001b[0manno\u001b[0m \u001b[0;32min\u001b[0m \u001b[0msd_model\u001b[0m\u001b[0;34m.\u001b[0m\u001b[0mfullAnnotate\u001b[0m\u001b[0;34m(\u001b[0m\u001b[0mtext\u001b[0m\u001b[0;34m)\u001b[0m\u001b[0;34m[\u001b[0m\u001b[0;36m0\u001b[0m\u001b[0;34m]\u001b[0m\u001b[0;34m[\u001b[0m\u001b[0;34m\"sentences\"\u001b[0m\u001b[0;34m]\u001b[0m\u001b[0;34m]\u001b[0m\u001b[0;34m\u001b[0m\u001b[0;34m\u001b[0m\u001b[0m\n\u001b[0m",
      "\u001b[0;32m/usr/local/lib/python3.11/dist-packages/sparknlp/base/light_pipeline.py\u001b[0m in \u001b[0;36mfullAnnotate\u001b[0;34m(self, target, optional_target)\u001b[0m\n\u001b[1;32m    198\u001b[0m         \u001b[0;32mif\u001b[0m \u001b[0moptional_target\u001b[0m \u001b[0;34m==\u001b[0m \u001b[0;34m\"\"\u001b[0m\u001b[0;34m:\u001b[0m\u001b[0;34m\u001b[0m\u001b[0;34m\u001b[0m\u001b[0m\n\u001b[1;32m    199\u001b[0m             \u001b[0;32mif\u001b[0m \u001b[0mself\u001b[0m\u001b[0;34m.\u001b[0m\u001b[0m__isTextInput\u001b[0m\u001b[0;34m(\u001b[0m\u001b[0mtarget\u001b[0m\u001b[0;34m)\u001b[0m\u001b[0;34m:\u001b[0m\u001b[0;34m\u001b[0m\u001b[0;34m\u001b[0m\u001b[0m\n\u001b[0;32m--> 200\u001b[0;31m                 \u001b[0mresult\u001b[0m \u001b[0;34m=\u001b[0m \u001b[0mself\u001b[0m\u001b[0;34m.\u001b[0m\u001b[0m__fullAnnotateText\u001b[0m\u001b[0;34m(\u001b[0m\u001b[0mtarget\u001b[0m\u001b[0;34m)\u001b[0m\u001b[0;34m\u001b[0m\u001b[0;34m\u001b[0m\u001b[0m\n\u001b[0m\u001b[1;32m    201\u001b[0m             \u001b[0;32melif\u001b[0m \u001b[0mself\u001b[0m\u001b[0;34m.\u001b[0m\u001b[0m__isAudioInput\u001b[0m\u001b[0;34m(\u001b[0m\u001b[0mtarget\u001b[0m\u001b[0;34m)\u001b[0m\u001b[0;34m:\u001b[0m\u001b[0;34m\u001b[0m\u001b[0;34m\u001b[0m\u001b[0m\n\u001b[1;32m    202\u001b[0m                 \u001b[0mresult\u001b[0m \u001b[0;34m=\u001b[0m \u001b[0mself\u001b[0m\u001b[0;34m.\u001b[0m\u001b[0m__fullAnnotateAudio\u001b[0m\u001b[0;34m(\u001b[0m\u001b[0mtarget\u001b[0m\u001b[0;34m)\u001b[0m\u001b[0;34m\u001b[0m\u001b[0;34m\u001b[0m\u001b[0m\n",
      "\u001b[0;32m/usr/local/lib/python3.11/dist-packages/sparknlp/base/light_pipeline.py\u001b[0m in \u001b[0;36m__fullAnnotateText\u001b[0;34m(self, target)\u001b[0m\n\u001b[1;32m    240\u001b[0m                 \u001b[0mtarget\u001b[0m \u001b[0;34m=\u001b[0m \u001b[0;34m[\u001b[0m\u001b[0mtarget\u001b[0m\u001b[0;34m]\u001b[0m\u001b[0;34m\u001b[0m\u001b[0;34m\u001b[0m\u001b[0m\n\u001b[1;32m    241\u001b[0m \u001b[0;34m\u001b[0m\u001b[0m\n\u001b[0;32m--> 242\u001b[0;31m             \u001b[0;32mfor\u001b[0m \u001b[0mannotations_result\u001b[0m \u001b[0;32min\u001b[0m \u001b[0mself\u001b[0m\u001b[0;34m.\u001b[0m\u001b[0m_lightPipeline\u001b[0m\u001b[0;34m.\u001b[0m\u001b[0mfullAnnotateJava\u001b[0m\u001b[0;34m(\u001b[0m\u001b[0mtarget\u001b[0m\u001b[0;34m)\u001b[0m\u001b[0;34m:\u001b[0m\u001b[0;34m\u001b[0m\u001b[0;34m\u001b[0m\u001b[0m\n\u001b[0m\u001b[1;32m    243\u001b[0m                 \u001b[0mresult\u001b[0m\u001b[0;34m.\u001b[0m\u001b[0mappend\u001b[0m\u001b[0;34m(\u001b[0m\u001b[0mself\u001b[0m\u001b[0;34m.\u001b[0m\u001b[0m__buildStages\u001b[0m\u001b[0;34m(\u001b[0m\u001b[0mannotations_result\u001b[0m\u001b[0;34m)\u001b[0m\u001b[0;34m)\u001b[0m\u001b[0;34m\u001b[0m\u001b[0;34m\u001b[0m\u001b[0m\n\u001b[1;32m    244\u001b[0m             \u001b[0;32mreturn\u001b[0m \u001b[0mresult\u001b[0m\u001b[0;34m\u001b[0m\u001b[0;34m\u001b[0m\u001b[0m\n",
      "\u001b[0;32m/usr/local/lib/python3.11/dist-packages/py4j/java_gateway.py\u001b[0m in \u001b[0;36m__call__\u001b[0;34m(self, *args)\u001b[0m\n\u001b[1;32m   1319\u001b[0m             \u001b[0mproto\u001b[0m\u001b[0;34m.\u001b[0m\u001b[0mEND_COMMAND_PART\u001b[0m\u001b[0;34m\u001b[0m\u001b[0;34m\u001b[0m\u001b[0m\n\u001b[1;32m   1320\u001b[0m \u001b[0;34m\u001b[0m\u001b[0m\n\u001b[0;32m-> 1321\u001b[0;31m         \u001b[0manswer\u001b[0m \u001b[0;34m=\u001b[0m \u001b[0mself\u001b[0m\u001b[0;34m.\u001b[0m\u001b[0mgateway_client\u001b[0m\u001b[0;34m.\u001b[0m\u001b[0msend_command\u001b[0m\u001b[0;34m(\u001b[0m\u001b[0mcommand\u001b[0m\u001b[0;34m)\u001b[0m\u001b[0;34m\u001b[0m\u001b[0;34m\u001b[0m\u001b[0m\n\u001b[0m\u001b[1;32m   1322\u001b[0m         return_value = get_return_value(\n\u001b[1;32m   1323\u001b[0m             answer, self.gateway_client, self.target_id, self.name)\n",
      "\u001b[0;32m/usr/local/lib/python3.11/dist-packages/py4j/java_gateway.py\u001b[0m in \u001b[0;36msend_command\u001b[0;34m(self, command, retry, binary)\u001b[0m\n\u001b[1;32m   1036\u001b[0m         \u001b[0mconnection\u001b[0m \u001b[0;34m=\u001b[0m \u001b[0mself\u001b[0m\u001b[0;34m.\u001b[0m\u001b[0m_get_connection\u001b[0m\u001b[0;34m(\u001b[0m\u001b[0;34m)\u001b[0m\u001b[0;34m\u001b[0m\u001b[0;34m\u001b[0m\u001b[0m\n\u001b[1;32m   1037\u001b[0m         \u001b[0;32mtry\u001b[0m\u001b[0;34m:\u001b[0m\u001b[0;34m\u001b[0m\u001b[0;34m\u001b[0m\u001b[0m\n\u001b[0;32m-> 1038\u001b[0;31m             \u001b[0mresponse\u001b[0m \u001b[0;34m=\u001b[0m \u001b[0mconnection\u001b[0m\u001b[0;34m.\u001b[0m\u001b[0msend_command\u001b[0m\u001b[0;34m(\u001b[0m\u001b[0mcommand\u001b[0m\u001b[0;34m)\u001b[0m\u001b[0;34m\u001b[0m\u001b[0;34m\u001b[0m\u001b[0m\n\u001b[0m\u001b[1;32m   1039\u001b[0m             \u001b[0;32mif\u001b[0m \u001b[0mbinary\u001b[0m\u001b[0;34m:\u001b[0m\u001b[0;34m\u001b[0m\u001b[0;34m\u001b[0m\u001b[0m\n\u001b[1;32m   1040\u001b[0m                 \u001b[0;32mreturn\u001b[0m \u001b[0mresponse\u001b[0m\u001b[0;34m,\u001b[0m \u001b[0mself\u001b[0m\u001b[0;34m.\u001b[0m\u001b[0m_create_connection_guard\u001b[0m\u001b[0;34m(\u001b[0m\u001b[0mconnection\u001b[0m\u001b[0;34m)\u001b[0m\u001b[0;34m\u001b[0m\u001b[0;34m\u001b[0m\u001b[0m\n",
      "\u001b[0;32m/usr/local/lib/python3.11/dist-packages/py4j/clientserver.py\u001b[0m in \u001b[0;36msend_command\u001b[0;34m(self, command)\u001b[0m\n\u001b[1;32m    509\u001b[0m         \u001b[0;32mtry\u001b[0m\u001b[0;34m:\u001b[0m\u001b[0;34m\u001b[0m\u001b[0;34m\u001b[0m\u001b[0m\n\u001b[1;32m    510\u001b[0m             \u001b[0;32mwhile\u001b[0m \u001b[0;32mTrue\u001b[0m\u001b[0;34m:\u001b[0m\u001b[0;34m\u001b[0m\u001b[0;34m\u001b[0m\u001b[0m\n\u001b[0;32m--> 511\u001b[0;31m                 \u001b[0manswer\u001b[0m \u001b[0;34m=\u001b[0m \u001b[0msmart_decode\u001b[0m\u001b[0;34m(\u001b[0m\u001b[0mself\u001b[0m\u001b[0;34m.\u001b[0m\u001b[0mstream\u001b[0m\u001b[0;34m.\u001b[0m\u001b[0mreadline\u001b[0m\u001b[0;34m(\u001b[0m\u001b[0;34m)\u001b[0m\u001b[0;34m[\u001b[0m\u001b[0;34m:\u001b[0m\u001b[0;34m-\u001b[0m\u001b[0;36m1\u001b[0m\u001b[0;34m]\u001b[0m\u001b[0;34m)\u001b[0m\u001b[0;34m\u001b[0m\u001b[0;34m\u001b[0m\u001b[0m\n\u001b[0m\u001b[1;32m    512\u001b[0m                 \u001b[0mlogger\u001b[0m\u001b[0;34m.\u001b[0m\u001b[0mdebug\u001b[0m\u001b[0;34m(\u001b[0m\u001b[0;34m\"Answer received: {0}\"\u001b[0m\u001b[0;34m.\u001b[0m\u001b[0mformat\u001b[0m\u001b[0;34m(\u001b[0m\u001b[0manswer\u001b[0m\u001b[0;34m)\u001b[0m\u001b[0;34m)\u001b[0m\u001b[0;34m\u001b[0m\u001b[0;34m\u001b[0m\u001b[0m\n\u001b[1;32m    513\u001b[0m                 \u001b[0;31m# Happens when a the other end is dead. There might be an empty\u001b[0m\u001b[0;34m\u001b[0m\u001b[0;34m\u001b[0m\u001b[0m\n",
      "\u001b[0;32m/usr/lib/python3.11/socket.py\u001b[0m in \u001b[0;36mreadinto\u001b[0;34m(self, b)\u001b[0m\n\u001b[1;32m    716\u001b[0m         \u001b[0;32mwhile\u001b[0m \u001b[0;32mTrue\u001b[0m\u001b[0;34m:\u001b[0m\u001b[0;34m\u001b[0m\u001b[0;34m\u001b[0m\u001b[0m\n\u001b[1;32m    717\u001b[0m             \u001b[0;32mtry\u001b[0m\u001b[0;34m:\u001b[0m\u001b[0;34m\u001b[0m\u001b[0;34m\u001b[0m\u001b[0m\n\u001b[0;32m--> 718\u001b[0;31m                 \u001b[0;32mreturn\u001b[0m \u001b[0mself\u001b[0m\u001b[0;34m.\u001b[0m\u001b[0m_sock\u001b[0m\u001b[0;34m.\u001b[0m\u001b[0mrecv_into\u001b[0m\u001b[0;34m(\u001b[0m\u001b[0mb\u001b[0m\u001b[0;34m)\u001b[0m\u001b[0;34m\u001b[0m\u001b[0;34m\u001b[0m\u001b[0m\n\u001b[0m\u001b[1;32m    719\u001b[0m             \u001b[0;32mexcept\u001b[0m \u001b[0mtimeout\u001b[0m\u001b[0;34m:\u001b[0m\u001b[0;34m\u001b[0m\u001b[0;34m\u001b[0m\u001b[0m\n\u001b[1;32m    720\u001b[0m                 \u001b[0mself\u001b[0m\u001b[0;34m.\u001b[0m\u001b[0m_timeout_occurred\u001b[0m \u001b[0;34m=\u001b[0m \u001b[0;32mTrue\u001b[0m\u001b[0;34m\u001b[0m\u001b[0;34m\u001b[0m\u001b[0m\n",
      "\u001b[0;31mKeyboardInterrupt\u001b[0m: "
     ]
    }
   ],
   "source": [
    "test = []\n",
    "test_split=[]\n",
    "for data in tqdm(test_nhl_progress_notes_with_label):\n",
    "    if data[0]==138 and data[6]=='Y':\n",
    "        for notes in data[5]:\n",
    "            test_split.extend(clinical_notes_sentence_splitter(notes[1]))\n",
    "        test.append([data[0],data[1],data[2], data[3],test_split])   "
   ]
  },
  {
   "cell_type": "markdown",
   "metadata": {},
   "source": [
    "# Splitting texts into sentences for each patient"
   ]
  },
  {
   "cell_type": "code",
   "execution_count": null,
   "metadata": {
    "trusted": true
   },
   "outputs": [],
   "source": [
    "text= 'Subjective:      Patient ID: ***** *** ******* is a 79 y.o. female with history of DLBCL. Chief Complaint:  -- **** is a 79 y.o. lady with recently diagnosed DLBCL, ABC type, double expressor of BCL-2 and BCL-6, stage IIE, with pre-existing low grade B cell lymphoma in **. She is receiving R-miniCHOP. At the time of her DLBCL diagnosis she had a large lung mass as well as cervical LAD. Bx of both her lung and cervical LNs was done and confirmed the diagnosis.  -- Cycle #1 R-miniCHOP was on */**/**.  -- Cycle #2 R-miniCHOP was on */*/**.  -- Cycle #3 R-miniCHOP was on 5*/**/**.  -- Cycle #4 R-miniCHOP on */**/**.  -- PET CT planned on */**/**.  -- Cycle #5 R-**** on */*/**. The patient tolerated the full dose chemo well except for some more fatigue.  -- Restaging PET CT on */**/** showed significant response to treatment, however there was a left renal mass concerning for malignancy (seen also on ***** ** in */****) and an uptake in the thyroid.  -- Cycle #6 R-**** on */**/**.  -- Restaging PET CT on */**/**** showed further improvement in left hilar area as well as the splenic lesion. Because of this, an additional 2 cycles of R-**** were planned, to achieve a total dose of chemotherapy equivalent to 6 cycles of R-****.   -- Cycle #7 R-**** on */**/**.   -- The patient developed heart failure and was hospitalized for volume management. Her LV EF on */**/**** was 45%, down from 63% on */*/**** pre-chemo. Of note, her cumulative dose of doxorubicin after her last dose was 250mg/m2, I.e. within allowable cumulative dose.   -- Adjuvant RT to left hilum in **/****.  -- Restaging PET CT on */*/**** was stable.'\n",
    "\n",
    "\n",
    "# print(clinical_notes_sentence_splitter(clinical_notes_sentence_splitter(text)))\n",
    "sent_tokenized = [anno.result for anno in sd_model.fullAnnotate(text)[0][\"sentences\"]]\n",
    "# for anno in sd_model.fullAnnotate(text)[0][\"sentences\"]:\n",
    "\n",
    "print(sent_tokenized)"
   ]
  },
  {
   "cell_type": "code",
   "execution_count": null,
   "metadata": {
    "trusted": true
   },
   "outputs": [],
   "source": [
    "get_topn_reranked_sentences(sent_tokenized,n = 5)"
   ]
  },
  {
   "cell_type": "code",
   "execution_count": null,
   "metadata": {
    "trusted": true
   },
   "outputs": [],
   "source": [
    "# pat, dx_date, start_date, end_date,flt_end_date,item[5], gt"
   ]
  },
  {
   "cell_type": "code",
   "execution_count": 83,
   "metadata": {
    "execution": {
     "iopub.execute_input": "2025-07-17T05:13:45.689096Z",
     "iopub.status.busy": "2025-07-17T05:13:45.688362Z",
     "iopub.status.idle": "2025-07-17T07:28:10.013809Z",
     "shell.execute_reply": "2025-07-17T07:28:10.013022Z",
     "shell.execute_reply.started": "2025-07-17T05:13:45.689046Z"
    },
    "trusted": true
   },
   "outputs": [
    {
     "name": "stderr",
     "output_type": "stream",
     "text": [
      "100%|██████████| 542/542 [2:14:24<00:00, 14.88s/it]  \n"
     ]
    }
   ],
   "source": [
    "\n",
    "test_pat_dates_cli_sentences=[]\n",
    "for data in tqdm(nhl_progress_notes_with_label_updated):\n",
    "    split_sentences = []\n",
    "    for notes in data[5]:\n",
    "        split_sentences.append(( notes[0], clinical_notes_sentence_splitter(notes[1]))\n",
    "                              )\n",
    "    test_pat_dates_cli_sentences.append([data[0],data[1],data[2],data[3], data[4], data[6],split_sentences])"
   ]
  },
  {
   "cell_type": "code",
   "execution_count": null,
   "metadata": {
    "execution": {
     "iopub.execute_input": "2025-07-17T07:29:17.401758Z",
     "iopub.status.busy": "2025-07-17T07:29:17.401485Z",
     "iopub.status.idle": "2025-07-17T07:29:18.304962Z",
     "shell.execute_reply": "2025-07-17T07:29:18.304016Z",
     "shell.execute_reply.started": "2025-07-17T07:29:17.401737Z"
    },
    "trusted": true
   },
   "outputs": [],
   "source": [
    "with open(ml_config.output_path,'wb') as f:\n",
    "    pickle.dump(test_pat_dates_cli_sentences,f)"
   ]
  },
  {
   "cell_type": "code",
   "execution_count": 105,
   "metadata": {
    "execution": {
     "iopub.execute_input": "2025-07-17T07:41:22.849988Z",
     "iopub.status.busy": "2025-07-17T07:41:22.849719Z",
     "iopub.status.idle": "2025-07-17T07:41:22.855008Z",
     "shell.execute_reply": "2025-07-17T07:41:22.854300Z",
     "shell.execute_reply.started": "2025-07-17T07:41:22.849968Z"
    },
    "trusted": true
   },
   "outputs": [
    {
     "data": {
      "text/plain": [
       "542"
      ]
     },
     "execution_count": 105,
     "metadata": {},
     "output_type": "execute_result"
    }
   ],
   "source": [
    "len(test_pat_dates_cli_sentences)"
   ]
  },
  {
   "cell_type": "code",
   "execution_count": 91,
   "metadata": {
    "execution": {
     "iopub.execute_input": "2025-07-17T07:30:42.934541Z",
     "iopub.status.busy": "2025-07-17T07:30:42.933960Z",
     "iopub.status.idle": "2025-07-17T07:30:44.025338Z",
     "shell.execute_reply": "2025-07-17T07:30:44.024697Z",
     "shell.execute_reply.started": "2025-07-17T07:30:42.934512Z"
    },
    "trusted": true
   },
   "outputs": [],
   "source": [
    "# test_pat_dates_cli_sentences[1]\n",
    "import gc\n",
    "\n",
    "# Delete references to your model and pipeline\n",
    "del sd_model\n",
    "del sd_pipeline\n",
    "del sentencerDL\n",
    "del documenter\n",
    "\n",
    "# Run garbage collection to clean up in Python\n",
    "gc.collect()\n",
    "\n",
    "# If you're running inside a Spark session and want to be SURE,\n",
    "# stop the Spark session (this frees all model resources, including on GPU):\n",
    "spark.stop()"
   ]
  }
 ],
 "metadata": {
  "kaggle": {
   "accelerator": "nvidiaTeslaT4",
   "dataSources": [
    {
     "datasetId": 7862378,
     "sourceId": 12463406,
     "sourceType": "datasetVersion"
    },
    {
     "datasetId": 7881460,
     "sourceId": 12489551,
     "sourceType": "datasetVersion"
    },
    {
     "datasetId": 7885868,
     "sourceId": 12495701,
     "sourceType": "datasetVersion"
    }
   ],
   "dockerImageVersionId": 31012,
   "isGpuEnabled": true,
   "isInternetEnabled": true,
   "language": "python",
   "sourceType": "notebook"
  },
  "kernelspec": {
   "display_name": "Python 3",
   "language": "python",
   "name": "python3"
  },
  "language_info": {
   "codemirror_mode": {
    "name": "ipython",
    "version": 3
   },
   "file_extension": ".py",
   "mimetype": "text/x-python",
   "name": "python",
   "nbconvert_exporter": "python",
   "pygments_lexer": "ipython3",
   "version": "3.11.11"
  }
 },
 "nbformat": 4,
 "nbformat_minor": 4
}
